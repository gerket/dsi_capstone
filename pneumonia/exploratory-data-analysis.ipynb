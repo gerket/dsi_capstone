{
 "cells": [
  {
   "cell_type": "markdown",
   "metadata": {},
   "source": [
    "<span style='color:green'> The beginning of this\n",
    "   notebook is almost entirely a starter notebook given by Kaggle in order to get contestants on their way. I have adjusted a few things in order to accommodate my file structure as well as added some notes here or there but it is mainly their work/file.</span>"
   ]
  },
  {
   "cell_type": "code",
   "execution_count": null,
   "metadata": {},
   "outputs": [],
   "source": []
  },
  {
   "cell_type": "code",
   "execution_count": null,
   "metadata": {},
   "outputs": [],
   "source": []
  },
  {
   "cell_type": "markdown",
   "metadata": {
    "_uuid": "09f14d9199ffa8cd84c499f2e9497bc8e27b15fd"
   },
   "source": [
    "# Overview\n",
    "\n",
    "Welcome to the 2018 RSNA Challenge co-hosted by Kaggle. In this competition, the primary endpoint will be the detection of bounding boxes corresponding to the diagnosis of pneumonia (e.g. lung infection) on chest radiographs, a special 2D high resolution grayscale medical image. Note that pnuemonia is just one of many possible disease processes that can occur on a chest radiograph, and that any given single image may contain 0, 1 or many boxes corresponding to possible pneumonia locations.\n",
    "\n",
    "My name is Peter Chang, MD. I am both a radiologist physician and a data scientist / software engineer with machine learning experience. Today, in this Jupyter notebook, we will explore the 2018 RSNA Challenge dataset including underlying data structures, imaging file formats and label types."
   ]
  },
  {
   "cell_type": "code",
   "execution_count": 1,
   "metadata": {
    "_cell_guid": "b1076dfc-b9ad-4769-8c92-a6c4dae69d19",
    "_uuid": "8f2839f25d086af736a60e9eeb907d3b93b6e0e5"
   },
   "outputs": [],
   "source": [
    "import glob, pylab, pandas as pd\n",
    "import pydicom, numpy as np"
   ]
  },
  {
   "cell_type": "markdown",
   "metadata": {
    "_uuid": "0f368672adb58cc7bb57ecc95a04487251bb9c2c"
   },
   "source": [
    "# Challenge Data\n",
    "\n",
    "The challenge data is organized in several files and folders. If you are following along in the Kaggle kernel, this data will be preloaded in the `../input` directory:"
   ]
  },
  {
   "cell_type": "code",
   "execution_count": 2,
   "metadata": {
    "_uuid": "1b6c13edf09c7d80145173edad847c34db1ba5f2"
   },
   "outputs": [
    {
     "name": "stdout",
     "output_type": "stream",
     "text": [
      "\u001b[34mlogs\u001b[m\u001b[m                            \u001b[34mstage_1_train_images\u001b[m\u001b[m\r\n",
      "mask_rcnn_coco.h5               \u001b[31mstage_1_train_labels.csv\u001b[m\u001b[m\r\n",
      "\u001b[31mstage_1_detailed_class_info.csv\u001b[m\u001b[m \u001b[34msubmissions\u001b[m\u001b[m\r\n",
      "\u001b[31mstage_1_sample_submission.csv\u001b[m\u001b[m   \u001b[34mzips\u001b[m\u001b[m\r\n",
      "\u001b[34mstage_1_test_images\u001b[m\u001b[m\r\n"
     ]
    }
   ],
   "source": [
    "!ls ./data"
   ]
  },
  {
   "cell_type": "markdown",
   "metadata": {
    "_uuid": "88fb25d6864f224a0995a28140de532f80cb3e6b"
   },
   "source": [
    "The several key items in this folder:\n",
    "* `stage_1_train_labels.csv`: CSV file containing training set patientIds and  labels (including bounding boxes)\n",
    "* `stage_1_detailed_class_info.csv`: CSV file containing detailed labels (explored further below)\n",
    "* `stage_1_train_images/`:  directory containing training set raw image (DICOM) files\n",
    "\n",
    "Let's go ahead and take a look at the first labels CSV file first:"
   ]
  },
  {
   "cell_type": "code",
   "execution_count": 3,
   "metadata": {
    "_uuid": "b4c54974f191b477e46370c79254f75657ed2a85",
    "scrolled": true
   },
   "outputs": [
    {
     "name": "stdout",
     "output_type": "stream",
     "text": [
      "patientId    0004cfab-14fd-4e49-80ba-63a80b6bddd6\n",
      "x                                             NaN\n",
      "y                                             NaN\n",
      "width                                         NaN\n",
      "height                                        NaN\n",
      "Target                                          0\n",
      "Name: 0, dtype: object\n"
     ]
    }
   ],
   "source": [
    "df = pd.read_csv('./data/stage_1_train_labels.csv')\n",
    "print(df.iloc[0])"
   ]
  },
  {
   "cell_type": "markdown",
   "metadata": {
    "_uuid": "5435a871306c834a2282ae867a86861f9b80a610"
   },
   "source": [
    "As you can see, each row in the CSV file contains a `patientId` (one unique value per patient), a target (either 0 or 1 for absence or presence of pneumonia, respectively) and the corresponding abnormality bounding box defined by the upper-left hand corner (x, y) coordinate and its corresponding width and height. In this particular case, the patient does *not* have pneumonia and so the corresponding bounding box information is set to `NaN`. See an example case with pnuemonia here:"
   ]
  },
  {
   "cell_type": "code",
   "execution_count": 4,
   "metadata": {
    "_uuid": "98c60a2ddf5bba070c0908d9bb705c0c5976ac7a",
    "scrolled": true
   },
   "outputs": [
    {
     "name": "stdout",
     "output_type": "stream",
     "text": [
      "patientId    00436515-870c-4b36-a041-de91049b9ab4\n",
      "x                                             264\n",
      "y                                             152\n",
      "width                                         213\n",
      "height                                        379\n",
      "Target                                          1\n",
      "Name: 4, dtype: object\n"
     ]
    }
   ],
   "source": [
    "print(df.iloc[4])"
   ]
  },
  {
   "cell_type": "markdown",
   "metadata": {
    "_uuid": "7ad152504ec74be4ac1992ca669da7ad3ce3aac2"
   },
   "source": [
    "One important thing to keep in mind is that a given `patientId` may have **multiple** boxes if more than one area of pneumonia is detected (see below for example images)."
   ]
  },
  {
   "cell_type": "markdown",
   "metadata": {
    "_cell_guid": "79c7e3d0-c299-4dcb-8224-4455121ee9b0",
    "_uuid": "d629ff2d2480ee46fbb7e2d37f6b5fab8052498a",
    "collapsed": true
   },
   "source": [
    "# Overview of DICOM files and medical images\n",
    "\n",
    "Medical images are stored in a special format known as DICOM files (`*.dcm`). They contain a combination of header metadata as well as underlying raw image arrays for pixel data. In Python, one popular library to access and manipulate DICOM files is the `pydicom` module. To use the `pydicom` library, first find the DICOM file for a given `patientId` by simply looking for the matching file in the `stage_1_train_images/` folder, and the use the `pydicom.read_file()` method to load the data:"
   ]
  },
  {
   "cell_type": "code",
   "execution_count": 5,
   "metadata": {
    "_uuid": "5f2c15162a0d1390624b42ef94d4f9e260be56ac",
    "scrolled": true
   },
   "outputs": [
    {
     "name": "stdout",
     "output_type": "stream",
     "text": [
      "(0008, 0005) Specific Character Set              CS: 'ISO_IR 100'\n",
      "(0008, 0016) SOP Class UID                       UI: Secondary Capture Image Storage\n",
      "(0008, 0018) SOP Instance UID                    UI: 1.2.276.0.7230010.3.1.4.8323329.28530.1517874485.775526\n",
      "(0008, 0020) Study Date                          DA: '19010101'\n",
      "(0008, 0030) Study Time                          TM: '000000.00'\n",
      "(0008, 0050) Accession Number                    SH: ''\n",
      "(0008, 0060) Modality                            CS: 'CR'\n",
      "(0008, 0064) Conversion Type                     CS: 'WSD'\n",
      "(0008, 0090) Referring Physician's Name          PN: ''\n",
      "(0008, 103e) Series Description                  LO: 'view: PA'\n",
      "(0010, 0010) Patient's Name                      PN: '0004cfab-14fd-4e49-80ba-63a80b6bddd6'\n",
      "(0010, 0020) Patient ID                          LO: '0004cfab-14fd-4e49-80ba-63a80b6bddd6'\n",
      "(0010, 0030) Patient's Birth Date                DA: ''\n",
      "(0010, 0040) Patient's Sex                       CS: 'F'\n",
      "(0010, 1010) Patient's Age                       AS: '51'\n",
      "(0018, 0015) Body Part Examined                  CS: 'CHEST'\n",
      "(0018, 5101) View Position                       CS: 'PA'\n",
      "(0020, 000d) Study Instance UID                  UI: 1.2.276.0.7230010.3.1.2.8323329.28530.1517874485.775525\n",
      "(0020, 000e) Series Instance UID                 UI: 1.2.276.0.7230010.3.1.3.8323329.28530.1517874485.775524\n",
      "(0020, 0010) Study ID                            SH: ''\n",
      "(0020, 0011) Series Number                       IS: '1'\n",
      "(0020, 0013) Instance Number                     IS: '1'\n",
      "(0020, 0020) Patient Orientation                 CS: ''\n",
      "(0028, 0002) Samples per Pixel                   US: 1\n",
      "(0028, 0004) Photometric Interpretation          CS: 'MONOCHROME2'\n",
      "(0028, 0010) Rows                                US: 1024\n",
      "(0028, 0011) Columns                             US: 1024\n",
      "(0028, 0030) Pixel Spacing                       DS: ['0.14300000000000002', '0.14300000000000002']\n",
      "(0028, 0100) Bits Allocated                      US: 8\n",
      "(0028, 0101) Bits Stored                         US: 8\n",
      "(0028, 0102) High Bit                            US: 7\n",
      "(0028, 0103) Pixel Representation                US: 0\n",
      "(0028, 2110) Lossy Image Compression             CS: '01'\n",
      "(0028, 2114) Lossy Image Compression Method      CS: 'ISO_10918_1'\n",
      "(7fe0, 0010) Pixel Data                          OB: Array of 142006 bytes\n"
     ]
    }
   ],
   "source": [
    "patientId = df['patientId'][0]\n",
    "dcm_file = './data/stage_1_train_images/%s.dcm' % patientId\n",
    "dcm_data = pydicom.read_file(dcm_file)\n",
    "\n",
    "print(dcm_data)"
   ]
  },
  {
   "cell_type": "code",
   "execution_count": 255,
   "metadata": {},
   "outputs": [
    {
     "data": {
      "text/plain": [
       "('51', 'F', '')"
      ]
     },
     "execution_count": 255,
     "metadata": {},
     "output_type": "execute_result"
    }
   ],
   "source": [
    "dcm_data.PatientAge, dcm_data.PatientSex, dcm_data.PatientOrientation"
   ]
  },
  {
   "cell_type": "markdown",
   "metadata": {
    "_uuid": "2cfbe9eb43f4e4922c42481739046943767f765c"
   },
   "source": [
    "Most of the standard headers containing patient identifable information have been anonymized (removed) so we are left with a relatively sparse set of metadata. The primary field we will be accessing is the underlying pixel data as follows:"
   ]
  },
  {
   "cell_type": "code",
   "execution_count": 6,
   "metadata": {
    "_uuid": "953ccb9e176398bcad8dad0241dbc1e194fa8a8e",
    "scrolled": true
   },
   "outputs": [
    {
     "name": "stdout",
     "output_type": "stream",
     "text": [
      "<class 'numpy.ndarray'>\n",
      "uint8\n",
      "(1024, 1024)\n"
     ]
    }
   ],
   "source": [
    "im = dcm_data.pixel_array\n",
    "print(type(im))\n",
    "print(im.dtype)\n",
    "print(im.shape)"
   ]
  },
  {
   "cell_type": "markdown",
   "metadata": {
    "_uuid": "ed51c8db0a041023f7fb19ecd66b08bb630a1485"
   },
   "source": [
    "## Considerations\n",
    "\n",
    "As we can see here, the pixel array data is stored as a Numpy array, a powerful numeric Python library for handling and manipulating matrix data (among other things). In addition, it is apparent here that the original radiographs have been preprocessed for us as follows:\n",
    "\n",
    "* The relatively high dynamic range, high bit-depth original images have been rescaled to 8-bit encoding (256 grayscales). For the radiologists out there, this means that the images have been windowed and leveled already. In clinical practice, manipulating the image bit-depth is typically done manually by a radiologist to highlight certain disease processes. To visually assess the quality of the automated bit-depth downscaling and for considerations on potentially improving this baseline, consider consultation with a radiologist physician.\n",
    "\n",
    "* The relativley large original image matrices (typically acquired at >2000 x 2000) have been resized to the data-science friendly shape of 1024 x 1024. For the purposes of this challenge, the diagnosis of most pneumonia cases can typically be made at this resolution. To visually assess the feasibility of diagnosis at this resolution, and to determine the optimal resolution for pneumonia detection (oftentimes can be done at a resolution *even smaller* than 1024 x 1024), consider consultation with a radiogist physician.\n",
    "\n",
    "## Visualizing An Example\n",
    "\n",
    "To take a look at this first DICOM image, let's use the `pylab.imshow()` method:"
   ]
  },
  {
   "cell_type": "code",
   "execution_count": 7,
   "metadata": {
    "_uuid": "59ac176a83e8fc1f11531a216723791577948fbe"
   },
   "outputs": [
    {
     "data": {
      "text/plain": [
       "(-0.5, 1023.5, 1023.5, -0.5)"
      ]
     },
     "execution_count": 7,
     "metadata": {},
     "output_type": "execute_result"
    },
    {
     "data": {
      "image/png": "[encoded data removed]",
      "text/plain": [
       "<Figure size 432x288 with 1 Axes>"
      ]
     },
     "metadata": {},
     "output_type": "display_data"
    }
   ],
   "source": [
    "pylab.imshow(im, cmap=pylab.cm.gist_gray)\n",
    "pylab.axis('off')"
   ]
  },
  {
   "cell_type": "markdown",
   "metadata": {
    "_uuid": "78c0e24742ce4f61c153f363e66ac5d7e5efbb0e"
   },
   "source": [
    "# Exploring the Data and Labels\n",
    "\n",
    "As alluded to above, any given patient may potentially have many boxes if there are several different suspicious areas of pneumonia. To collapse the current CSV file dataframe into a dictionary with unique entries, consider the following method:"
   ]
  },
  {
   "cell_type": "code",
   "execution_count": 8,
   "metadata": {
    "_uuid": "626ee0aa4038a988bac8e8c800c4bf4270af1b76"
   },
   "outputs": [],
   "source": [
    "def parse_data(df):\n",
    "    \"\"\"\n",
    "    Method to read a CSV file (Pandas dataframe) and parse the \n",
    "    data into the following nested dictionary:\n",
    "\n",
    "      parsed = {\n",
    "        \n",
    "        'patientId-00': {\n",
    "            'dicom': path/to/dicom/file,\n",
    "            'label': either 0 or 1 for normal or pnuemonia, \n",
    "            'boxes': list of box(es)\n",
    "        },\n",
    "        'patientId-01': {\n",
    "            'dicom': path/to/dicom/file,\n",
    "            'label': either 0 or 1 for normal or pnuemonia, \n",
    "            'boxes': list of box(es)\n",
    "        }, ...\n",
    "\n",
    "      }\n",
    "\n",
    "    \"\"\"\n",
    "    # --- Define lambda to extract coords in list [y, x, height, width]\n",
    "    extract_box = lambda row: [row['y'], row['x'], row['height'], row['width']]\n",
    "\n",
    "    parsed = {}\n",
    "    for n, row in df.iterrows():\n",
    "        # --- Initialize patient entry into parsed \n",
    "        pid = row['patientId']\n",
    "        if pid not in parsed:\n",
    "            parsed[pid] = {\n",
    "                'dicom': './data/stage_1_train_images/%s.dcm' % pid,\n",
    "                'label': row['Target'],\n",
    "                'boxes': []}\n",
    "\n",
    "        # --- Add box if opacity is present\n",
    "        if parsed[pid]['label'] == 1:\n",
    "            parsed[pid]['boxes'].append(extract_box(row))\n",
    "\n",
    "    return parsed"
   ]
  },
  {
   "cell_type": "markdown",
   "metadata": {
    "_uuid": "cbb1a9cf9eb93df25896f47f80257aba561c0d00"
   },
   "source": [
    "Let's use the method here:"
   ]
  },
  {
   "cell_type": "code",
   "execution_count": 9,
   "metadata": {
    "_uuid": "fbf2c2f60dcc661c249989eb063382ad7304aa10",
    "scrolled": false
   },
   "outputs": [],
   "source": [
    "parsed = parse_data(df)"
   ]
  },
  {
   "cell_type": "markdown",
   "metadata": {
    "_uuid": "7b851e847ce442d690a8dc55937070235c7a16f0"
   },
   "source": [
    "As we saw above, patient `00436515-870c-4b36-a041-de91049b9ab4` has pnuemonia so lets check our new `parsed` dict here to see the patients corresponding bounding boxes:"
   ]
  },
  {
   "cell_type": "code",
   "execution_count": 10,
   "metadata": {
    "_uuid": "459c07f8fadd3f30aff6ff26bdd4b4c8fe4f79f5"
   },
   "outputs": [
    {
     "data": {
      "text/plain": [
       "{'dicom': './data/stage_1_train_images/00436515-870c-4b36-a041-de91049b9ab4.dcm',\n",
       " 'label': 1,\n",
       " 'boxes': [[152.0, 264.0, 379.0, 213.0], [152.0, 562.0, 453.0, 256.0]]}"
      ]
     },
     "metadata": {},
     "output_type": "display_data"
    }
   ],
   "source": [
    "display(parsed['00436515-870c-4b36-a041-de91049b9ab4'])"
   ]
  },
  {
   "cell_type": "markdown",
   "metadata": {
    "_uuid": "d54c891b2477a2c022b8b4e3ffd73422eaf862e1"
   },
   "source": [
    "# Visualizing Boxes\n",
    "\n",
    "In order to overlay color boxes on the original grayscale DICOM files, consider using the following  methods (below, the main method `draw()` requires the method `overlay_box()`):"
   ]
  },
  {
   "cell_type": "code",
   "execution_count": 11,
   "metadata": {
    "_uuid": "6be7b744e42ac7204ea661c0c7175881b043c5c6"
   },
   "outputs": [],
   "source": [
    "def draw(data):\n",
    "    \"\"\"\n",
    "    Method to draw single patient with bounding box(es) if present \n",
    "\n",
    "    \"\"\"\n",
    "    # --- Open DICOM file\n",
    "    d = pydicom.read_file(data['dicom'])\n",
    "    im = d.pixel_arraymonit\n",
    "\n",
    "    # --- Convert from single-channel grayscale to 3-channel RGB\n",
    "    im = np.stack([im] * 3, axis=2)\n",
    "\n",
    "    # --- Add boxes with random color if present\n",
    "    for box in data['boxes']:\n",
    "        rgb = np.floor(np.random.rand(3) * 256).astype('int')\n",
    "        im = overlay_box(im=im, box=box, rgb=rgb, stroke=6)\n",
    "\n",
    "    pylab.imshow(im, cmap=pylab.cm.gist_gray)\n",
    "    pylab.axis('off')\n",
    "\n",
    "def overlay_box(im, box, rgb, stroke=1):\n",
    "    \"\"\"\n",
    "    Method to overlay single box on image\n",
    "\n",
    "    \"\"\"\n",
    "    # --- Convert coordinates to integers\n",
    "    box = [int(b) for b in box]\n",
    "    \n",
    "    # --- Extract coordinates\n",
    "    y1, x1, height, width = box\n",
    "    y2 = y1 + height\n",
    "    x2 = x1 + width\n",
    "\n",
    "    im[y1:y1 + stroke, x1:x2] = rgb\n",
    "    im[y2:y2 + stroke, x1:x2] = rgb\n",
    "    im[y1:y2, x1:x1 + stroke] = rgb\n",
    "    im[y1:y2, x2:x2 + stroke] = rgb\n",
    "\n",
    "    return im"
   ]
  },
  {
   "cell_type": "markdown",
   "metadata": {
    "_uuid": "d10aef5768f6147aaa4c5c8dec7444fb90f0842d"
   },
   "source": [
    "As we saw above, patient `00436515-870c-4b36-a041-de91049b9ab4` has pnuemonia so let's take a look at the overlaid bounding boxes:"
   ]
  },
  {
   "cell_type": "code",
   "execution_count": 12,
   "metadata": {
    "_uuid": "ee8f69746904ae88da12f631b6c9e0b1e214c4fa",
    "scrolled": true
   },
   "outputs": [
    {
     "data": {
      "image/png": "[encoded data removed]",
      "text/plain": [
       "<Figure size 432x288 with 1 Axes>"
      ]
     },
     "metadata": {},
     "output_type": "display_data"
    }
   ],
   "source": [
    "draw(parsed['00436515-870c-4b36-a041-de91049b9ab4'])"
   ]
  },
  {
   "cell_type": "markdown",
   "metadata": {
    "_uuid": "eb00fb542999b5ffe6b32ee38321830f9b090d26"
   },
   "source": [
    "## Exploring Detailed Labels\n",
    "\n",
    "In this challenge, the primary endpoint will be the detection of bounding boxes consisting of a binary classification---e.g. the presence or absence of pneumonia. However, in addition to the binary classification, each bounding box *without* pneumonia is further categorized into *normal* or *no lung opacity / not normal*. This extra third class indicates that while pneumonia was determined not to be present, there was nonetheless some type of abnormality on the image---and oftentimes this finding may mimic the appearance of true pneumonia. Keep in mind that this extra class is provided as supplemental information to help improve algorithm accuracy if needed; generation of this separate class **will not** be a formal metric used to evaluate performance in this competition.\n",
    "\n",
    "As above, we saw that the first patient in the CSV file did not have pneumonia. Let's look at the detailed label information for this patient:"
   ]
  },
  {
   "cell_type": "code",
   "execution_count": 13,
   "metadata": {
    "_uuid": "a639baad366af644bdd8efe63712dd47cc0fe9ed"
   },
   "outputs": [
    {
     "name": "stdout",
     "output_type": "stream",
     "text": [
      "patientId    0004cfab-14fd-4e49-80ba-63a80b6bddd6\n",
      "class                No Lung Opacity / Not Normal\n",
      "Name: 0, dtype: object\n"
     ]
    }
   ],
   "source": [
    "df_detailed = pd.read_csv('./data/stage_1_detailed_class_info.csv')\n",
    "print(df_detailed.iloc[0])"
   ]
  },
  {
   "cell_type": "markdown",
   "metadata": {
    "_uuid": "8bb1f27ca89d8f05142e7ac462ccbde61d4228bd"
   },
   "source": [
    "As we see here, the patient does not have pneumonia however *does* have another imaging abnormality present. Let's take a closer look:"
   ]
  },
  {
   "cell_type": "code",
   "execution_count": 14,
   "metadata": {
    "_uuid": "ce3843dbf0f47cda1299d05fa8791148c1c2e806"
   },
   "outputs": [
    {
     "data": {
      "image/png": "[encoded data removed]",
      "text/plain": [
       "<Figure size 432x288 with 1 Axes>"
      ]
     },
     "metadata": {},
     "output_type": "display_data"
    }
   ],
   "source": [
    "patientId = df_detailed['patientId'][0]\n",
    "draw(parsed[patientId])"
   ]
  },
  {
   "cell_type": "markdown",
   "metadata": {
    "_uuid": "b54a1136f966df74c15872a073fc333a8dd37294"
   },
   "source": [
    "While the image displayed inline within the notebook is small, as a radiologist it is evident that the patient has several well circumscribed nodular densities in the left lung (right side of image). In addition there is a large chest tube in the right lung (left side of the image) which has been placed to drain fluid accumulation (e.g. pleural effusion) at the right lung base that also demonstrates overlying patchy densities (e.g. possibly atelectasis or partial lung collapse).\n",
    "\n",
    "As you can see, there are a number of abnormalities on the image, and the determination that none of these findings correlate to pneumonia is somewhat subjective even among expert physicians. Therefore, as is almost always the case in medical imaging datasets, the provided ground-truth labels are far from 100% objective. Keep this in mind as you develop your algorithm, and consider consultation with a radiologist physician to help determine an optimal strategy for mitigating these discrepencies."
   ]
  },
  {
   "cell_type": "markdown",
   "metadata": {
    "_uuid": "f52f87aafb11d94916d984e19089c28e25b95eed"
   },
   "source": [
    "## Label Summary\n",
    "\n",
    "Finally, let us take a closer look at the distribution of labels in the dataset. To do so we will first parse the detailed label information:"
   ]
  },
  {
   "cell_type": "code",
   "execution_count": 15,
   "metadata": {
    "_uuid": "44cdd1bff2692927dabd6d08f231be9aae4d31c9"
   },
   "outputs": [
    {
     "data": {
      "text/plain": [
       "{'No Lung Opacity / Not Normal': 11500, 'Normal': 8525, 'Lung Opacity': 8964}"
      ]
     },
     "metadata": {},
     "output_type": "display_data"
    }
   ],
   "source": [
    "summary = {}\n",
    "for n, row in df_detailed.iterrows():\n",
    "    if row['class'] not in summary:\n",
    "        summary[row['class']] = 0\n",
    "    summary[row['class']] += 1\n",
    "    \n",
    "display(summary)"
   ]
  },
  {
   "cell_type": "code",
   "execution_count": 16,
   "metadata": {},
   "outputs": [
    {
     "data": {
      "text/plain": [
       "pandas.core.frame.DataFrame"
      ]
     },
     "execution_count": 16,
     "metadata": {},
     "output_type": "execute_result"
    }
   ],
   "source": [
    "type(df_detailed)"
   ]
  },
  {
   "cell_type": "code",
   "execution_count": 17,
   "metadata": {},
   "outputs": [
    {
     "data": {
      "text/plain": [
       "No Lung Opacity / Not Normal    11500\n",
       "Lung Opacity                     8964\n",
       "Normal                           8525\n",
       "Name: class, dtype: int64"
      ]
     },
     "execution_count": 17,
     "metadata": {},
     "output_type": "execute_result"
    }
   ],
   "source": [
    "df_detailed['class'].value_counts()"
   ]
  },
  {
   "cell_type": "markdown",
   "metadata": {
    "_uuid": "7e1575f979fe05c0853ba19bf28b56099fd38d7a"
   },
   "source": [
    "As we can see, there is a relatively even split between the three classes, with nearly 2/3rd of the data comprising of no pneumonia (either completely *normal* or *no lung opacity / not normal*). Compared to most medical imaging datasets, where the prevalence of disease is quite low, this dataset has been significantly enriched with pathology."
   ]
  },
  {
   "cell_type": "markdown",
   "metadata": {
    "_uuid": "2f4da05fb65ba9b4ce1b14b7a9c85140fcd037d5"
   },
   "source": [
    "# Next Steps\n",
    "\n",
    "Now that you understand the data structures, imaging file formats and label types, it's time to make an algorithm! Keep in mind that the primary endpoint is the detection of bounding boxes, thus you will likely be considering various **object localization** algorithms. An alternative strategy is to consider the related family of **segmentation** algorithms with the acknowledgement that bounding boxes will only be a coarse approximation to true pixel-by-pixel image segmentation masks.\n",
    "\n",
    "Finally, as alluded to several times in this notebook, a radiologist physican may often times provide useful ancillary information, strategy for algorithm development and/or additional label reconciliation. In addition to physicians you may have access to locally, the RSNA will reach out to radiologists and facilitate engagement remotely through the Kaggle online forums. As a medical professional, I know that many of my colleagues are very interested in getting started so please feel free to reach out and start a conversation! \n",
    "\n",
    "Good luck!"
   ]
  },
  {
   "cell_type": "code",
   "execution_count": null,
   "metadata": {},
   "outputs": [],
   "source": []
  },
  {
   "cell_type": "markdown",
   "metadata": {},
   "source": [
    "<span style='color:green'>Tom's Notes</span>\n",
    "\n",
    "So what exactly am I trying to do here. I'm trying to detect pneumonia in an xray-type scan given to me as dicom files. \n",
    "\n",
    "Primarily there are two outputs (of a sort):\n",
    "- Classification (normal, abnormal, pneumonia)\n",
    "    - In these examples, normal and abnormal can be combined into 1 category such that there is binary yes/no for pneumonia. This may or may not be useful.\n",
    "- Bounding box(es) for areas that contain the pneumonia\n",
    "\n",
    "How am I planning on accomplishing theses tasks?\n",
    "- We have just started learning about neural networks. As such, I can envision a classification NN that tells me whether or not there is pneumonia. Getting it to actually give me the coordinates, in some cases multiple coordinates, is a bit more difficult of a venture for me to see at the moment\n",
    "\n",
    "What I've done:\n",
    "- Read through the starter section of the kaggle competition\n",
    "- Gone through this notebook, understanding how to view the dicom pics and relate them to their patient files and other meta data. \n",
    "\n",
    "Next steps:\n",
    "- begin going through the forum for this competition\n",
    "- I believe there is more material to reference before I go completely off on my own\n",
    "- figure out exactly how the bounding boxes are measured\n",
    "- look into 'object localization' and 'segmentation' algorithms"
   ]
  },
  {
   "cell_type": "code",
   "execution_count": null,
   "metadata": {},
   "outputs": [],
   "source": []
  },
  {
   "cell_type": "markdown",
   "metadata": {},
   "source": [
    "I want to build and train a crappy model that just predicts T/F for an image regarding whether or not there is Pneumonia"
   ]
  },
  {
   "cell_type": "code",
   "execution_count": null,
   "metadata": {},
   "outputs": [],
   "source": []
  },
  {
   "cell_type": "code",
   "execution_count": 18,
   "metadata": {},
   "outputs": [
    {
     "name": "stderr",
     "output_type": "stream",
     "text": [
      "/anaconda3/lib/python3.6/site-packages/h5py/__init__.py:36: FutureWarning: Conversion of the second argument of issubdtype from `float` to `np.floating` is deprecated. In future, it will be treated as `np.float64 == np.dtype(float).type`.\n",
      "  from ._conv import register_converters as _register_converters\n",
      "Using TensorFlow backend.\n"
     ]
    },
    {
     "name": "stdout",
     "output_type": "stream",
     "text": [
      "Couldn't import dot_parser, loading of dot files will not be possible.\n"
     ]
    }
   ],
   "source": [
    "import pandas as pd\n",
    "import numpy as np\n",
    "from sklearn.model_selection import train_test_split\n",
    "from sklearn.preprocessing import StandardScaler\n",
    "import matplotlib.pyplot as plt\n",
    "\n",
    "%matplotlib inline\n",
    "%config InlineBackend.figure_format = 'retina'\n",
    "\n",
    "from keras.models import Sequential\n",
    "from keras.layers import Dense, Dropout, Activation, Flatten, Conv2D, MaxPooling2D\n",
    "from keras.utils import to_categorical\n",
    "\n",
    "from numpy.random import seed\n",
    "from tensorflow import set_random_seed"
   ]
  },
  {
   "cell_type": "code",
   "execution_count": 216,
   "metadata": {},
   "outputs": [
    {
     "data": {
      "text/plain": [
       "(28989, 2)"
      ]
     },
     "execution_count": 216,
     "metadata": {},
     "output_type": "execute_result"
    }
   ],
   "source": [
    "df_detailed.shape"
   ]
  },
  {
   "cell_type": "code",
   "execution_count": 217,
   "metadata": {},
   "outputs": [],
   "source": [
    "seed(42)\n",
    "set_random_seed(42)"
   ]
  },
  {
   "cell_type": "code",
   "execution_count": 218,
   "metadata": {},
   "outputs": [],
   "source": [
    "resized_shape = (128, 128)\n",
    "num_images = df_detailed.shape[0]"
   ]
  },
  {
   "cell_type": "code",
   "execution_count": 219,
   "metadata": {},
   "outputs": [
    {
     "name": "stdout",
     "output_type": "stream",
     "text": [
      "patientId    0004cfab-14fd-4e49-80ba-63a80b6bddd6\n",
      "class                No Lung Opacity / Not Normal\n",
      "Name: 0, dtype: object\n"
     ]
    }
   ],
   "source": [
    "df_detailed = pd.read_csv('./data/stage_1_detailed_class_info.csv')\n",
    "print(df_detailed.iloc[0])"
   ]
  },
  {
   "cell_type": "code",
   "execution_count": 220,
   "metadata": {},
   "outputs": [],
   "source": [
    "patientId = df_detailed['patientId'][0]\n",
    "dcm_file = './data/stage_1_train_images/%s.dcm' % patientId\n",
    "dcm_data = pydicom.read_file(dcm_file)"
   ]
  },
  {
   "cell_type": "code",
   "execution_count": 221,
   "metadata": {},
   "outputs": [],
   "source": [
    "im = dcm_data.pixel_array"
   ]
  },
  {
   "cell_type": "code",
   "execution_count": 222,
   "metadata": {},
   "outputs": [
    {
     "data": {
      "text/plain": [
       "numpy.ndarray"
      ]
     },
     "execution_count": 222,
     "metadata": {},
     "output_type": "execute_result"
    }
   ],
   "source": [
    "type(im)"
   ]
  },
  {
   "cell_type": "code",
   "execution_count": 223,
   "metadata": {},
   "outputs": [
    {
     "data": {
      "text/plain": [
       "['pixel0',\n",
       " 'pixel1',\n",
       " 'pixel2',\n",
       " 'pixel3',\n",
       " 'pixel4',\n",
       " 'pixel5',\n",
       " 'pixel6',\n",
       " 'pixel7',\n",
       " 'pixel8',\n",
       " 'pixel9']"
      ]
     },
     "execution_count": 223,
     "metadata": {},
     "output_type": "execute_result"
    }
   ],
   "source": [
    "pixel_labels = []\n",
    "for i in range(resized_shape[0] * resized_shape[1]):\n",
    "    pixel_labels.append(\"pixel\"+str(i))\n",
    "pixel_labels[:10]"
   ]
  },
  {
   "cell_type": "code",
   "execution_count": 224,
   "metadata": {},
   "outputs": [
    {
     "name": "stdout",
     "output_type": "stream",
     "text": [
      "CPU times: user 43.5 ms, sys: 12.4 ms, total: 56 ms\n",
      "Wall time: 55.8 ms\n"
     ]
    }
   ],
   "source": [
    "%%time\n",
    "final_pixel_array = []\n",
    "for i in im:\n",
    "    final_pixel_array.extend(i)"
   ]
  },
  {
   "cell_type": "code",
   "execution_count": 225,
   "metadata": {},
   "outputs": [
    {
     "data": {
      "text/plain": [
       "[144, 128, 114, 105, 94, 82, 72, 66, 59, 54]"
      ]
     },
     "execution_count": 225,
     "metadata": {},
     "output_type": "execute_result"
    }
   ],
   "source": [
    "final_pixel_array[:10]"
   ]
  },
  {
   "cell_type": "code",
   "execution_count": 226,
   "metadata": {},
   "outputs": [
    {
     "data": {
      "text/plain": [
       "(1048576, 16384)"
      ]
     },
     "execution_count": 226,
     "metadata": {},
     "output_type": "execute_result"
    }
   ],
   "source": [
    "len(final_pixel_array), len(pixel_labels)"
   ]
  },
  {
   "cell_type": "code",
   "execution_count": 227,
   "metadata": {},
   "outputs": [],
   "source": [
    "from skimage.transform import resize"
   ]
  },
  {
   "cell_type": "code",
   "execution_count": 228,
   "metadata": {},
   "outputs": [],
   "source": [
    "test_img_array = resize(im, (128,128)) #Testing purposes to see how well the image resolution stands up"
   ]
  },
  {
   "cell_type": "code",
   "execution_count": 229,
   "metadata": {},
   "outputs": [
    {
     "data": {
      "text/plain": [
       "(-0.5, 127.5, 127.5, -0.5)"
      ]
     },
     "execution_count": 229,
     "metadata": {},
     "output_type": "execute_result"
    },
    {
     "data": {
      "image/png": "[encoded data removed]",
      "text/plain": [
       "<Figure size 432x288 with 1 Axes>"
      ]
     },
     "metadata": {
      "image/png": {
       "height": 251,
       "width": 258
      }
     },
     "output_type": "display_data"
    }
   ],
   "source": [
    "pylab.imshow(test_img_array, cmap=pylab.cm.gist_gray)\n",
    "pylab.axis('off')"
   ]
  },
  {
   "cell_type": "code",
   "execution_count": 230,
   "metadata": {},
   "outputs": [
    {
     "data": {
      "text/plain": [
       "(28989, 2)"
      ]
     },
     "execution_count": 230,
     "metadata": {},
     "output_type": "execute_result"
    }
   ],
   "source": [
    "df_detailed.shape"
   ]
  },
  {
   "cell_type": "code",
   "execution_count": 231,
   "metadata": {},
   "outputs": [
    {
     "name": "stdout",
     "output_type": "stream",
     "text": [
      "CPU times: user 14min 38s, sys: 2min 17s, total: 16min 56s\n",
      "Wall time: 5min 44s\n"
     ]
    }
   ],
   "source": [
    "%%time\n",
    "\n",
    "# Kernel breaks after like 10-15 minutes running against the whole set. Not scalable it would seem.\n",
    "\n",
    "#trying out scaling the images down to 512x512\n",
    "\n",
    "#setting up an array of 1d pixel arrays for all of the pics\n",
    "huge_pixel_array = []\n",
    "index = 0\n",
    "for i in df_detailed['patientId']:\n",
    "    # Get the image data\n",
    "    dcm_file = './data/stage_1_train_images/%s.dcm' % patientId\n",
    "    dcm_data = pydicom.read_file(dcm_file)\n",
    "    im = dcm_data.pixel_array\n",
    "    \n",
    "    #convert the image into a 1d array of pixels\n",
    "    final_pixel_array = []\n",
    "    for i in resize(im, resized_shape): #resize the image into a 512x512 image instead of a 1024*1024. Might be too big in the long run still but we'll see\n",
    "        final_pixel_array.extend(i)\n",
    "    huge_pixel_array.append(final_pixel_array)\n",
    "    index += 1\n",
    "    if index == num_images:\n",
    "        break"
   ]
  },
  {
   "cell_type": "code",
   "execution_count": 232,
   "metadata": {},
   "outputs": [
    {
     "name": "stdout",
     "output_type": "stream",
     "text": [
      "CPU times: user 3min 8s, sys: 3min, total: 6min 9s\n",
      "Wall time: 23min 37s\n"
     ]
    }
   ],
   "source": [
    "%%time\n",
    "temp = pd.DataFrame(data = huge_pixel_array, columns = pixel_labels)"
   ]
  },
  {
   "cell_type": "code",
   "execution_count": 233,
   "metadata": {},
   "outputs": [
    {
     "data": {
      "text/html": [
       "<div>\n",
       "<style scoped>\n",
       "    .dataframe tbody tr th:only-of-type {\n",
       "        vertical-align: middle;\n",
       "    }\n",
       "\n",
       "    .dataframe tbody tr th {\n",
       "        vertical-align: top;\n",
       "    }\n",
       "\n",
       "    .dataframe thead th {\n",
       "        text-align: right;\n",
       "    }\n",
       "</style>\n",
       "<table border=\"1\" class=\"dataframe\">\n",
       "  <thead>\n",
       "    <tr style=\"text-align: right;\">\n",
       "      <th></th>\n",
       "      <th>pixel0</th>\n",
       "      <th>pixel1</th>\n",
       "      <th>pixel2</th>\n",
       "      <th>pixel3</th>\n",
       "      <th>pixel4</th>\n",
       "      <th>pixel5</th>\n",
       "      <th>pixel6</th>\n",
       "      <th>pixel7</th>\n",
       "      <th>pixel8</th>\n",
       "      <th>pixel9</th>\n",
       "      <th>...</th>\n",
       "      <th>pixel16374</th>\n",
       "      <th>pixel16375</th>\n",
       "      <th>pixel16376</th>\n",
       "      <th>pixel16377</th>\n",
       "      <th>pixel16378</th>\n",
       "      <th>pixel16379</th>\n",
       "      <th>pixel16380</th>\n",
       "      <th>pixel16381</th>\n",
       "      <th>pixel16382</th>\n",
       "      <th>pixel16383</th>\n",
       "    </tr>\n",
       "  </thead>\n",
       "  <tbody>\n",
       "    <tr>\n",
       "      <th>0</th>\n",
       "      <td>0.160784</td>\n",
       "      <td>0.029412</td>\n",
       "      <td>0.009804</td>\n",
       "      <td>0.007843</td>\n",
       "      <td>0.009804</td>\n",
       "      <td>0.009804</td>\n",
       "      <td>0.011765</td>\n",
       "      <td>0.011765</td>\n",
       "      <td>0.011765</td>\n",
       "      <td>0.011765</td>\n",
       "      <td>...</td>\n",
       "      <td>0.505882</td>\n",
       "      <td>0.45</td>\n",
       "      <td>0.367647</td>\n",
       "      <td>0.251961</td>\n",
       "      <td>0.111765</td>\n",
       "      <td>0.0</td>\n",
       "      <td>0.0</td>\n",
       "      <td>0.0</td>\n",
       "      <td>0.005882</td>\n",
       "      <td>0.041176</td>\n",
       "    </tr>\n",
       "    <tr>\n",
       "      <th>1</th>\n",
       "      <td>0.160784</td>\n",
       "      <td>0.029412</td>\n",
       "      <td>0.009804</td>\n",
       "      <td>0.007843</td>\n",
       "      <td>0.009804</td>\n",
       "      <td>0.009804</td>\n",
       "      <td>0.011765</td>\n",
       "      <td>0.011765</td>\n",
       "      <td>0.011765</td>\n",
       "      <td>0.011765</td>\n",
       "      <td>...</td>\n",
       "      <td>0.505882</td>\n",
       "      <td>0.45</td>\n",
       "      <td>0.367647</td>\n",
       "      <td>0.251961</td>\n",
       "      <td>0.111765</td>\n",
       "      <td>0.0</td>\n",
       "      <td>0.0</td>\n",
       "      <td>0.0</td>\n",
       "      <td>0.005882</td>\n",
       "      <td>0.041176</td>\n",
       "    </tr>\n",
       "    <tr>\n",
       "      <th>2</th>\n",
       "      <td>0.160784</td>\n",
       "      <td>0.029412</td>\n",
       "      <td>0.009804</td>\n",
       "      <td>0.007843</td>\n",
       "      <td>0.009804</td>\n",
       "      <td>0.009804</td>\n",
       "      <td>0.011765</td>\n",
       "      <td>0.011765</td>\n",
       "      <td>0.011765</td>\n",
       "      <td>0.011765</td>\n",
       "      <td>...</td>\n",
       "      <td>0.505882</td>\n",
       "      <td>0.45</td>\n",
       "      <td>0.367647</td>\n",
       "      <td>0.251961</td>\n",
       "      <td>0.111765</td>\n",
       "      <td>0.0</td>\n",
       "      <td>0.0</td>\n",
       "      <td>0.0</td>\n",
       "      <td>0.005882</td>\n",
       "      <td>0.041176</td>\n",
       "    </tr>\n",
       "    <tr>\n",
       "      <th>3</th>\n",
       "      <td>0.160784</td>\n",
       "      <td>0.029412</td>\n",
       "      <td>0.009804</td>\n",
       "      <td>0.007843</td>\n",
       "      <td>0.009804</td>\n",
       "      <td>0.009804</td>\n",
       "      <td>0.011765</td>\n",
       "      <td>0.011765</td>\n",
       "      <td>0.011765</td>\n",
       "      <td>0.011765</td>\n",
       "      <td>...</td>\n",
       "      <td>0.505882</td>\n",
       "      <td>0.45</td>\n",
       "      <td>0.367647</td>\n",
       "      <td>0.251961</td>\n",
       "      <td>0.111765</td>\n",
       "      <td>0.0</td>\n",
       "      <td>0.0</td>\n",
       "      <td>0.0</td>\n",
       "      <td>0.005882</td>\n",
       "      <td>0.041176</td>\n",
       "    </tr>\n",
       "    <tr>\n",
       "      <th>4</th>\n",
       "      <td>0.160784</td>\n",
       "      <td>0.029412</td>\n",
       "      <td>0.009804</td>\n",
       "      <td>0.007843</td>\n",
       "      <td>0.009804</td>\n",
       "      <td>0.009804</td>\n",
       "      <td>0.011765</td>\n",
       "      <td>0.011765</td>\n",
       "      <td>0.011765</td>\n",
       "      <td>0.011765</td>\n",
       "      <td>...</td>\n",
       "      <td>0.505882</td>\n",
       "      <td>0.45</td>\n",
       "      <td>0.367647</td>\n",
       "      <td>0.251961</td>\n",
       "      <td>0.111765</td>\n",
       "      <td>0.0</td>\n",
       "      <td>0.0</td>\n",
       "      <td>0.0</td>\n",
       "      <td>0.005882</td>\n",
       "      <td>0.041176</td>\n",
       "    </tr>\n",
       "  </tbody>\n",
       "</table>\n",
       "<p>5 rows × 16384 columns</p>\n",
       "</div>"
      ],
      "text/plain": [
       "     pixel0    pixel1    pixel2    pixel3    pixel4    pixel5    pixel6  \\\n",
       "0  0.160784  0.029412  0.009804  0.007843  0.009804  0.009804  0.011765   \n",
       "1  0.160784  0.029412  0.009804  0.007843  0.009804  0.009804  0.011765   \n",
       "2  0.160784  0.029412  0.009804  0.007843  0.009804  0.009804  0.011765   \n",
       "3  0.160784  0.029412  0.009804  0.007843  0.009804  0.009804  0.011765   \n",
       "4  0.160784  0.029412  0.009804  0.007843  0.009804  0.009804  0.011765   \n",
       "\n",
       "     pixel7    pixel8    pixel9     ...      pixel16374  pixel16375  \\\n",
       "0  0.011765  0.011765  0.011765     ...        0.505882        0.45   \n",
       "1  0.011765  0.011765  0.011765     ...        0.505882        0.45   \n",
       "2  0.011765  0.011765  0.011765     ...        0.505882        0.45   \n",
       "3  0.011765  0.011765  0.011765     ...        0.505882        0.45   \n",
       "4  0.011765  0.011765  0.011765     ...        0.505882        0.45   \n",
       "\n",
       "   pixel16376  pixel16377  pixel16378  pixel16379  pixel16380  pixel16381  \\\n",
       "0    0.367647    0.251961    0.111765         0.0         0.0         0.0   \n",
       "1    0.367647    0.251961    0.111765         0.0         0.0         0.0   \n",
       "2    0.367647    0.251961    0.111765         0.0         0.0         0.0   \n",
       "3    0.367647    0.251961    0.111765         0.0         0.0         0.0   \n",
       "4    0.367647    0.251961    0.111765         0.0         0.0         0.0   \n",
       "\n",
       "   pixel16382  pixel16383  \n",
       "0    0.005882    0.041176  \n",
       "1    0.005882    0.041176  \n",
       "2    0.005882    0.041176  \n",
       "3    0.005882    0.041176  \n",
       "4    0.005882    0.041176  \n",
       "\n",
       "[5 rows x 16384 columns]"
      ]
     },
     "execution_count": 233,
     "metadata": {},
     "output_type": "execute_result"
    }
   ],
   "source": [
    "temp.head()"
   ]
  },
  {
   "cell_type": "code",
   "execution_count": 234,
   "metadata": {},
   "outputs": [
    {
     "data": {
      "text/plain": [
       "0.9509803921568636"
      ]
     },
     "execution_count": 234,
     "metadata": {},
     "output_type": "execute_result"
    }
   ],
   "source": [
    "temp.max().max() # Checking to make sure that the scaling was correctly done"
   ]
  },
  {
   "cell_type": "code",
   "execution_count": 235,
   "metadata": {},
   "outputs": [
    {
     "data": {
      "text/plain": [
       "(-0.5, 127.5, 127.5, -0.5)"
      ]
     },
     "execution_count": 235,
     "metadata": {},
     "output_type": "execute_result"
    },
    {
     "data": {
      "image/png": "[encoded data removed]",
      "text/plain": [
       "<Figure size 432x288 with 1 Axes>"
      ]
     },
     "metadata": {
      "image/png": {
       "height": 251,
       "width": 258
      }
     },
     "output_type": "display_data"
    }
   ],
   "source": [
    "### Checking to make sure that the images still look like images\n",
    "pylab.imshow(temp.iloc[0].values.reshape(resized_shape[0], resized_shape[1]), cmap=pylab.cm.gist_gray)\n",
    "pylab.axis('off')"
   ]
  },
  {
   "cell_type": "code",
   "execution_count": null,
   "metadata": {},
   "outputs": [],
   "source": []
  },
  {
   "cell_type": "code",
   "execution_count": null,
   "metadata": {},
   "outputs": [],
   "source": []
  },
  {
   "cell_type": "markdown",
   "metadata": {},
   "source": [
    "## Trying out modeling for the first time"
   ]
  },
  {
   "cell_type": "code",
   "execution_count": 236,
   "metadata": {},
   "outputs": [],
   "source": [
    "y = df_detailed.head(num_images)"
   ]
  },
  {
   "cell_type": "code",
   "execution_count": 237,
   "metadata": {},
   "outputs": [
    {
     "data": {
      "text/html": [
       "<div>\n",
       "<style scoped>\n",
       "    .dataframe tbody tr th:only-of-type {\n",
       "        vertical-align: middle;\n",
       "    }\n",
       "\n",
       "    .dataframe tbody tr th {\n",
       "        vertical-align: top;\n",
       "    }\n",
       "\n",
       "    .dataframe thead th {\n",
       "        text-align: right;\n",
       "    }\n",
       "</style>\n",
       "<table border=\"1\" class=\"dataframe\">\n",
       "  <thead>\n",
       "    <tr style=\"text-align: right;\">\n",
       "      <th></th>\n",
       "      <th>patientId</th>\n",
       "      <th>class</th>\n",
       "    </tr>\n",
       "  </thead>\n",
       "  <tbody>\n",
       "    <tr>\n",
       "      <th>0</th>\n",
       "      <td>0004cfab-14fd-4e49-80ba-63a80b6bddd6</td>\n",
       "      <td>No Lung Opacity / Not Normal</td>\n",
       "    </tr>\n",
       "  </tbody>\n",
       "</table>\n",
       "</div>"
      ],
      "text/plain": [
       "                              patientId                         class\n",
       "0  0004cfab-14fd-4e49-80ba-63a80b6bddd6  No Lung Opacity / Not Normal"
      ]
     },
     "execution_count": 237,
     "metadata": {},
     "output_type": "execute_result"
    }
   ],
   "source": [
    "y.head(1)"
   ]
  },
  {
   "cell_type": "code",
   "execution_count": 238,
   "metadata": {},
   "outputs": [
    {
     "data": {
      "text/plain": [
       "No Lung Opacity / Not Normal    11500\n",
       "Lung Opacity                     8964\n",
       "Normal                           8525\n",
       "Name: class, dtype: int64"
      ]
     },
     "execution_count": 238,
     "metadata": {},
     "output_type": "execute_result"
    }
   ],
   "source": [
    "y['class'].value_counts()"
   ]
  },
  {
   "cell_type": "code",
   "execution_count": 239,
   "metadata": {},
   "outputs": [],
   "source": [
    "y = y['class']"
   ]
  },
  {
   "cell_type": "code",
   "execution_count": null,
   "metadata": {},
   "outputs": [],
   "source": []
  },
  {
   "cell_type": "code",
   "execution_count": 240,
   "metadata": {
    "scrolled": false
   },
   "outputs": [],
   "source": [
    "the_map = {\n",
    "    \"Lung Opacity\":0,\n",
    "    \"No Lung Opacity / Not Normal\":1,\n",
    "    \"Normal\":2\n",
    "}\n",
    "y = y.map(lambda x: the_map[x])"
   ]
  },
  {
   "cell_type": "code",
   "execution_count": null,
   "metadata": {},
   "outputs": [],
   "source": []
  },
  {
   "cell_type": "code",
   "execution_count": 241,
   "metadata": {},
   "outputs": [
    {
     "data": {
      "text/plain": [
       "((28989, 16384), (28989,))"
      ]
     },
     "execution_count": 241,
     "metadata": {},
     "output_type": "execute_result"
    }
   ],
   "source": [
    "X = temp\n",
    "\n",
    "\n",
    "X.shape, y.shape"
   ]
  },
  {
   "cell_type": "code",
   "execution_count": 242,
   "metadata": {},
   "outputs": [],
   "source": [
    "X_train, X_test, y_train, y_test = train_test_split(X, y, stratify=y, random_state=42)"
   ]
  },
  {
   "cell_type": "code",
   "execution_count": 243,
   "metadata": {},
   "outputs": [],
   "source": [
    "y_train_c = to_categorical(y_train)\n",
    "y_test_c = to_categorical(y_test)"
   ]
  },
  {
   "cell_type": "code",
   "execution_count": 244,
   "metadata": {},
   "outputs": [],
   "source": [
    "X_train_re = X_train.values.reshape(X_train.shape[0], resized_shape[0], resized_shape[1], 1)\n",
    "X_test_re = X_test.values.reshape(X_test.shape[0], resized_shape[0], resized_shape[1], 1)"
   ]
  },
  {
   "cell_type": "code",
   "execution_count": 248,
   "metadata": {},
   "outputs": [],
   "source": [
    "# Initialize Model\n",
    "model_convolutional = Sequential()\n",
    "\n",
    "# First Conv / Pool \n",
    "model_convolutional.add(Conv2D(filters = 6,\n",
    "                               kernel_size = 3,\n",
    "                               activation = 'relu',\n",
    "                               input_shape = (resized_shape[0], resized_shape[1], 1)\n",
    "                              ))\n",
    "model_convolutional.add(MaxPooling2D(pool_size=(2,2)))\n",
    "\n",
    "#Second Conv/ Pool\n",
    "model_convolutional.add(Conv2D(filters=16, kernel_size=3, activation='relu'))\n",
    "model_convolutional.add(MaxPooling2D(pool_size=(2,2)))\n",
    "\n",
    "# Flatten\n",
    "model_convolutional.add(Dropout(0.5))\n",
    "model_convolutional.add(Flatten())\n",
    "\n",
    "model_convolutional.add(Dense(512, activation='relu'))\n",
    "model_convolutional.add(Dense(128, activation='relu'))\n",
    "model_convolutional.add(Dropout(0.5))\n",
    "model_convolutional.add(Dense(3, activation='softmax'))"
   ]
  },
  {
   "cell_type": "code",
   "execution_count": 249,
   "metadata": {},
   "outputs": [],
   "source": [
    "model_convolutional.compile(loss = 'categorical_crossentropy', \n",
    "                            optimizer = 'adam', \n",
    "                            metrics = ['accuracy'])"
   ]
  },
  {
   "cell_type": "code",
   "execution_count": 250,
   "metadata": {},
   "outputs": [
    {
     "name": "stdout",
     "output_type": "stream",
     "text": [
      "Train on 21741 samples, validate on 7248 samples\n",
      "Epoch 1/80\n",
      "21741/21741 [==============================] - 154s 7ms/step - loss: 1.0990 - acc: 0.3927 - val_loss: 1.0898 - val_acc: 0.3967\n",
      "Epoch 2/80\n",
      "21741/21741 [==============================] - 141s 6ms/step - loss: 1.0904 - acc: 0.3967 - val_loss: 1.0898 - val_acc: 0.3967\n",
      "Epoch 3/80\n",
      "21741/21741 [==============================] - 142s 7ms/step - loss: 1.0899 - acc: 0.3967 - val_loss: 1.0898 - val_acc: 0.3967\n",
      "Epoch 4/80\n",
      "21741/21741 [==============================] - 144s 7ms/step - loss: 1.0898 - acc: 0.3967 - val_loss: 1.0897 - val_acc: 0.3967\n",
      "Epoch 5/80\n",
      "21741/21741 [==============================] - 144s 7ms/step - loss: 1.0900 - acc: 0.3967 - val_loss: 1.0897 - val_acc: 0.3967\n",
      "Epoch 6/80\n",
      "21741/21741 [==============================] - 145s 7ms/step - loss: 1.0898 - acc: 0.3967 - val_loss: 1.0897 - val_acc: 0.3967\n",
      "Epoch 7/80\n",
      "21741/21741 [==============================] - 151s 7ms/step - loss: 1.0897 - acc: 0.3967 - val_loss: 1.0897 - val_acc: 0.3967\n",
      "Epoch 8/80\n",
      "21741/21741 [==============================] - 136s 6ms/step - loss: 1.0898 - acc: 0.3967 - val_loss: 1.0898 - val_acc: 0.3967\n",
      "Epoch 9/80\n",
      "21741/21741 [==============================] - 139s 6ms/step - loss: 1.0898 - acc: 0.3967 - val_loss: 1.0898 - val_acc: 0.3967\n",
      "Epoch 10/80\n",
      "21741/21741 [==============================] - 143s 7ms/step - loss: 1.0898 - acc: 0.3967 - val_loss: 1.0897 - val_acc: 0.3967\n",
      "Epoch 11/80\n",
      "21741/21741 [==============================] - 141s 6ms/step - loss: 1.0898 - acc: 0.3967 - val_loss: 1.0897 - val_acc: 0.3967\n",
      "Epoch 12/80\n",
      "21741/21741 [==============================] - 144s 7ms/step - loss: 1.0898 - acc: 0.3967 - val_loss: 1.0897 - val_acc: 0.3967\n",
      "Epoch 13/80\n",
      "21741/21741 [==============================] - 142s 7ms/step - loss: 1.0897 - acc: 0.3967 - val_loss: 1.0897 - val_acc: 0.3967\n",
      "Epoch 14/80\n",
      "21741/21741 [==============================] - 141s 6ms/step - loss: 1.0897 - acc: 0.3967 - val_loss: 1.0897 - val_acc: 0.3967\n",
      "Epoch 15/80\n",
      "21741/21741 [==============================] - 141s 6ms/step - loss: 1.0897 - acc: 0.3967 - val_loss: 1.0897 - val_acc: 0.3967\n",
      "Epoch 16/80\n",
      "21741/21741 [==============================] - 140s 6ms/step - loss: 1.0897 - acc: 0.3967 - val_loss: 1.0897 - val_acc: 0.3967\n",
      "Epoch 17/80\n",
      "21741/21741 [==============================] - 140s 6ms/step - loss: 1.0897 - acc: 0.3967 - val_loss: 1.0897 - val_acc: 0.3967\n",
      "Epoch 18/80\n",
      "21741/21741 [==============================] - 137s 6ms/step - loss: 1.0897 - acc: 0.3967 - val_loss: 1.0897 - val_acc: 0.3967\n",
      "Epoch 19/80\n",
      "21741/21741 [==============================] - 138s 6ms/step - loss: 1.0897 - acc: 0.3967 - val_loss: 1.0897 - val_acc: 0.3967\n",
      "Epoch 20/80\n",
      "21741/21741 [==============================] - 139s 6ms/step - loss: 1.0897 - acc: 0.3967 - val_loss: 1.0897 - val_acc: 0.3967\n",
      "Epoch 21/80\n",
      "21741/21741 [==============================] - 140s 6ms/step - loss: 1.0897 - acc: 0.3967 - val_loss: 1.0897 - val_acc: 0.3967\n",
      "Epoch 22/80\n",
      "21741/21741 [==============================] - 2686s 124ms/step - loss: 1.0897 - acc: 0.3967 - val_loss: 1.0897 - val_acc: 0.3967\n",
      "Epoch 23/80\n",
      "21741/21741 [==============================] - 339s 16ms/step - loss: 1.0897 - acc: 0.3967 - val_loss: 1.0897 - val_acc: 0.3967\n",
      "Epoch 24/80\n",
      "21741/21741 [==============================] - 343s 16ms/step - loss: 1.0897 - acc: 0.3967 - val_loss: 1.0897 - val_acc: 0.3967\n",
      "Epoch 25/80\n",
      "21741/21741 [==============================] - 344s 16ms/step - loss: 1.0897 - acc: 0.3967 - val_loss: 1.0897 - val_acc: 0.3967\n",
      "Epoch 26/80\n",
      "21741/21741 [==============================] - 343s 16ms/step - loss: 1.0897 - acc: 0.3967 - val_loss: 1.0897 - val_acc: 0.3967\n",
      "Epoch 27/80\n",
      "21741/21741 [==============================] - 346s 16ms/step - loss: 1.0897 - acc: 0.3967 - val_loss: 1.0897 - val_acc: 0.3967\n",
      "Epoch 28/80\n",
      "21741/21741 [==============================] - 374s 17ms/step - loss: 1.0897 - acc: 0.3967 - val_loss: 1.0897 - val_acc: 0.3967\n",
      "Epoch 29/80\n",
      "21741/21741 [==============================] - 339s 16ms/step - loss: 1.0897 - acc: 0.3967 - val_loss: 1.0897 - val_acc: 0.3967\n",
      "Epoch 30/80\n",
      "21741/21741 [==============================] - 339s 16ms/step - loss: 1.0897 - acc: 0.3967 - val_loss: 1.0897 - val_acc: 0.3967\n",
      "Epoch 31/80\n",
      "21741/21741 [==============================] - 343s 16ms/step - loss: 1.0897 - acc: 0.3967 - val_loss: 1.0897 - val_acc: 0.3967\n",
      "Epoch 32/80\n",
      "21741/21741 [==============================] - 3168s 146ms/step - loss: 1.0897 - acc: 0.3967 - val_loss: 1.0897 - val_acc: 0.3967\n",
      "Epoch 33/80\n",
      "21741/21741 [==============================] - 351s 16ms/step - loss: 1.0897 - acc: 0.3967 - val_loss: 1.0897 - val_acc: 0.3967\n",
      "Epoch 34/80\n",
      "21741/21741 [==============================] - 347s 16ms/step - loss: 1.0897 - acc: 0.3967 - val_loss: 1.0897 - val_acc: 0.3967\n",
      "Epoch 35/80\n",
      "21741/21741 [==============================] - 340s 16ms/step - loss: 1.0897 - acc: 0.3967 - val_loss: 1.0897 - val_acc: 0.3967\n",
      "Epoch 36/80\n",
      "21741/21741 [==============================] - 343s 16ms/step - loss: 1.0897 - acc: 0.3967 - val_loss: 1.0897 - val_acc: 0.3967\n",
      "Epoch 37/80\n",
      "21741/21741 [==============================] - 348s 16ms/step - loss: 1.0897 - acc: 0.3967 - val_loss: 1.0897 - val_acc: 0.3967\n",
      "Epoch 38/80\n",
      "21741/21741 [==============================] - 346s 16ms/step - loss: 1.0897 - acc: 0.3967 - val_loss: 1.0897 - val_acc: 0.3967\n",
      "Epoch 39/80\n",
      "21741/21741 [==============================] - 345s 16ms/step - loss: 1.0898 - acc: 0.3967 - val_loss: 1.0897 - val_acc: 0.3967\n",
      "Epoch 40/80\n",
      "21741/21741 [==============================] - 329s 15ms/step - loss: 1.0897 - acc: 0.3967 - val_loss: 1.0897 - val_acc: 0.3967\n",
      "Epoch 41/80\n",
      "21741/21741 [==============================] - 337s 16ms/step - loss: 1.0897 - acc: 0.3967 - val_loss: 1.0897 - val_acc: 0.3967\n",
      "Epoch 42/80\n",
      "21741/21741 [==============================] - 7529s 346ms/step - loss: 1.0897 - acc: 0.3967 - val_loss: 1.0897 - val_acc: 0.3967\n",
      "Epoch 43/80\n",
      "21741/21741 [==============================] - 347s 16ms/step - loss: 1.0898 - acc: 0.3967 - val_loss: 1.0897 - val_acc: 0.3967\n",
      "Epoch 44/80\n",
      "21741/21741 [==============================] - 348s 16ms/step - loss: 1.0897 - acc: 0.3967 - val_loss: 1.0897 - val_acc: 0.3967\n",
      "Epoch 45/80\n",
      "21741/21741 [==============================] - 339s 16ms/step - loss: 1.0897 - acc: 0.3967 - val_loss: 1.0897 - val_acc: 0.3967\n",
      "Epoch 46/80\n",
      "21741/21741 [==============================] - 342s 16ms/step - loss: 1.0897 - acc: 0.3967 - val_loss: 1.0897 - val_acc: 0.3967\n",
      "Epoch 47/80\n",
      "21741/21741 [==============================] - 342s 16ms/step - loss: 1.0897 - acc: 0.3967 - val_loss: 1.0897 - val_acc: 0.3967\n",
      "Epoch 48/80\n",
      "21741/21741 [==============================] - 341s 16ms/step - loss: 1.0897 - acc: 0.3967 - val_loss: 1.0897 - val_acc: 0.3967\n",
      "Epoch 49/80\n",
      "21741/21741 [==============================] - 343s 16ms/step - loss: 1.0897 - acc: 0.3967 - val_loss: 1.0898 - val_acc: 0.3967\n",
      "Epoch 50/80\n",
      "21741/21741 [==============================] - 343s 16ms/step - loss: 1.0897 - acc: 0.3967 - val_loss: 1.0897 - val_acc: 0.3967\n",
      "Epoch 51/80\n",
      "21741/21741 [==============================] - 345s 16ms/step - loss: 1.0897 - acc: 0.3967 - val_loss: 1.0897 - val_acc: 0.3967\n",
      "Epoch 52/80\n",
      "21741/21741 [==============================] - 344s 16ms/step - loss: 1.0897 - acc: 0.3967 - val_loss: 1.0897 - val_acc: 0.3967\n",
      "Epoch 53/80\n",
      "21741/21741 [==============================] - 3702s 170ms/step - loss: 1.0897 - acc: 0.3967 - val_loss: 1.0897 - val_acc: 0.3967\n",
      "Epoch 54/80\n",
      "21741/21741 [==============================] - 348s 16ms/step - loss: 1.0897 - acc: 0.3967 - val_loss: 1.0897 - val_acc: 0.3967\n",
      "Epoch 55/80\n",
      "21741/21741 [==============================] - 344s 16ms/step - loss: 1.0898 - acc: 0.3967 - val_loss: 1.0897 - val_acc: 0.3967\n",
      "Epoch 56/80\n",
      "21741/21741 [==============================] - 346s 16ms/step - loss: 1.0897 - acc: 0.3967 - val_loss: 1.0897 - val_acc: 0.3967\n",
      "Epoch 57/80\n",
      "21741/21741 [==============================] - 348s 16ms/step - loss: 1.0897 - acc: 0.3967 - val_loss: 1.0897 - val_acc: 0.3967\n",
      "Epoch 58/80\n",
      "21741/21741 [==============================] - 346s 16ms/step - loss: 1.0897 - acc: 0.3967 - val_loss: 1.0897 - val_acc: 0.3967\n",
      "Epoch 59/80\n",
      "21741/21741 [==============================] - 347s 16ms/step - loss: 1.0897 - acc: 0.3967 - val_loss: 1.0897 - val_acc: 0.3967\n",
      "Epoch 60/80\n",
      "21741/21741 [==============================] - 337s 16ms/step - loss: 1.0897 - acc: 0.3967 - val_loss: 1.0897 - val_acc: 0.3967\n",
      "Epoch 61/80\n",
      "21741/21741 [==============================] - 229s 11ms/step - loss: 1.0897 - acc: 0.3967 - val_loss: 1.0897 - val_acc: 0.3967\n",
      "Epoch 62/80\n",
      " 2400/21741 [==>...........................] - ETA: 2:00 - loss: 1.0886 - acc: 0.3975"
     ]
    },
    {
     "ename": "KeyboardInterrupt",
     "evalue": "",
     "output_type": "error",
     "traceback": [
      "\u001b[0;31m---------------------------------------------------------------------------\u001b[0m",
      "\u001b[0;31mKeyboardInterrupt\u001b[0m                         Traceback (most recent call last)",
      "\u001b[0;32m<timed exec>\u001b[0m in \u001b[0;36m<module>\u001b[0;34m\u001b[0m\n",
      "\u001b[0;32m/anaconda3/lib/python3.6/site-packages/keras/engine/training.py\u001b[0m in \u001b[0;36mfit\u001b[0;34m(self, x, y, batch_size, epochs, verbose, callbacks, validation_split, validation_data, shuffle, class_weight, sample_weight, initial_epoch, steps_per_epoch, validation_steps, **kwargs)\u001b[0m\n\u001b[1;32m   1035\u001b[0m                                         \u001b[0minitial_epoch\u001b[0m\u001b[0;34m=\u001b[0m\u001b[0minitial_epoch\u001b[0m\u001b[0;34m,\u001b[0m\u001b[0;34m\u001b[0m\u001b[0m\n\u001b[1;32m   1036\u001b[0m                                         \u001b[0msteps_per_epoch\u001b[0m\u001b[0;34m=\u001b[0m\u001b[0msteps_per_epoch\u001b[0m\u001b[0;34m,\u001b[0m\u001b[0;34m\u001b[0m\u001b[0m\n\u001b[0;32m-> 1037\u001b[0;31m                                         validation_steps=validation_steps)\n\u001b[0m\u001b[1;32m   1038\u001b[0m \u001b[0;34m\u001b[0m\u001b[0m\n\u001b[1;32m   1039\u001b[0m     def evaluate(self, x=None, y=None,\n",
      "\u001b[0;32m/anaconda3/lib/python3.6/site-packages/keras/engine/training_arrays.py\u001b[0m in \u001b[0;36mfit_loop\u001b[0;34m(model, f, ins, out_labels, batch_size, epochs, verbose, callbacks, val_f, val_ins, shuffle, callback_metrics, initial_epoch, steps_per_epoch, validation_steps)\u001b[0m\n\u001b[1;32m    197\u001b[0m                     \u001b[0mins_batch\u001b[0m\u001b[0;34m[\u001b[0m\u001b[0mi\u001b[0m\u001b[0;34m]\u001b[0m \u001b[0;34m=\u001b[0m \u001b[0mins_batch\u001b[0m\u001b[0;34m[\u001b[0m\u001b[0mi\u001b[0m\u001b[0;34m]\u001b[0m\u001b[0;34m.\u001b[0m\u001b[0mtoarray\u001b[0m\u001b[0;34m(\u001b[0m\u001b[0;34m)\u001b[0m\u001b[0;34m\u001b[0m\u001b[0m\n\u001b[1;32m    198\u001b[0m \u001b[0;34m\u001b[0m\u001b[0m\n\u001b[0;32m--> 199\u001b[0;31m                 \u001b[0mouts\u001b[0m \u001b[0;34m=\u001b[0m \u001b[0mf\u001b[0m\u001b[0;34m(\u001b[0m\u001b[0mins_batch\u001b[0m\u001b[0;34m)\u001b[0m\u001b[0;34m\u001b[0m\u001b[0m\n\u001b[0m\u001b[1;32m    200\u001b[0m                 \u001b[0mouts\u001b[0m \u001b[0;34m=\u001b[0m \u001b[0mto_list\u001b[0m\u001b[0;34m(\u001b[0m\u001b[0mouts\u001b[0m\u001b[0;34m)\u001b[0m\u001b[0;34m\u001b[0m\u001b[0m\n\u001b[1;32m    201\u001b[0m                 \u001b[0;32mfor\u001b[0m \u001b[0ml\u001b[0m\u001b[0;34m,\u001b[0m \u001b[0mo\u001b[0m \u001b[0;32min\u001b[0m \u001b[0mzip\u001b[0m\u001b[0;34m(\u001b[0m\u001b[0mout_labels\u001b[0m\u001b[0;34m,\u001b[0m \u001b[0mouts\u001b[0m\u001b[0;34m)\u001b[0m\u001b[0;34m:\u001b[0m\u001b[0;34m\u001b[0m\u001b[0m\n",
      "\u001b[0;32m/anaconda3/lib/python3.6/site-packages/keras/backend/tensorflow_backend.py\u001b[0m in \u001b[0;36m__call__\u001b[0;34m(self, inputs)\u001b[0m\n\u001b[1;32m   2664\u001b[0m                 \u001b[0;32mreturn\u001b[0m \u001b[0mself\u001b[0m\u001b[0;34m.\u001b[0m\u001b[0m_legacy_call\u001b[0m\u001b[0;34m(\u001b[0m\u001b[0minputs\u001b[0m\u001b[0;34m)\u001b[0m\u001b[0;34m\u001b[0m\u001b[0m\n\u001b[1;32m   2665\u001b[0m \u001b[0;34m\u001b[0m\u001b[0m\n\u001b[0;32m-> 2666\u001b[0;31m             \u001b[0;32mreturn\u001b[0m \u001b[0mself\u001b[0m\u001b[0;34m.\u001b[0m\u001b[0m_call\u001b[0m\u001b[0;34m(\u001b[0m\u001b[0minputs\u001b[0m\u001b[0;34m)\u001b[0m\u001b[0;34m\u001b[0m\u001b[0m\n\u001b[0m\u001b[1;32m   2667\u001b[0m         \u001b[0;32melse\u001b[0m\u001b[0;34m:\u001b[0m\u001b[0;34m\u001b[0m\u001b[0m\n\u001b[1;32m   2668\u001b[0m             \u001b[0;32mif\u001b[0m \u001b[0mpy_any\u001b[0m\u001b[0;34m(\u001b[0m\u001b[0mis_tensor\u001b[0m\u001b[0;34m(\u001b[0m\u001b[0mx\u001b[0m\u001b[0;34m)\u001b[0m \u001b[0;32mfor\u001b[0m \u001b[0mx\u001b[0m \u001b[0;32min\u001b[0m \u001b[0minputs\u001b[0m\u001b[0;34m)\u001b[0m\u001b[0;34m:\u001b[0m\u001b[0;34m\u001b[0m\u001b[0m\n",
      "\u001b[0;32m/anaconda3/lib/python3.6/site-packages/keras/backend/tensorflow_backend.py\u001b[0m in \u001b[0;36m_call\u001b[0;34m(self, inputs)\u001b[0m\n\u001b[1;32m   2634\u001b[0m                                 \u001b[0msymbol_vals\u001b[0m\u001b[0;34m,\u001b[0m\u001b[0;34m\u001b[0m\u001b[0m\n\u001b[1;32m   2635\u001b[0m                                 session)\n\u001b[0;32m-> 2636\u001b[0;31m         \u001b[0mfetched\u001b[0m \u001b[0;34m=\u001b[0m \u001b[0mself\u001b[0m\u001b[0;34m.\u001b[0m\u001b[0m_callable_fn\u001b[0m\u001b[0;34m(\u001b[0m\u001b[0;34m*\u001b[0m\u001b[0marray_vals\u001b[0m\u001b[0;34m)\u001b[0m\u001b[0;34m\u001b[0m\u001b[0m\n\u001b[0m\u001b[1;32m   2637\u001b[0m         \u001b[0;32mreturn\u001b[0m \u001b[0mfetched\u001b[0m\u001b[0;34m[\u001b[0m\u001b[0;34m:\u001b[0m\u001b[0mlen\u001b[0m\u001b[0;34m(\u001b[0m\u001b[0mself\u001b[0m\u001b[0;34m.\u001b[0m\u001b[0moutputs\u001b[0m\u001b[0;34m)\u001b[0m\u001b[0;34m]\u001b[0m\u001b[0;34m\u001b[0m\u001b[0m\n\u001b[1;32m   2638\u001b[0m \u001b[0;34m\u001b[0m\u001b[0m\n",
      "\u001b[0;32m/anaconda3/lib/python3.6/site-packages/tensorflow/python/client/session.py\u001b[0m in \u001b[0;36m__call__\u001b[0;34m(self, *args, **kwargs)\u001b[0m\n\u001b[1;32m   1397\u001b[0m           ret = tf_session.TF_SessionRunCallable(\n\u001b[1;32m   1398\u001b[0m               \u001b[0mself\u001b[0m\u001b[0;34m.\u001b[0m\u001b[0m_session\u001b[0m\u001b[0;34m.\u001b[0m\u001b[0m_session\u001b[0m\u001b[0;34m,\u001b[0m \u001b[0mself\u001b[0m\u001b[0;34m.\u001b[0m\u001b[0m_handle\u001b[0m\u001b[0;34m,\u001b[0m \u001b[0margs\u001b[0m\u001b[0;34m,\u001b[0m \u001b[0mstatus\u001b[0m\u001b[0;34m,\u001b[0m\u001b[0;34m\u001b[0m\u001b[0m\n\u001b[0;32m-> 1399\u001b[0;31m               run_metadata_ptr)\n\u001b[0m\u001b[1;32m   1400\u001b[0m         \u001b[0;32mif\u001b[0m \u001b[0mrun_metadata\u001b[0m\u001b[0;34m:\u001b[0m\u001b[0;34m\u001b[0m\u001b[0m\n\u001b[1;32m   1401\u001b[0m           \u001b[0mproto_data\u001b[0m \u001b[0;34m=\u001b[0m \u001b[0mtf_session\u001b[0m\u001b[0;34m.\u001b[0m\u001b[0mTF_GetBuffer\u001b[0m\u001b[0;34m(\u001b[0m\u001b[0mrun_metadata_ptr\u001b[0m\u001b[0;34m)\u001b[0m\u001b[0;34m\u001b[0m\u001b[0m\n",
      "\u001b[0;31mKeyboardInterrupt\u001b[0m: "
     ]
    }
   ],
   "source": [
    "%%time\n",
    "\n",
    "trained_convolutional = model_convolutional.fit(X_train_re,\n",
    "                        y_train_c,\n",
    "                        batch_size = 32,\n",
    "                        epochs = 80,\n",
    "                        verbose = 1,\n",
    "                        validation_data = (X_test_re, y_test_c)\n",
    "                       )"
   ]
  },
  {
   "cell_type": "code",
   "execution_count": null,
   "metadata": {},
   "outputs": [],
   "source": [
    "plt.plot(trained_convolutional.history['loss'], label=\"Loss\")\n",
    "plt.plot(trained_convolutional.history['val_loss'], label='Val Loss')\n",
    "plt.legend()"
   ]
  },
  {
   "cell_type": "code",
   "execution_count": null,
   "metadata": {},
   "outputs": [],
   "source": [
    "plt.plot(trained_convolutional.history['acc'], label='Acc')\n",
    "plt.plot(trained_convolutional.history['val_acc'], label='Val Acc')\n",
    "plt.legend()"
   ]
  },
  {
   "cell_type": "markdown",
   "metadata": {},
   "source": [
    "On a NN with 1k 256x256 images, 2 convolutional layers, 2 dense layers (512, 128) the scores were:\n",
    "\n",
    "750/750 [==============================] - 19s 26ms/step - loss: 9.2196 - acc: 0.4280 - val_loss: 9.2196 - val_acc: 0.4280\n",
    "\n",
    "<br>\n",
    "\n",
    "I think it might be a lack of data kind of thing so I'm going to let it run on maybe 5k of the dataset with an image resolution of 128 and see what happens\n",
    "\n",
    "3750/3750 [==============================] - 846s 226ms/step - loss: 1.0562 - acc: 0.4733 - val_loss: 1.0565 - val_acc: 0.4736\n",
    "\n",
    "<br>\n",
    "\n",
    "Given the fact that the accuracy increased a little, I am running it with all the data. Took out the Dropout from the model. It takes ~3min per epoch. The model hasn't gotten any better since epoch 2 and it's on 13 now. I'm going to stop it and tune. Probably should look into messing with features and creating an EC2 thing. \n",
    "\n",
    "21741/21741 [==============================] - 141s 6ms/step - loss: 1.0898 - acc: 0.3967 - val_loss: 1.0897 - val_acc: 0.3967\n",
    "\n",
    "\n",
    "<br>\n",
    "\n",
    "Added back in the dropout cases to the model. run overnight. Didn't finish. Got to like epoch 63. Hadn't changed since epoch 7.\n",
    "\n",
    "1741/21741 [==============================] - 337s 16ms/step - loss: 1.0897 - acc: 0.3967 - val_loss: 1.0897 - val_acc: 0.3967\n",
    "\n",
    "Potential things to do:\n",
    "- make different models for sexes\n",
    "- make different models for children vs adults (based on when the chest grows to essentially normalized size so like 16? 24?)\n",
    "- use the EC2 instances\n",
    "- change the y's around. make it binary (pnemonia/not pnemonia)\n",
    "- make the images bigger than 128x128?\n",
    "- try to optimize for false negatives"
   ]
  },
  {
   "cell_type": "code",
   "execution_count": null,
   "metadata": {},
   "outputs": [],
   "source": []
  },
  {
   "cell_type": "code",
   "execution_count": null,
   "metadata": {},
   "outputs": [],
   "source": []
  },
  {
   "cell_type": "code",
   "execution_count": null,
   "metadata": {},
   "outputs": [],
   "source": []
  },
  {
   "cell_type": "code",
   "execution_count": null,
   "metadata": {},
   "outputs": [],
   "source": []
  },
  {
   "cell_type": "code",
   "execution_count": null,
   "metadata": {},
   "outputs": [],
   "source": []
  }
 ],
 "metadata": {
  "kernelspec": {
   "display_name": "Python 3",
   "language": "python",
   "name": "python3"
  },
  "language_info": {
   "codemirror_mode": {
    "name": "ipython",
    "version": 3
   },
   "file_extension": ".py",
   "mimetype": "text/x-python",
   "name": "python",
   "nbconvert_exporter": "python",
   "pygments_lexer": "ipython3",
   "version": "3.6.5"
  }
 },
 "nbformat": 4,
 "nbformat_minor": 1
}
