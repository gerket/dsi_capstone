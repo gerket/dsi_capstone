{
 "cells": [
  {
   "cell_type": "markdown",
   "metadata": {},
   "source": [
    "<span style='color:green'> The beginning of this\n",
    "   notebook is almost entirely a starter notebook given by Kaggle in order to get contestants on their way. I have adjusted a few things in order to accommodate my file structure as well as added some notes here or there but it is mainly their work/file.</span>"
   ]
  },
  {
   "cell_type": "code",
   "execution_count": null,
   "metadata": {},
   "outputs": [],
   "source": []
  },
  {
   "cell_type": "code",
   "execution_count": null,
   "metadata": {},
   "outputs": [],
   "source": []
  },
  {
   "cell_type": "markdown",
   "metadata": {
    "_uuid": "09f14d9199ffa8cd84c499f2e9497bc8e27b15fd"
   },
   "source": [
    "# Overview\n",
    "\n",
    "Welcome to the 2018 RSNA Challenge co-hosted by Kaggle. In this competition, the primary endpoint will be the detection of bounding boxes corresponding to the diagnosis of pneumonia (e.g. lung infection) on chest radiographs, a special 2D high resolution grayscale medical image. Note that pnuemonia is just one of many possible disease processes that can occur on a chest radiograph, and that any given single image may contain 0, 1 or many boxes corresponding to possible pneumonia locations.\n",
    "\n",
    "My name is Peter Chang, MD. I am both a radiologist physician and a data scientist / software engineer with machine learning experience. Today, in this Jupyter notebook, we will explore the 2018 RSNA Challenge dataset including underlying data structures, imaging file formats and label types."
   ]
  },
  {
   "cell_type": "code",
   "execution_count": 1,
   "metadata": {
    "_cell_guid": "b1076dfc-b9ad-4769-8c92-a6c4dae69d19",
    "_uuid": "8f2839f25d086af736a60e9eeb907d3b93b6e0e5"
   },
   "outputs": [],
   "source": [
    "import glob, pylab, pandas as pd\n",
    "import pydicom, numpy as np"
   ]
  },
  {
   "cell_type": "markdown",
   "metadata": {
    "_uuid": "0f368672adb58cc7bb57ecc95a04487251bb9c2c"
   },
   "source": [
    "# Challenge Data\n",
    "\n",
    "The challenge data is organized in several files and folders. If you are following along in the Kaggle kernel, this data will be preloaded in the `../input` directory:"
   ]
  },
  {
   "cell_type": "code",
   "execution_count": 2,
   "metadata": {
    "_uuid": "1b6c13edf09c7d80145173edad847c34db1ba5f2"
   },
   "outputs": [
    {
     "name": "stdout",
     "output_type": "stream",
     "text": [
      "capstone_rsa\t\t\t stage_1_test_images\r\n",
      "logs\t\t\t\t stage_1_train_images\r\n",
      "male_adult_patient_data.csv\t stage_1_train_labels.csv\r\n",
      "mask_rcnn_coco.h5\t\t submissions\r\n",
      "stage_1_detailed_class_info.csv  zips\r\n",
      "stage_1_sample_submission.csv\r\n"
     ]
    }
   ],
   "source": [
    "!ls ../data"
   ]
  },
  {
   "cell_type": "markdown",
   "metadata": {
    "_uuid": "88fb25d6864f224a0995a28140de532f80cb3e6b"
   },
   "source": [
    "The several key items in this folder:\n",
    "* `stage_1_train_labels.csv`: CSV file containing training set patientIds and  labels (including bounding boxes)\n",
    "* `stage_1_detailed_class_info.csv`: CSV file containing detailed labels (explored further below)\n",
    "* `stage_1_train_images/`:  directory containing training set raw image (DICOM) files\n",
    "\n",
    "Let's go ahead and take a look at the first labels CSV file first:"
   ]
  },
  {
   "cell_type": "code",
   "execution_count": 3,
   "metadata": {
    "_uuid": "b4c54974f191b477e46370c79254f75657ed2a85",
    "scrolled": true
   },
   "outputs": [
    {
     "name": "stdout",
     "output_type": "stream",
     "text": [
      "patientId    0004cfab-14fd-4e49-80ba-63a80b6bddd6\n",
      "x                                             NaN\n",
      "y                                             NaN\n",
      "width                                         NaN\n",
      "height                                        NaN\n",
      "Target                                          0\n",
      "Name: 0, dtype: object\n"
     ]
    }
   ],
   "source": [
    "df = pd.read_csv('../data/stage_1_train_labels.csv')\n",
    "print(df.iloc[0])"
   ]
  },
  {
   "cell_type": "markdown",
   "metadata": {
    "_uuid": "5435a871306c834a2282ae867a86861f9b80a610"
   },
   "source": [
    "As you can see, each row in the CSV file contains a `patientId` (one unique value per patient), a target (either 0 or 1 for absence or presence of pneumonia, respectively) and the corresponding abnormality bounding box defined by the upper-left hand corner (x, y) coordinate and its corresponding width and height. In this particular case, the patient does *not* have pneumonia and so the corresponding bounding box information is set to `NaN`. See an example case with pnuemonia here:"
   ]
  },
  {
   "cell_type": "code",
   "execution_count": 4,
   "metadata": {
    "_uuid": "98c60a2ddf5bba070c0908d9bb705c0c5976ac7a",
    "scrolled": true
   },
   "outputs": [
    {
     "name": "stdout",
     "output_type": "stream",
     "text": [
      "patientId    00436515-870c-4b36-a041-de91049b9ab4\n",
      "x                                             264\n",
      "y                                             152\n",
      "width                                         213\n",
      "height                                        379\n",
      "Target                                          1\n",
      "Name: 4, dtype: object\n"
     ]
    }
   ],
   "source": [
    "print(df.iloc[4])"
   ]
  },
  {
   "cell_type": "markdown",
   "metadata": {
    "_uuid": "7ad152504ec74be4ac1992ca669da7ad3ce3aac2"
   },
   "source": [
    "One important thing to keep in mind is that a given `patientId` may have **multiple** boxes if more than one area of pneumonia is detected (see below for example images)."
   ]
  },
  {
   "cell_type": "markdown",
   "metadata": {
    "_cell_guid": "79c7e3d0-c299-4dcb-8224-4455121ee9b0",
    "_uuid": "d629ff2d2480ee46fbb7e2d37f6b5fab8052498a",
    "collapsed": true
   },
   "source": [
    "# Overview of DICOM files and medical images\n",
    "\n",
    "Medical images are stored in a special format known as DICOM files (`*.dcm`). They contain a combination of header metadata as well as underlying raw image arrays for pixel data. In Python, one popular library to access and manipulate DICOM files is the `pydicom` module. To use the `pydicom` library, first find the DICOM file for a given `patientId` by simply looking for the matching file in the `stage_1_train_images/` folder, and the use the `pydicom.read_file()` method to load the data:"
   ]
  },
  {
   "cell_type": "code",
   "execution_count": 5,
   "metadata": {
    "_uuid": "5f2c15162a0d1390624b42ef94d4f9e260be56ac",
    "scrolled": true
   },
   "outputs": [
    {
     "name": "stdout",
     "output_type": "stream",
     "text": [
      "(0008, 0005) Specific Character Set              CS: 'ISO_IR 100'\n",
      "(0008, 0016) SOP Class UID                       UI: Secondary Capture Image Storage\n",
      "(0008, 0018) SOP Instance UID                    UI: 1.2.276.0.7230010.3.1.4.8323329.28530.1517874485.775526\n",
      "(0008, 0020) Study Date                          DA: '19010101'\n",
      "(0008, 0030) Study Time                          TM: '000000.00'\n",
      "(0008, 0050) Accession Number                    SH: ''\n",
      "(0008, 0060) Modality                            CS: 'CR'\n",
      "(0008, 0064) Conversion Type                     CS: 'WSD'\n",
      "(0008, 0090) Referring Physician's Name          PN: ''\n",
      "(0008, 103e) Series Description                  LO: 'view: PA'\n",
      "(0010, 0010) Patient's Name                      PN: '0004cfab-14fd-4e49-80ba-63a80b6bddd6'\n",
      "(0010, 0020) Patient ID                          LO: '0004cfab-14fd-4e49-80ba-63a80b6bddd6'\n",
      "(0010, 0030) Patient's Birth Date                DA: ''\n",
      "(0010, 0040) Patient's Sex                       CS: 'F'\n",
      "(0010, 1010) Patient's Age                       AS: '51'\n",
      "(0018, 0015) Body Part Examined                  CS: 'CHEST'\n",
      "(0018, 5101) View Position                       CS: 'PA'\n",
      "(0020, 000d) Study Instance UID                  UI: 1.2.276.0.7230010.3.1.2.8323329.28530.1517874485.775525\n",
      "(0020, 000e) Series Instance UID                 UI: 1.2.276.0.7230010.3.1.3.8323329.28530.1517874485.775524\n",
      "(0020, 0010) Study ID                            SH: ''\n",
      "(0020, 0011) Series Number                       IS: \"1\"\n",
      "(0020, 0013) Instance Number                     IS: \"1\"\n",
      "(0020, 0020) Patient Orientation                 CS: ''\n",
      "(0028, 0002) Samples per Pixel                   US: 1\n",
      "(0028, 0004) Photometric Interpretation          CS: 'MONOCHROME2'\n",
      "(0028, 0010) Rows                                US: 1024\n",
      "(0028, 0011) Columns                             US: 1024\n",
      "(0028, 0030) Pixel Spacing                       DS: ['0.14300000000000002', '0.14300000000000002']\n",
      "(0028, 0100) Bits Allocated                      US: 8\n",
      "(0028, 0101) Bits Stored                         US: 8\n",
      "(0028, 0102) High Bit                            US: 7\n",
      "(0028, 0103) Pixel Representation                US: 0\n",
      "(0028, 2110) Lossy Image Compression             CS: '01'\n",
      "(0028, 2114) Lossy Image Compression Method      CS: 'ISO_10918_1'\n",
      "(7fe0, 0010) Pixel Data                          OB: Array of 142006 bytes\n"
     ]
    }
   ],
   "source": [
    "patientId = df['patientId'][0]\n",
    "dcm_file = '../data/stage_1_train_images/%s.dcm' % patientId\n",
    "dcm_data = pydicom.read_file(dcm_file)\n",
    "\n",
    "print(dcm_data)"
   ]
  },
  {
   "cell_type": "code",
   "execution_count": 6,
   "metadata": {},
   "outputs": [
    {
     "data": {
      "text/plain": [
       "('51', 'F', '')"
      ]
     },
     "execution_count": 6,
     "metadata": {},
     "output_type": "execute_result"
    }
   ],
   "source": [
    "dcm_data.PatientAge, dcm_data.PatientSex, dcm_data.PatientOrientation"
   ]
  },
  {
   "cell_type": "markdown",
   "metadata": {
    "_uuid": "2cfbe9eb43f4e4922c42481739046943767f765c"
   },
   "source": [
    "Most of the standard headers containing patient identifable information have been anonymized (removed) so we are left with a relatively sparse set of metadata. The primary field we will be accessing is the underlying pixel data as follows:"
   ]
  },
  {
   "cell_type": "code",
   "execution_count": 7,
   "metadata": {
    "_uuid": "953ccb9e176398bcad8dad0241dbc1e194fa8a8e",
    "scrolled": true
   },
   "outputs": [
    {
     "name": "stdout",
     "output_type": "stream",
     "text": [
      "<class 'numpy.ndarray'>\n",
      "uint8\n",
      "(1024, 1024)\n"
     ]
    }
   ],
   "source": [
    "im = dcm_data.pixel_array\n",
    "print(type(im))\n",
    "print(im.dtype)\n",
    "print(im.shape)"
   ]
  },
  {
   "cell_type": "markdown",
   "metadata": {
    "_uuid": "ed51c8db0a041023f7fb19ecd66b08bb630a1485"
   },
   "source": [
    "## Considerations\n",
    "\n",
    "As we can see here, the pixel array data is stored as a Numpy array, a powerful numeric Python library for handling and manipulating matrix data (among other things). In addition, it is apparent here that the original radiographs have been preprocessed for us as follows:\n",
    "\n",
    "* The relatively high dynamic range, high bit-depth original images have been rescaled to 8-bit encoding (256 grayscales). For the radiologists out there, this means that the images have been windowed and leveled already. In clinical practice, manipulating the image bit-depth is typically done manually by a radiologist to highlight certain disease processes. To visually assess the quality of the automated bit-depth downscaling and for considerations on potentially improving this baseline, consider consultation with a radiologist physician.\n",
    "\n",
    "* The relativley large original image matrices (typically acquired at >2000 x 2000) have been resized to the data-science friendly shape of 1024 x 1024. For the purposes of this challenge, the diagnosis of most pneumonia cases can typically be made at this resolution. To visually assess the feasibility of diagnosis at this resolution, and to determine the optimal resolution for pneumonia detection (oftentimes can be done at a resolution *even smaller* than 1024 x 1024), consider consultation with a radiogist physician.\n",
    "\n",
    "## Visualizing An Example\n",
    "\n",
    "To take a look at this first DICOM image, let's use the `pylab.imshow()` method:"
   ]
  },
  {
   "cell_type": "code",
   "execution_count": 8,
   "metadata": {
    "_uuid": "59ac176a83e8fc1f11531a216723791577948fbe"
   },
   "outputs": [
    {
     "data": {
      "text/plain": [
       "(-0.5, 1023.5, 1023.5, -0.5)"
      ]
     },
     "execution_count": 8,
     "metadata": {},
     "output_type": "execute_result"
    },
    {
     "data": {
      "image/png": "[encoded data removed]",
      "text/plain": [
       "<Figure size 432x288 with 1 Axes>"
      ]
     },
     "metadata": {
      "needs_background": "light"
     },
     "output_type": "display_data"
    }
   ],
   "source": [
    "pylab.imshow(im, cmap=pylab.cm.gist_gray)\n",
    "pylab.axis('off')"
   ]
  },
  {
   "cell_type": "markdown",
   "metadata": {
    "_uuid": "78c0e24742ce4f61c153f363e66ac5d7e5efbb0e"
   },
   "source": [
    "# Exploring the Data and Labels\n",
    "\n",
    "As alluded to above, any given patient may potentially have many boxes if there are several different suspicious areas of pneumonia. To collapse the current CSV file dataframe into a dictionary with unique entries, consider the following method:"
   ]
  },
  {
   "cell_type": "code",
   "execution_count": 9,
   "metadata": {
    "_uuid": "626ee0aa4038a988bac8e8c800c4bf4270af1b76"
   },
   "outputs": [],
   "source": [
    "def parse_data(df):\n",
    "    \"\"\"\n",
    "    Method to read a CSV file (Pandas dataframe) and parse the \n",
    "    data into the following nested dictionary:\n",
    "\n",
    "      parsed = {\n",
    "        \n",
    "        'patientId-00': {\n",
    "            'dicom': path/to/dicom/file,\n",
    "            'label': either 0 or 1 for normal or pnuemonia, \n",
    "            'boxes': list of box(es)\n",
    "        },\n",
    "        'patientId-01': {\n",
    "            'dicom': path/to/dicom/file,\n",
    "            'label': either 0 or 1 for normal or pnuemonia, \n",
    "            'boxes': list of box(es)\n",
    "        }, ...\n",
    "\n",
    "      }\n",
    "\n",
    "    \"\"\"\n",
    "    # --- Define lambda to extract coords in list [y, x, height, width]\n",
    "    extract_box = lambda row: [row['y'], row['x'], row['height'], row['width']]\n",
    "\n",
    "    parsed = {}\n",
    "    for n, row in df.iterrows():\n",
    "        # --- Initialize patient entry into parsed \n",
    "        pid = row['patientId']\n",
    "        if pid not in parsed:\n",
    "            parsed[pid] = {\n",
    "                'dicom': '../data/stage_1_train_images/%s.dcm' % pid,\n",
    "                'label': row['Target'],\n",
    "                'boxes': []}\n",
    "\n",
    "        # --- Add box if opacity is present\n",
    "        if parsed[pid]['label'] == 1:\n",
    "            parsed[pid]['boxes'].append(extract_box(row))\n",
    "\n",
    "    return parsed"
   ]
  },
  {
   "cell_type": "markdown",
   "metadata": {
    "_uuid": "cbb1a9cf9eb93df25896f47f80257aba561c0d00"
   },
   "source": [
    "Let's use the method here:"
   ]
  },
  {
   "cell_type": "code",
   "execution_count": 10,
   "metadata": {
    "_uuid": "fbf2c2f60dcc661c249989eb063382ad7304aa10",
    "scrolled": false
   },
   "outputs": [],
   "source": [
    "parsed = parse_data(df)"
   ]
  },
  {
   "cell_type": "markdown",
   "metadata": {
    "_uuid": "7b851e847ce442d690a8dc55937070235c7a16f0"
   },
   "source": [
    "As we saw above, patient `00436515-870c-4b36-a041-de91049b9ab4` has pnuemonia so lets check our new `parsed` dict here to see the patients corresponding bounding boxes:"
   ]
  },
  {
   "cell_type": "code",
   "execution_count": 11,
   "metadata": {
    "_uuid": "459c07f8fadd3f30aff6ff26bdd4b4c8fe4f79f5"
   },
   "outputs": [
    {
     "data": {
      "text/plain": [
       "{'dicom': '../data/stage_1_train_images/00436515-870c-4b36-a041-de91049b9ab4.dcm',\n",
       " 'label': 1,\n",
       " 'boxes': [[152.0, 264.0, 379.0, 213.0], [152.0, 562.0, 453.0, 256.0]]}"
      ]
     },
     "metadata": {},
     "output_type": "display_data"
    }
   ],
   "source": [
    "display(parsed['00436515-870c-4b36-a041-de91049b9ab4'])"
   ]
  },
  {
   "cell_type": "markdown",
   "metadata": {
    "_uuid": "d54c891b2477a2c022b8b4e3ffd73422eaf862e1"
   },
   "source": [
    "# Visualizing Boxes\n",
    "\n",
    "In order to overlay color boxes on the original grayscale DICOM files, consider using the following  methods (below, the main method `draw()` requires the method `overlay_box()`):"
   ]
  },
  {
   "cell_type": "code",
   "execution_count": 12,
   "metadata": {
    "_uuid": "6be7b744e42ac7204ea661c0c7175881b043c5c6"
   },
   "outputs": [],
   "source": [
    "def draw(data):\n",
    "    \"\"\"\n",
    "    Method to draw single patient with bounding box(es) if present \n",
    "\n",
    "    \"\"\"\n",
    "    # --- Open DICOM file\n",
    "    d = pydicom.read_file(data['dicom'])\n",
    "    im = d.pixel_array\n",
    "\n",
    "    # --- Convert from single-channel grayscale to 3-channel RGB\n",
    "    im = np.stack([im] * 3, axis=2)\n",
    "\n",
    "    # --- Add boxes with random color if present\n",
    "    for box in data['boxes']:\n",
    "        rgb = np.floor(np.random.rand(3) * 256).astype('int')\n",
    "        im = overlay_box(im=im, box=box, rgb=rgb, stroke=6)\n",
    "\n",
    "    pylab.imshow(im, cmap=pylab.cm.gist_gray)\n",
    "    pylab.axis('off')\n",
    "\n",
    "def overlay_box(im, box, rgb, stroke=1):\n",
    "    \"\"\"\n",
    "    Method to overlay single box on image\n",
    "\n",
    "    \"\"\"\n",
    "    # --- Convert coordinates to integers\n",
    "    box = [int(b) for b in box]\n",
    "    \n",
    "    # --- Extract coordinates\n",
    "    y1, x1, height, width = box\n",
    "    y2 = y1 + height\n",
    "    x2 = x1 + width\n",
    "\n",
    "    im[y1:y1 + stroke, x1:x2] = rgb\n",
    "    im[y2:y2 + stroke, x1:x2] = rgb\n",
    "    im[y1:y2, x1:x1 + stroke] = rgb\n",
    "    im[y1:y2, x2:x2 + stroke] = rgb\n",
    "\n",
    "    return im"
   ]
  },
  {
   "cell_type": "markdown",
   "metadata": {
    "_uuid": "d10aef5768f6147aaa4c5c8dec7444fb90f0842d"
   },
   "source": [
    "As we saw above, patient `00436515-870c-4b36-a041-de91049b9ab4` has pnuemonia so let's take a look at the overlaid bounding boxes:"
   ]
  },
  {
   "cell_type": "code",
   "execution_count": 13,
   "metadata": {
    "_uuid": "ee8f69746904ae88da12f631b6c9e0b1e214c4fa",
    "scrolled": true
   },
   "outputs": [
    {
     "data": {
      "image/png": "[encoded data removed]",
      "text/plain": [
       "<Figure size 432x288 with 1 Axes>"
      ]
     },
     "metadata": {
      "needs_background": "light"
     },
     "output_type": "display_data"
    }
   ],
   "source": [
    "draw(parsed['00436515-870c-4b36-a041-de91049b9ab4'])"
   ]
  },
  {
   "cell_type": "markdown",
   "metadata": {
    "_uuid": "eb00fb542999b5ffe6b32ee38321830f9b090d26"
   },
   "source": [
    "## Exploring Detailed Labels\n",
    "\n",
    "In this challenge, the primary endpoint will be the detection of bounding boxes consisting of a binary classification---e.g. the presence or absence of pneumonia. However, in addition to the binary classification, each bounding box *without* pneumonia is further categorized into *normal* or *no lung opacity / not normal*. This extra third class indicates that while pneumonia was determined not to be present, there was nonetheless some type of abnormality on the image---and oftentimes this finding may mimic the appearance of true pneumonia. Keep in mind that this extra class is provided as supplemental information to help improve algorithm accuracy if needed; generation of this separate class **will not** be a formal metric used to evaluate performance in this competition.\n",
    "\n",
    "As above, we saw that the first patient in the CSV file did not have pneumonia. Let's look at the detailed label information for this patient:"
   ]
  },
  {
   "cell_type": "code",
   "execution_count": 14,
   "metadata": {
    "_uuid": "a639baad366af644bdd8efe63712dd47cc0fe9ed"
   },
   "outputs": [
    {
     "name": "stdout",
     "output_type": "stream",
     "text": [
      "patientId    0004cfab-14fd-4e49-80ba-63a80b6bddd6\n",
      "class                No Lung Opacity / Not Normal\n",
      "Name: 0, dtype: object\n"
     ]
    }
   ],
   "source": [
    "df_detailed = pd.read_csv('../data/stage_1_detailed_class_info.csv')\n",
    "print(df_detailed.iloc[0])"
   ]
  },
  {
   "cell_type": "markdown",
   "metadata": {
    "_uuid": "8bb1f27ca89d8f05142e7ac462ccbde61d4228bd"
   },
   "source": [
    "As we see here, the patient does not have pneumonia however *does* have another imaging abnormality present. Let's take a closer look:"
   ]
  },
  {
   "cell_type": "code",
   "execution_count": 15,
   "metadata": {
    "_uuid": "ce3843dbf0f47cda1299d05fa8791148c1c2e806"
   },
   "outputs": [
    {
     "data": {
      "image/png": "[encoded data removed]",
      "text/plain": [
       "<Figure size 432x288 with 1 Axes>"
      ]
     },
     "metadata": {
      "needs_background": "light"
     },
     "output_type": "display_data"
    }
   ],
   "source": [
    "patientId = df_detailed['patientId'][0]\n",
    "draw(parsed[patientId])"
   ]
  },
  {
   "cell_type": "markdown",
   "metadata": {
    "_uuid": "b54a1136f966df74c15872a073fc333a8dd37294"
   },
   "source": [
    "While the image displayed inline within the notebook is small, as a radiologist it is evident that the patient has several well circumscribed nodular densities in the left lung (right side of image). In addition there is a large chest tube in the right lung (left side of the image) which has been placed to drain fluid accumulation (e.g. pleural effusion) at the right lung base that also demonstrates overlying patchy densities (e.g. possibly atelectasis or partial lung collapse).\n",
    "\n",
    "As you can see, there are a number of abnormalities on the image, and the determination that none of these findings correlate to pneumonia is somewhat subjective even among expert physicians. Therefore, as is almost always the case in medical imaging datasets, the provided ground-truth labels are far from 100% objective. Keep this in mind as you develop your algorithm, and consider consultation with a radiologist physician to help determine an optimal strategy for mitigating these discrepencies."
   ]
  },
  {
   "cell_type": "markdown",
   "metadata": {
    "_uuid": "f52f87aafb11d94916d984e19089c28e25b95eed"
   },
   "source": [
    "## Label Summary\n",
    "\n",
    "Finally, let us take a closer look at the distribution of labels in the dataset. To do so we will first parse the detailed label information:"
   ]
  },
  {
   "cell_type": "code",
   "execution_count": 16,
   "metadata": {
    "_uuid": "44cdd1bff2692927dabd6d08f231be9aae4d31c9"
   },
   "outputs": [
    {
     "data": {
      "text/plain": [
       "{'No Lung Opacity / Not Normal': 11500, 'Normal': 8525, 'Lung Opacity': 8964}"
      ]
     },
     "metadata": {},
     "output_type": "display_data"
    }
   ],
   "source": [
    "summary = {}\n",
    "for n, row in df_detailed.iterrows():\n",
    "    if row['class'] not in summary:\n",
    "        summary[row['class']] = 0\n",
    "    summary[row['class']] += 1\n",
    "    \n",
    "display(summary)"
   ]
  },
  {
   "cell_type": "code",
   "execution_count": 17,
   "metadata": {},
   "outputs": [
    {
     "data": {
      "text/plain": [
       "pandas.core.frame.DataFrame"
      ]
     },
     "execution_count": 17,
     "metadata": {},
     "output_type": "execute_result"
    }
   ],
   "source": [
    "type(df_detailed)"
   ]
  },
  {
   "cell_type": "code",
   "execution_count": 18,
   "metadata": {},
   "outputs": [
    {
     "data": {
      "text/plain": [
       "No Lung Opacity / Not Normal    11500\n",
       "Lung Opacity                     8964\n",
       "Normal                           8525\n",
       "Name: class, dtype: int64"
      ]
     },
     "execution_count": 18,
     "metadata": {},
     "output_type": "execute_result"
    }
   ],
   "source": [
    "df_detailed['class'].value_counts()"
   ]
  },
  {
   "cell_type": "markdown",
   "metadata": {
    "_uuid": "7e1575f979fe05c0853ba19bf28b56099fd38d7a"
   },
   "source": [
    "As we can see, there is a relatively even split between the three classes, with nearly 2/3rd of the data comprising of no pneumonia (either completely *normal* or *no lung opacity / not normal*). Compared to most medical imaging datasets, where the prevalence of disease is quite low, this dataset has been significantly enriched with pathology."
   ]
  },
  {
   "cell_type": "markdown",
   "metadata": {
    "_uuid": "2f4da05fb65ba9b4ce1b14b7a9c85140fcd037d5"
   },
   "source": [
    "# Next Steps\n",
    "\n",
    "Now that you understand the data structures, imaging file formats and label types, it's time to make an algorithm! Keep in mind that the primary endpoint is the detection of bounding boxes, thus you will likely be considering various **object localization** algorithms. An alternative strategy is to consider the related family of **segmentation** algorithms with the acknowledgement that bounding boxes will only be a coarse approximation to true pixel-by-pixel image segmentation masks.\n",
    "\n",
    "Finally, as alluded to several times in this notebook, a radiologist physican may often times provide useful ancillary information, strategy for algorithm development and/or additional label reconciliation. In addition to physicians you may have access to locally, the RSNA will reach out to radiologists and facilitate engagement remotely through the Kaggle online forums. As a medical professional, I know that many of my colleagues are very interested in getting started so please feel free to reach out and start a conversation! \n",
    "\n",
    "Good luck!"
   ]
  },
  {
   "cell_type": "code",
   "execution_count": null,
   "metadata": {},
   "outputs": [],
   "source": []
  },
  {
   "cell_type": "markdown",
   "metadata": {},
   "source": [
    "<span style='color:green'>Tom's Notes</span>\n",
    "\n",
    "So what exactly am I trying to do here. I'm trying to detect pneumonia in an xray-type scan given to me as dicom files. \n",
    "\n",
    "Primarily there are two outputs (of a sort):\n",
    "- Classification (normal, abnormal, pneumonia)\n",
    "    - In these examples, normal and abnormal can be combined into 1 category such that there is binary yes/no for pneumonia. This may or may not be useful.\n",
    "- Bounding box(es) for areas that contain the pneumonia\n",
    "\n",
    "How am I planning on accomplishing theses tasks?\n",
    "- We have just started learning about neural networks. As such, I can envision a classification NN that tells me whether or not there is pneumonia. Getting it to actually give me the coordinates, in some cases multiple coordinates, is a bit more difficult of a venture for me to see at the moment\n",
    "\n",
    "What I've done:\n",
    "- Read through the starter section of the kaggle competition\n",
    "- Gone through this notebook, understanding how to view the dicom pics and relate them to their patient files and other meta data. \n",
    "\n",
    "Next steps:\n",
    "- begin going through the forum for this competition\n",
    "- I believe there is more material to reference before I go completely off on my own\n",
    "- figure out exactly how the bounding boxes are measured\n",
    "- look into 'object localization' and 'segmentation' algorithms"
   ]
  },
  {
   "cell_type": "code",
   "execution_count": null,
   "metadata": {},
   "outputs": [],
   "source": []
  },
  {
   "cell_type": "markdown",
   "metadata": {},
   "source": [
    "I want to build and train a crappy model that just predicts T/F for an image regarding whether or not there is Pneumonia"
   ]
  },
  {
   "cell_type": "code",
   "execution_count": null,
   "metadata": {},
   "outputs": [],
   "source": []
  },
  {
   "cell_type": "code",
   "execution_count": 19,
   "metadata": {},
   "outputs": [
    {
     "name": "stderr",
     "output_type": "stream",
     "text": [
      "Using TensorFlow backend.\n"
     ]
    }
   ],
   "source": [
    "import pandas as pd\n",
    "import numpy as np\n",
    "from sklearn.model_selection import train_test_split\n",
    "from sklearn.preprocessing import StandardScaler\n",
    "import matplotlib.pyplot as plt\n",
    "\n",
    "%matplotlib inline\n",
    "%config InlineBackend.figure_format = 'retina'\n",
    "\n",
    "from keras.models import Sequential\n",
    "from keras.layers import Dense, Dropout, Activation, Flatten, Conv2D, MaxPooling2D\n",
    "from keras.utils import to_categorical\n",
    "\n",
    "from numpy.random import seed\n",
    "from tensorflow import set_random_seed"
   ]
  },
  {
   "cell_type": "code",
   "execution_count": 20,
   "metadata": {},
   "outputs": [],
   "source": [
    "seed(42)\n",
    "set_random_seed(42)"
   ]
  },
  {
   "cell_type": "code",
   "execution_count": 21,
   "metadata": {},
   "outputs": [
    {
     "name": "stdout",
     "output_type": "stream",
     "text": [
      "patientId    0004cfab-14fd-4e49-80ba-63a80b6bddd6\n",
      "class                No Lung Opacity / Not Normal\n",
      "Name: 0, dtype: object\n"
     ]
    }
   ],
   "source": [
    "df_detailed = pd.read_csv('../data/stage_1_detailed_class_info.csv')\n",
    "print(df_detailed.iloc[0])"
   ]
  },
  {
   "cell_type": "code",
   "execution_count": 38,
   "metadata": {},
   "outputs": [],
   "source": [
    "resized_shape = (128, 128)\n",
    "num_images = df_detailed.shape[0]"
   ]
  },
  {
   "cell_type": "code",
   "execution_count": 23,
   "metadata": {},
   "outputs": [],
   "source": [
    "male_adult_data = pd.read_csv('../data/male_adult_patient_data.csv')"
   ]
  },
  {
   "cell_type": "code",
   "execution_count": 24,
   "metadata": {},
   "outputs": [
    {
     "data": {
      "text/html": [
       "<div>\n",
       "<style scoped>\n",
       "    .dataframe tbody tr th:only-of-type {\n",
       "        vertical-align: middle;\n",
       "    }\n",
       "\n",
       "    .dataframe tbody tr th {\n",
       "        vertical-align: top;\n",
       "    }\n",
       "\n",
       "    .dataframe thead th {\n",
       "        text-align: right;\n",
       "    }\n",
       "</style>\n",
       "<table border=\"1\" class=\"dataframe\">\n",
       "  <thead>\n",
       "    <tr style=\"text-align: right;\">\n",
       "      <th></th>\n",
       "      <th>patientId</th>\n",
       "      <th>sex</th>\n",
       "      <th>age</th>\n",
       "      <th>viewPosition</th>\n",
       "    </tr>\n",
       "  </thead>\n",
       "  <tbody>\n",
       "    <tr>\n",
       "      <th>0</th>\n",
       "      <td>00322d4d-1c29-4943-afc9-b6754be640eb</td>\n",
       "      <td>M</td>\n",
       "      <td>19</td>\n",
       "      <td>AP</td>\n",
       "    </tr>\n",
       "  </tbody>\n",
       "</table>\n",
       "</div>"
      ],
      "text/plain": [
       "                              patientId sex  age viewPosition\n",
       "0  00322d4d-1c29-4943-afc9-b6754be640eb   M   19           AP"
      ]
     },
     "execution_count": 24,
     "metadata": {},
     "output_type": "execute_result"
    }
   ],
   "source": [
    "male_adult_data.head(1)"
   ]
  },
  {
   "cell_type": "code",
   "execution_count": 25,
   "metadata": {},
   "outputs": [
    {
     "data": {
      "text/html": [
       "<div>\n",
       "<style scoped>\n",
       "    .dataframe tbody tr th:only-of-type {\n",
       "        vertical-align: middle;\n",
       "    }\n",
       "\n",
       "    .dataframe tbody tr th {\n",
       "        vertical-align: top;\n",
       "    }\n",
       "\n",
       "    .dataframe thead th {\n",
       "        text-align: right;\n",
       "    }\n",
       "</style>\n",
       "<table border=\"1\" class=\"dataframe\">\n",
       "  <thead>\n",
       "    <tr style=\"text-align: right;\">\n",
       "      <th></th>\n",
       "      <th>patientId</th>\n",
       "      <th>class</th>\n",
       "    </tr>\n",
       "  </thead>\n",
       "  <tbody>\n",
       "    <tr>\n",
       "      <th>0</th>\n",
       "      <td>0004cfab-14fd-4e49-80ba-63a80b6bddd6</td>\n",
       "      <td>No Lung Opacity / Not Normal</td>\n",
       "    </tr>\n",
       "  </tbody>\n",
       "</table>\n",
       "</div>"
      ],
      "text/plain": [
       "                              patientId                         class\n",
       "0  0004cfab-14fd-4e49-80ba-63a80b6bddd6  No Lung Opacity / Not Normal"
      ]
     },
     "execution_count": 25,
     "metadata": {},
     "output_type": "execute_result"
    }
   ],
   "source": [
    "df_detailed.head(1)"
   ]
  },
  {
   "cell_type": "code",
   "execution_count": 26,
   "metadata": {
    "scrolled": true
   },
   "outputs": [
    {
     "data": {
      "text/plain": [
       "((28989, 2), (15603, 4))"
      ]
     },
     "execution_count": 26,
     "metadata": {},
     "output_type": "execute_result"
    }
   ],
   "source": [
    "df_detailed.shape, male_adult_data.shape"
   ]
  },
  {
   "cell_type": "code",
   "execution_count": 27,
   "metadata": {},
   "outputs": [
    {
     "data": {
      "text/plain": [
       "patientId    object\n",
       "class        object\n",
       "dtype: object"
      ]
     },
     "execution_count": 27,
     "metadata": {},
     "output_type": "execute_result"
    }
   ],
   "source": [
    "df_detailed.dtypes"
   ]
  },
  {
   "cell_type": "code",
   "execution_count": 28,
   "metadata": {},
   "outputs": [
    {
     "data": {
      "text/plain": [
       "patientId       object\n",
       "sex             object\n",
       "age              int64\n",
       "viewPosition    object\n",
       "dtype: object"
      ]
     },
     "execution_count": 28,
     "metadata": {},
     "output_type": "execute_result"
    }
   ],
   "source": [
    "male_adult_data.dtypes"
   ]
  },
  {
   "cell_type": "code",
   "execution_count": 29,
   "metadata": {},
   "outputs": [],
   "source": [
    "male_adult_data.drop_duplicates(inplace=True)"
   ]
  },
  {
   "cell_type": "code",
   "execution_count": 30,
   "metadata": {
    "scrolled": true
   },
   "outputs": [
    {
     "data": {
      "text/plain": [
       "(15603, 5)"
      ]
     },
     "execution_count": 30,
     "metadata": {},
     "output_type": "execute_result"
    }
   ],
   "source": [
    "merged_df = df_detailed.merge(male_adult_data, on='patientId')\n",
    "merged_df.shape"
   ]
  },
  {
   "cell_type": "code",
   "execution_count": null,
   "metadata": {},
   "outputs": [],
   "source": []
  },
  {
   "cell_type": "code",
   "execution_count": 31,
   "metadata": {},
   "outputs": [],
   "source": [
    "patientId = merged_df['patientId'][0]\n",
    "dcm_file = '../data/stage_1_train_images/%s.dcm' % patientId\n",
    "dcm_data = pydicom.read_file(dcm_file)"
   ]
  },
  {
   "cell_type": "code",
   "execution_count": 32,
   "metadata": {},
   "outputs": [],
   "source": [
    "im = dcm_data.pixel_array"
   ]
  },
  {
   "cell_type": "code",
   "execution_count": 33,
   "metadata": {},
   "outputs": [
    {
     "data": {
      "text/plain": [
       "numpy.ndarray"
      ]
     },
     "execution_count": 33,
     "metadata": {},
     "output_type": "execute_result"
    }
   ],
   "source": [
    "type(im)"
   ]
  },
  {
   "cell_type": "code",
   "execution_count": 39,
   "metadata": {},
   "outputs": [
    {
     "data": {
      "text/plain": [
       "['pixel0',\n",
       " 'pixel1',\n",
       " 'pixel2',\n",
       " 'pixel3',\n",
       " 'pixel4',\n",
       " 'pixel5',\n",
       " 'pixel6',\n",
       " 'pixel7',\n",
       " 'pixel8',\n",
       " 'pixel9']"
      ]
     },
     "execution_count": 39,
     "metadata": {},
     "output_type": "execute_result"
    }
   ],
   "source": [
    "pixel_labels = []\n",
    "for i in range(resized_shape[0] * resized_shape[1]):\n",
    "    pixel_labels.append(\"pixel\"+str(i))\n",
    "pixel_labels[:10]"
   ]
  },
  {
   "cell_type": "code",
   "execution_count": 44,
   "metadata": {},
   "outputs": [
    {
     "name": "stdout",
     "output_type": "stream",
     "text": [
      "CPU times: user 61.4 ms, sys: 11.3 ms, total: 72.6 ms\n",
      "Wall time: 76.6 ms\n"
     ]
    }
   ],
   "source": [
    "%%time\n",
    "final_pixel_array = []\n",
    "for i in im:\n",
    "    final_pixel_array.extend(i)"
   ]
  },
  {
   "cell_type": "code",
   "execution_count": 45,
   "metadata": {},
   "outputs": [
    {
     "data": {
      "text/plain": [
       "[4, 12, 11, 10, 10, 8, 9, 7, 10, 10]"
      ]
     },
     "execution_count": 45,
     "metadata": {},
     "output_type": "execute_result"
    }
   ],
   "source": [
    "final_pixel_array[:10]"
   ]
  },
  {
   "cell_type": "code",
   "execution_count": 46,
   "metadata": {},
   "outputs": [
    {
     "data": {
      "text/plain": [
       "(1048576, 16384)"
      ]
     },
     "execution_count": 46,
     "metadata": {},
     "output_type": "execute_result"
    }
   ],
   "source": [
    "len(final_pixel_array), len(pixel_labels)"
   ]
  },
  {
   "cell_type": "code",
   "execution_count": 47,
   "metadata": {},
   "outputs": [],
   "source": [
    "from skimage.transform import resize"
   ]
  },
  {
   "cell_type": "code",
   "execution_count": 88,
   "metadata": {},
   "outputs": [
    {
     "name": "stderr",
     "output_type": "stream",
     "text": [
      "/home/ec2-user/anaconda3/envs/py36/lib/python3.6/site-packages/skimage/transform/_warps.py:105: UserWarning: The default mode, 'constant', will be changed to 'reflect' in skimage 0.15.\n",
      "  warn(\"The default mode, 'constant', will be changed to 'reflect' in \"\n",
      "/home/ec2-user/anaconda3/envs/py36/lib/python3.6/site-packages/skimage/transform/_warps.py:110: UserWarning: Anti-aliasing will be enabled by default in skimage 0.15 to avoid aliasing artifacts when down-sampling images.\n",
      "  warn(\"Anti-aliasing will be enabled by default in skimage 0.15 to \"\n"
     ]
    }
   ],
   "source": [
    "test_img_array = resize(im, (256,256)) #Testing purposes to see how well the image resolution stands up"
   ]
  },
  {
   "cell_type": "code",
   "execution_count": 89,
   "metadata": {},
   "outputs": [
    {
     "data": {
      "text/plain": [
       "(-0.5, 255.5, 255.5, -0.5)"
      ]
     },
     "execution_count": 89,
     "metadata": {},
     "output_type": "execute_result"
    },
    {
     "data": {
      "image/png": "[encoded data removed]",
      "text/plain": [
       "<Figure size 432x288 with 1 Axes>"
      ]
     },
     "metadata": {
      "image/png": {
       "height": 251,
       "width": 263
      },
      "needs_background": "light"
     },
     "output_type": "display_data"
    }
   ],
   "source": [
    "pylab.imshow(test_img_array, cmap=pylab.cm.gist_gray)\n",
    "pylab.axis('off')"
   ]
  },
  {
   "cell_type": "code",
   "execution_count": 90,
   "metadata": {},
   "outputs": [
    {
     "data": {
      "text/plain": [
       "(15603, 5)"
      ]
     },
     "execution_count": 90,
     "metadata": {},
     "output_type": "execute_result"
    }
   ],
   "source": [
    "merged_df.shape"
   ]
  },
  {
   "cell_type": "code",
   "execution_count": 67,
   "metadata": {
    "scrolled": true
   },
   "outputs": [
    {
     "data": {
      "text/html": [
       "<div>\n",
       "<style scoped>\n",
       "    .dataframe tbody tr th:only-of-type {\n",
       "        vertical-align: middle;\n",
       "    }\n",
       "\n",
       "    .dataframe tbody tr th {\n",
       "        vertical-align: top;\n",
       "    }\n",
       "\n",
       "    .dataframe thead th {\n",
       "        text-align: right;\n",
       "    }\n",
       "</style>\n",
       "<table border=\"1\" class=\"dataframe\">\n",
       "  <thead>\n",
       "    <tr style=\"text-align: right;\">\n",
       "      <th></th>\n",
       "      <th>patientId</th>\n",
       "      <th>class</th>\n",
       "      <th>sex</th>\n",
       "      <th>age</th>\n",
       "      <th>viewPosition</th>\n",
       "    </tr>\n",
       "  </thead>\n",
       "  <tbody>\n",
       "    <tr>\n",
       "      <th>0</th>\n",
       "      <td>00322d4d-1c29-4943-afc9-b6754be640eb</td>\n",
       "      <td>No Lung Opacity / Not Normal</td>\n",
       "      <td>M</td>\n",
       "      <td>19</td>\n",
       "      <td>AP</td>\n",
       "    </tr>\n",
       "  </tbody>\n",
       "</table>\n",
       "</div>"
      ],
      "text/plain": [
       "                              patientId                         class sex  \\\n",
       "0  00322d4d-1c29-4943-afc9-b6754be640eb  No Lung Opacity / Not Normal   M   \n",
       "\n",
       "   age viewPosition  \n",
       "0   19           AP  "
      ]
     },
     "execution_count": 67,
     "metadata": {},
     "output_type": "execute_result"
    }
   ],
   "source": [
    "merged_df.head(1)"
   ]
  },
  {
   "cell_type": "code",
   "execution_count": 72,
   "metadata": {},
   "outputs": [
    {
     "data": {
      "text/plain": [
       "'No Lung Opacity / Not Normal'"
      ]
     },
     "execution_count": 72,
     "metadata": {},
     "output_type": "execute_result"
    }
   ],
   "source": [
    "merged_df.iloc[0]['class']"
   ]
  },
  {
   "cell_type": "code",
   "execution_count": 73,
   "metadata": {},
   "outputs": [
    {
     "data": {
      "text/plain": [
       "['00322d4d-1c29-4943-afc9-b6754be640eb', 'No Lung Opacity / Not Normal']"
      ]
     },
     "execution_count": 73,
     "metadata": {},
     "output_type": "execute_result"
    }
   ],
   "source": [
    "i = 0\n",
    "[merged_df.iloc[i]['patientId'], merged_df.iloc[i]['class']]"
   ]
  },
  {
   "cell_type": "code",
   "execution_count": 82,
   "metadata": {},
   "outputs": [
    {
     "name": "stderr",
     "output_type": "stream",
     "text": [
      "/home/ec2-user/anaconda3/envs/py36/lib/python3.6/site-packages/skimage/transform/_warps.py:105: UserWarning: The default mode, 'constant', will be changed to 'reflect' in skimage 0.15.\n",
      "  warn(\"The default mode, 'constant', will be changed to 'reflect' in \"\n",
      "/home/ec2-user/anaconda3/envs/py36/lib/python3.6/site-packages/skimage/transform/_warps.py:110: UserWarning: Anti-aliasing will be enabled by default in skimage 0.15 to avoid aliasing artifacts when down-sampling images.\n",
      "  warn(\"Anti-aliasing will be enabled by default in skimage 0.15 to \"\n"
     ]
    },
    {
     "name": "stdout",
     "output_type": "stream",
     "text": [
      "CPU times: user 3min 27s, sys: 4.55 s, total: 3min 32s\n",
      "Wall time: 3min 50s\n"
     ]
    }
   ],
   "source": [
    "%%time\n",
    "\n",
    "# Kernel breaks after like 10-15 minutes running against the whole set. Not scalable it would seem.\n",
    "\n",
    "#trying out scaling the images down to 512x512\n",
    "\n",
    "#setting up an array of 1d pixel arrays for all of the pics\n",
    "huge_pixel_array = []\n",
    "index = 0\n",
    "y_df = []\n",
    "for o in range(merged_df.shape[0]):\n",
    "    # Get the image data\n",
    "    patientId = merged_df.iloc[o]['patientId']\n",
    "    dcm_file = '../data/stage_1_train_images/%s.dcm' % patientId\n",
    "    dcm_data = pydicom.read_file(dcm_file)\n",
    "    im = dcm_data.pixel_array\n",
    "    \n",
    "    #collect the class \n",
    "    #y_df.append([merged_df.iloc[o]['patientId'], merged_df.iloc[o]['class']])\n",
    "    \n",
    "    #convert the image into a 1d array of pixels\n",
    "    final_pixel_array = []\n",
    "    for i in resize(im, resized_shape): #resize the image into a 256x256 image instead of a 1024*1024. Might be too big in the long run still but we'll see\n",
    "        final_pixel_array.extend(i)\n",
    "    huge_pixel_array.append(final_pixel_array)\n",
    "    \n",
    "    \n",
    "    \n",
    "    index += 1\n",
    "    if index == num_images:\n",
    "        break"
   ]
  },
  {
   "cell_type": "code",
   "execution_count": 83,
   "metadata": {},
   "outputs": [],
   "source": [
    "#y = pd.DataFrame(data = y_df, columns = ['patientId', 'class'])"
   ]
  },
  {
   "cell_type": "code",
   "execution_count": 84,
   "metadata": {},
   "outputs": [
    {
     "data": {
      "text/html": [
       "<div>\n",
       "<style scoped>\n",
       "    .dataframe tbody tr th:only-of-type {\n",
       "        vertical-align: middle;\n",
       "    }\n",
       "\n",
       "    .dataframe tbody tr th {\n",
       "        vertical-align: top;\n",
       "    }\n",
       "\n",
       "    .dataframe thead th {\n",
       "        text-align: right;\n",
       "    }\n",
       "</style>\n",
       "<table border=\"1\" class=\"dataframe\">\n",
       "  <thead>\n",
       "    <tr style=\"text-align: right;\">\n",
       "      <th></th>\n",
       "      <th>patientId</th>\n",
       "      <th>class</th>\n",
       "    </tr>\n",
       "  </thead>\n",
       "  <tbody>\n",
       "    <tr>\n",
       "      <th>0</th>\n",
       "      <td>00322d4d-1c29-4943-afc9-b6754be640eb</td>\n",
       "      <td>No Lung Opacity / Not Normal</td>\n",
       "    </tr>\n",
       "    <tr>\n",
       "      <th>1</th>\n",
       "      <td>003d8fa0-6bf1-40ed-b54c-ac657f8495c5</td>\n",
       "      <td>Normal</td>\n",
       "    </tr>\n",
       "    <tr>\n",
       "      <th>2</th>\n",
       "      <td>00569f44-917d-4c86-a842-81832af98c30</td>\n",
       "      <td>No Lung Opacity / Not Normal</td>\n",
       "    </tr>\n",
       "    <tr>\n",
       "      <th>3</th>\n",
       "      <td>006cec2e-6ce2-4549-bffa-eadfcd1e9970</td>\n",
       "      <td>No Lung Opacity / Not Normal</td>\n",
       "    </tr>\n",
       "    <tr>\n",
       "      <th>4</th>\n",
       "      <td>00704310-78a8-4b38-8475-49f4573b2dbb</td>\n",
       "      <td>Lung Opacity</td>\n",
       "    </tr>\n",
       "  </tbody>\n",
       "</table>\n",
       "</div>"
      ],
      "text/plain": [
       "                              patientId                         class\n",
       "0  00322d4d-1c29-4943-afc9-b6754be640eb  No Lung Opacity / Not Normal\n",
       "1  003d8fa0-6bf1-40ed-b54c-ac657f8495c5                        Normal\n",
       "2  00569f44-917d-4c86-a842-81832af98c30  No Lung Opacity / Not Normal\n",
       "3  006cec2e-6ce2-4549-bffa-eadfcd1e9970  No Lung Opacity / Not Normal\n",
       "4  00704310-78a8-4b38-8475-49f4573b2dbb                  Lung Opacity"
      ]
     },
     "execution_count": 84,
     "metadata": {},
     "output_type": "execute_result"
    }
   ],
   "source": [
    "y.head()"
   ]
  },
  {
   "cell_type": "code",
   "execution_count": 85,
   "metadata": {},
   "outputs": [
    {
     "name": "stdout",
     "output_type": "stream",
     "text": [
      "CPU times: user 1min 23s, sys: 1.6 s, total: 1min 25s\n",
      "Wall time: 1min 27s\n"
     ]
    }
   ],
   "source": [
    "%%time\n",
    "temp = pd.DataFrame(data = huge_pixel_array, columns = pixel_labels)"
   ]
  },
  {
   "cell_type": "code",
   "execution_count": 86,
   "metadata": {},
   "outputs": [
    {
     "data": {
      "text/html": [
       "<div>\n",
       "<style scoped>\n",
       "    .dataframe tbody tr th:only-of-type {\n",
       "        vertical-align: middle;\n",
       "    }\n",
       "\n",
       "    .dataframe tbody tr th {\n",
       "        vertical-align: top;\n",
       "    }\n",
       "\n",
       "    .dataframe thead th {\n",
       "        text-align: right;\n",
       "    }\n",
       "</style>\n",
       "<table border=\"1\" class=\"dataframe\">\n",
       "  <thead>\n",
       "    <tr style=\"text-align: right;\">\n",
       "      <th></th>\n",
       "      <th>pixel0</th>\n",
       "      <th>pixel1</th>\n",
       "      <th>pixel2</th>\n",
       "      <th>pixel3</th>\n",
       "      <th>pixel4</th>\n",
       "      <th>pixel5</th>\n",
       "      <th>pixel6</th>\n",
       "      <th>pixel7</th>\n",
       "      <th>pixel8</th>\n",
       "      <th>pixel9</th>\n",
       "      <th>...</th>\n",
       "      <th>pixel16374</th>\n",
       "      <th>pixel16375</th>\n",
       "      <th>pixel16376</th>\n",
       "      <th>pixel16377</th>\n",
       "      <th>pixel16378</th>\n",
       "      <th>pixel16379</th>\n",
       "      <th>pixel16380</th>\n",
       "      <th>pixel16381</th>\n",
       "      <th>pixel16382</th>\n",
       "      <th>pixel16383</th>\n",
       "    </tr>\n",
       "  </thead>\n",
       "  <tbody>\n",
       "    <tr>\n",
       "      <th>0</th>\n",
       "      <td>0.066667</td>\n",
       "      <td>0.054902</td>\n",
       "      <td>0.054902</td>\n",
       "      <td>0.052941</td>\n",
       "      <td>0.052941</td>\n",
       "      <td>0.050980</td>\n",
       "      <td>0.050980</td>\n",
       "      <td>0.050980</td>\n",
       "      <td>0.050980</td>\n",
       "      <td>0.049020</td>\n",
       "      <td>...</td>\n",
       "      <td>0.061765</td>\n",
       "      <td>0.063725</td>\n",
       "      <td>0.064706</td>\n",
       "      <td>0.064706</td>\n",
       "      <td>0.066667</td>\n",
       "      <td>0.073529</td>\n",
       "      <td>0.077451</td>\n",
       "      <td>0.082353</td>\n",
       "      <td>0.101961</td>\n",
       "      <td>0.180392</td>\n",
       "    </tr>\n",
       "    <tr>\n",
       "      <th>1</th>\n",
       "      <td>0.749020</td>\n",
       "      <td>0.707843</td>\n",
       "      <td>0.665686</td>\n",
       "      <td>0.645098</td>\n",
       "      <td>0.630392</td>\n",
       "      <td>0.626471</td>\n",
       "      <td>0.618627</td>\n",
       "      <td>0.614706</td>\n",
       "      <td>0.605882</td>\n",
       "      <td>0.600980</td>\n",
       "      <td>...</td>\n",
       "      <td>0.039216</td>\n",
       "      <td>0.039216</td>\n",
       "      <td>0.039216</td>\n",
       "      <td>0.037255</td>\n",
       "      <td>0.032353</td>\n",
       "      <td>0.034314</td>\n",
       "      <td>0.056863</td>\n",
       "      <td>0.127451</td>\n",
       "      <td>0.272549</td>\n",
       "      <td>0.545098</td>\n",
       "    </tr>\n",
       "    <tr>\n",
       "      <th>2</th>\n",
       "      <td>0.004902</td>\n",
       "      <td>0.007843</td>\n",
       "      <td>0.007843</td>\n",
       "      <td>0.005882</td>\n",
       "      <td>0.005882</td>\n",
       "      <td>0.005882</td>\n",
       "      <td>0.007843</td>\n",
       "      <td>0.007843</td>\n",
       "      <td>0.007843</td>\n",
       "      <td>0.007843</td>\n",
       "      <td>...</td>\n",
       "      <td>0.753922</td>\n",
       "      <td>0.750000</td>\n",
       "      <td>0.753922</td>\n",
       "      <td>0.738235</td>\n",
       "      <td>0.728431</td>\n",
       "      <td>0.723529</td>\n",
       "      <td>0.737255</td>\n",
       "      <td>0.717647</td>\n",
       "      <td>0.725490</td>\n",
       "      <td>0.724510</td>\n",
       "    </tr>\n",
       "    <tr>\n",
       "      <th>3</th>\n",
       "      <td>0.617647</td>\n",
       "      <td>0.231373</td>\n",
       "      <td>0.075490</td>\n",
       "      <td>0.015686</td>\n",
       "      <td>0.019608</td>\n",
       "      <td>0.025490</td>\n",
       "      <td>0.030392</td>\n",
       "      <td>0.028431</td>\n",
       "      <td>0.033333</td>\n",
       "      <td>0.033333</td>\n",
       "      <td>...</td>\n",
       "      <td>0.383333</td>\n",
       "      <td>0.297059</td>\n",
       "      <td>0.221569</td>\n",
       "      <td>0.119608</td>\n",
       "      <td>0.008824</td>\n",
       "      <td>0.000000</td>\n",
       "      <td>0.000000</td>\n",
       "      <td>0.000000</td>\n",
       "      <td>0.003922</td>\n",
       "      <td>0.010784</td>\n",
       "    </tr>\n",
       "    <tr>\n",
       "      <th>4</th>\n",
       "      <td>0.103922</td>\n",
       "      <td>0.005882</td>\n",
       "      <td>0.003922</td>\n",
       "      <td>0.003922</td>\n",
       "      <td>0.003922</td>\n",
       "      <td>0.005882</td>\n",
       "      <td>0.007843</td>\n",
       "      <td>0.007843</td>\n",
       "      <td>0.007843</td>\n",
       "      <td>0.007843</td>\n",
       "      <td>...</td>\n",
       "      <td>0.558824</td>\n",
       "      <td>0.443137</td>\n",
       "      <td>0.363725</td>\n",
       "      <td>0.035294</td>\n",
       "      <td>0.012745</td>\n",
       "      <td>0.022549</td>\n",
       "      <td>0.030392</td>\n",
       "      <td>0.036275</td>\n",
       "      <td>0.041176</td>\n",
       "      <td>0.109804</td>\n",
       "    </tr>\n",
       "  </tbody>\n",
       "</table>\n",
       "<p>5 rows × 16384 columns</p>\n",
       "</div>"
      ],
      "text/plain": [
       "     pixel0    pixel1    pixel2    pixel3    pixel4    pixel5    pixel6  \\\n",
       "0  0.066667  0.054902  0.054902  0.052941  0.052941  0.050980  0.050980   \n",
       "1  0.749020  0.707843  0.665686  0.645098  0.630392  0.626471  0.618627   \n",
       "2  0.004902  0.007843  0.007843  0.005882  0.005882  0.005882  0.007843   \n",
       "3  0.617647  0.231373  0.075490  0.015686  0.019608  0.025490  0.030392   \n",
       "4  0.103922  0.005882  0.003922  0.003922  0.003922  0.005882  0.007843   \n",
       "\n",
       "     pixel7    pixel8    pixel9     ...      pixel16374  pixel16375  \\\n",
       "0  0.050980  0.050980  0.049020     ...        0.061765    0.063725   \n",
       "1  0.614706  0.605882  0.600980     ...        0.039216    0.039216   \n",
       "2  0.007843  0.007843  0.007843     ...        0.753922    0.750000   \n",
       "3  0.028431  0.033333  0.033333     ...        0.383333    0.297059   \n",
       "4  0.007843  0.007843  0.007843     ...        0.558824    0.443137   \n",
       "\n",
       "   pixel16376  pixel16377  pixel16378  pixel16379  pixel16380  pixel16381  \\\n",
       "0    0.064706    0.064706    0.066667    0.073529    0.077451    0.082353   \n",
       "1    0.039216    0.037255    0.032353    0.034314    0.056863    0.127451   \n",
       "2    0.753922    0.738235    0.728431    0.723529    0.737255    0.717647   \n",
       "3    0.221569    0.119608    0.008824    0.000000    0.000000    0.000000   \n",
       "4    0.363725    0.035294    0.012745    0.022549    0.030392    0.036275   \n",
       "\n",
       "   pixel16382  pixel16383  \n",
       "0    0.101961    0.180392  \n",
       "1    0.272549    0.545098  \n",
       "2    0.725490    0.724510  \n",
       "3    0.003922    0.010784  \n",
       "4    0.041176    0.109804  \n",
       "\n",
       "[5 rows x 16384 columns]"
      ]
     },
     "execution_count": 86,
     "metadata": {},
     "output_type": "execute_result"
    }
   ],
   "source": [
    "temp.head()"
   ]
  },
  {
   "cell_type": "code",
   "execution_count": 87,
   "metadata": {},
   "outputs": [
    {
     "data": {
      "text/plain": [
       "1.0"
      ]
     },
     "execution_count": 87,
     "metadata": {},
     "output_type": "execute_result"
    }
   ],
   "source": [
    "temp.max().max() # Checking to make sure that the scaling was correctly done"
   ]
  },
  {
   "cell_type": "code",
   "execution_count": 88,
   "metadata": {},
   "outputs": [
    {
     "data": {
      "text/plain": [
       "(-0.5, 127.5, 127.5, -0.5)"
      ]
     },
     "execution_count": 88,
     "metadata": {},
     "output_type": "execute_result"
    },
    {
     "data": {
      "image/png": "[encoded data removed]",
      "text/plain": [
       "<Figure size 432x288 with 1 Axes>"
      ]
     },
     "metadata": {
      "image/png": {
       "height": 251,
       "width": 259
      },
      "needs_background": "light"
     },
     "output_type": "display_data"
    }
   ],
   "source": [
    "### Checking to make sure that the images still look like images\n",
    "pylab.imshow(temp.iloc[0].values.reshape(resized_shape[0], resized_shape[1]), cmap=pylab.cm.gist_gray)\n",
    "pylab.axis('off')"
   ]
  },
  {
   "cell_type": "code",
   "execution_count": null,
   "metadata": {},
   "outputs": [],
   "source": []
  },
  {
   "cell_type": "code",
   "execution_count": null,
   "metadata": {},
   "outputs": [],
   "source": []
  },
  {
   "cell_type": "markdown",
   "metadata": {},
   "source": [
    "## Trying out modeling for the first time"
   ]
  },
  {
   "cell_type": "code",
   "execution_count": 53,
   "metadata": {},
   "outputs": [],
   "source": [
    "y = merged_df['class']"
   ]
  },
  {
   "cell_type": "code",
   "execution_count": 89,
   "metadata": {},
   "outputs": [
    {
     "data": {
      "text/html": [
       "<div>\n",
       "<style scoped>\n",
       "    .dataframe tbody tr th:only-of-type {\n",
       "        vertical-align: middle;\n",
       "    }\n",
       "\n",
       "    .dataframe tbody tr th {\n",
       "        vertical-align: top;\n",
       "    }\n",
       "\n",
       "    .dataframe thead th {\n",
       "        text-align: right;\n",
       "    }\n",
       "</style>\n",
       "<table border=\"1\" class=\"dataframe\">\n",
       "  <thead>\n",
       "    <tr style=\"text-align: right;\">\n",
       "      <th></th>\n",
       "      <th>patientId</th>\n",
       "      <th>class</th>\n",
       "    </tr>\n",
       "  </thead>\n",
       "  <tbody>\n",
       "    <tr>\n",
       "      <th>0</th>\n",
       "      <td>00322d4d-1c29-4943-afc9-b6754be640eb</td>\n",
       "      <td>No Lung Opacity / Not Normal</td>\n",
       "    </tr>\n",
       "  </tbody>\n",
       "</table>\n",
       "</div>"
      ],
      "text/plain": [
       "                              patientId                         class\n",
       "0  00322d4d-1c29-4943-afc9-b6754be640eb  No Lung Opacity / Not Normal"
      ]
     },
     "execution_count": 89,
     "metadata": {},
     "output_type": "execute_result"
    }
   ],
   "source": [
    "y.head(1)"
   ]
  },
  {
   "cell_type": "code",
   "execution_count": 90,
   "metadata": {},
   "outputs": [
    {
     "data": {
      "text/plain": [
       "No Lung Opacity / Not Normal    6265\n",
       "Lung Opacity                    4833\n",
       "Normal                          4505\n",
       "Name: class, dtype: int64"
      ]
     },
     "execution_count": 90,
     "metadata": {},
     "output_type": "execute_result"
    }
   ],
   "source": [
    "y['class'].value_counts()"
   ]
  },
  {
   "cell_type": "code",
   "execution_count": 91,
   "metadata": {},
   "outputs": [
    {
     "data": {
      "text/plain": [
       "((15603, 2), (15603, 16384))"
      ]
     },
     "execution_count": 91,
     "metadata": {},
     "output_type": "execute_result"
    }
   ],
   "source": [
    "y.shape, temp.shape"
   ]
  },
  {
   "cell_type": "code",
   "execution_count": 92,
   "metadata": {},
   "outputs": [],
   "source": [
    "y = y['class']"
   ]
  },
  {
   "cell_type": "code",
   "execution_count": null,
   "metadata": {},
   "outputs": [],
   "source": []
  },
  {
   "cell_type": "code",
   "execution_count": 93,
   "metadata": {
    "scrolled": false
   },
   "outputs": [],
   "source": [
    "the_map = {\n",
    "    \"Lung Opacity\":0,\n",
    "    \"No Lung Opacity / Not Normal\":1,\n",
    "    \"Normal\":2\n",
    "}\n",
    "y = y.map(lambda x: the_map[x])"
   ]
  },
  {
   "cell_type": "code",
   "execution_count": null,
   "metadata": {},
   "outputs": [],
   "source": []
  },
  {
   "cell_type": "code",
   "execution_count": 94,
   "metadata": {},
   "outputs": [
    {
     "data": {
      "text/plain": [
       "((15603, 16384), (15603,))"
      ]
     },
     "execution_count": 94,
     "metadata": {},
     "output_type": "execute_result"
    }
   ],
   "source": [
    "X = temp\n",
    "\n",
    "\n",
    "X.shape, y.shape"
   ]
  },
  {
   "cell_type": "code",
   "execution_count": 95,
   "metadata": {},
   "outputs": [],
   "source": [
    "X_train, X_test, y_train, y_test = train_test_split(X, y, stratify=y, random_state=42)"
   ]
  },
  {
   "cell_type": "code",
   "execution_count": 96,
   "metadata": {},
   "outputs": [],
   "source": [
    "y_train_c = to_categorical(y_train)\n",
    "y_test_c = to_categorical(y_test)"
   ]
  },
  {
   "cell_type": "code",
   "execution_count": 97,
   "metadata": {},
   "outputs": [],
   "source": [
    "X_train_re = X_train.values.reshape(X_train.shape[0], resized_shape[0], resized_shape[1], 1)\n",
    "X_test_re = X_test.values.reshape(X_test.shape[0], resized_shape[0], resized_shape[1], 1)"
   ]
  },
  {
   "cell_type": "code",
   "execution_count": 98,
   "metadata": {},
   "outputs": [],
   "source": [
    "# Initialize Model\n",
    "model_convolutional = Sequential()\n",
    "\n",
    "# First Conv / Pool \n",
    "model_convolutional.add(Conv2D(filters = 6,\n",
    "                               kernel_size = 3,\n",
    "                               activation = 'relu',\n",
    "                               input_shape = (resized_shape[0], resized_shape[1], 1)\n",
    "                              ))\n",
    "model_convolutional.add(MaxPooling2D(pool_size=(2,2)))\n",
    "\n",
    "#Second Conv/ Pool\n",
    "model_convolutional.add(Conv2D(filters=16, kernel_size=3, activation='relu'))\n",
    "model_convolutional.add(MaxPooling2D(pool_size=(2,2)))\n",
    "\n",
    "# Flatten\n",
    "model_convolutional.add(Dropout(0.5))\n",
    "model_convolutional.add(Flatten())\n",
    "\n",
    "model_convolutional.add(Dense(512, activation='relu'))\n",
    "model_convolutional.add(Dense(128, activation='relu'))\n",
    "model_convolutional.add(Dropout(0.5))\n",
    "model_convolutional.add(Dense(3, activation='softmax'))"
   ]
  },
  {
   "cell_type": "code",
   "execution_count": 99,
   "metadata": {},
   "outputs": [],
   "source": [
    "model_convolutional.compile(loss = 'categorical_crossentropy', \n",
    "                            optimizer = 'adam', \n",
    "                            metrics = ['accuracy'])"
   ]
  },
  {
   "cell_type": "code",
   "execution_count": null,
   "metadata": {
    "scrolled": false
   },
   "outputs": [
    {
     "name": "stdout",
     "output_type": "stream",
     "text": [
      "Train on 11702 samples, validate on 3901 samples\n",
      "Epoch 1/80\n",
      "11702/11702 [==============================] - 66s 6ms/step - loss: 0.8997 - acc: 0.5499 - val_loss: 0.8260 - val_acc: 0.6016\n",
      "Epoch 2/80\n",
      "11702/11702 [==============================] - 65s 6ms/step - loss: 0.8256 - acc: 0.6071 - val_loss: 0.8044 - val_acc: 0.6129\n",
      "Epoch 3/80\n",
      "11702/11702 [==============================] - 65s 6ms/step - loss: 0.7857 - acc: 0.6285 - val_loss: 0.7905 - val_acc: 0.6242\n",
      "Epoch 4/80\n",
      "11702/11702 [==============================] - 65s 6ms/step - loss: 0.7500 - acc: 0.6497 - val_loss: 0.7845 - val_acc: 0.6334\n",
      "Epoch 5/80\n",
      "11702/11702 [==============================] - 65s 6ms/step - loss: 0.7094 - acc: 0.6729 - val_loss: 0.7941 - val_acc: 0.6196\n",
      "Epoch 6/80\n",
      "11702/11702 [==============================] - 64s 5ms/step - loss: 0.6541 - acc: 0.7041 - val_loss: 0.8492 - val_acc: 0.6234\n",
      "Epoch 7/80\n",
      "11702/11702 [==============================] - 64s 6ms/step - loss: 0.5923 - acc: 0.7386 - val_loss: 0.8110 - val_acc: 0.6457\n",
      "Epoch 8/80\n",
      "11702/11702 [==============================] - 65s 6ms/step - loss: 0.5270 - acc: 0.7758 - val_loss: 0.8144 - val_acc: 0.6552\n",
      "Epoch 9/80\n",
      "11702/11702 [==============================] - 64s 5ms/step - loss: 0.4519 - acc: 0.8168 - val_loss: 0.8758 - val_acc: 0.6557\n",
      "Epoch 10/80\n",
      "11702/11702 [==============================] - 64s 5ms/step - loss: 0.3882 - acc: 0.8454 - val_loss: 0.9130 - val_acc: 0.6616\n",
      "Epoch 11/80\n",
      "11702/11702 [==============================] - 65s 6ms/step - loss: 0.3274 - acc: 0.8695 - val_loss: 0.9169 - val_acc: 0.6642\n",
      "Epoch 12/80\n",
      "11702/11702 [==============================] - 65s 6ms/step - loss: 0.2593 - acc: 0.8997 - val_loss: 1.0147 - val_acc: 0.6621\n",
      "Epoch 13/80\n",
      "11702/11702 [==============================] - 64s 6ms/step - loss: 0.2158 - acc: 0.9180 - val_loss: 1.0758 - val_acc: 0.6842\n",
      "Epoch 14/80\n",
      "11702/11702 [==============================] - 65s 6ms/step - loss: 0.1831 - acc: 0.9315 - val_loss: 1.1970 - val_acc: 0.6696\n",
      "Epoch 15/80\n",
      "11702/11702 [==============================] - 65s 6ms/step - loss: 0.1462 - acc: 0.9473 - val_loss: 1.2235 - val_acc: 0.6675\n",
      "Epoch 16/80\n",
      "11702/11702 [==============================] - 65s 6ms/step - loss: 0.1302 - acc: 0.9535 - val_loss: 1.2850 - val_acc: 0.6775\n",
      "Epoch 17/80\n",
      "11702/11702 [==============================] - 64s 6ms/step - loss: 0.1212 - acc: 0.9552 - val_loss: 1.3445 - val_acc: 0.6693\n",
      "Epoch 18/80\n",
      "11702/11702 [==============================] - 65s 6ms/step - loss: 0.0935 - acc: 0.9680 - val_loss: 1.4014 - val_acc: 0.6796\n",
      "Epoch 19/80\n",
      "11702/11702 [==============================] - 65s 6ms/step - loss: 0.0995 - acc: 0.9659 - val_loss: 1.3620 - val_acc: 0.6634\n",
      "Epoch 20/80\n",
      "11702/11702 [==============================] - 65s 6ms/step - loss: 0.0880 - acc: 0.9703 - val_loss: 1.4434 - val_acc: 0.6724\n",
      "Epoch 21/80\n",
      "11702/11702 [==============================] - 64s 6ms/step - loss: 0.0782 - acc: 0.9733 - val_loss: 1.4396 - val_acc: 0.6655\n",
      "Epoch 22/80\n",
      "11702/11702 [==============================] - 64s 6ms/step - loss: 0.0660 - acc: 0.9774 - val_loss: 1.5286 - val_acc: 0.6621\n",
      "Epoch 23/80\n",
      "11702/11702 [==============================] - 64s 5ms/step - loss: 0.0599 - acc: 0.9805 - val_loss: 1.6509 - val_acc: 0.6591\n",
      "Epoch 24/80\n",
      "11702/11702 [==============================] - 65s 6ms/step - loss: 0.0711 - acc: 0.9758 - val_loss: 1.7986 - val_acc: 0.6685\n",
      "Epoch 25/80\n",
      "11702/11702 [==============================] - 65s 6ms/step - loss: 0.0612 - acc: 0.9806 - val_loss: 1.7103 - val_acc: 0.6701\n",
      "Epoch 26/80\n",
      "11702/11702 [==============================] - 66s 6ms/step - loss: 0.0507 - acc: 0.9815 - val_loss: 1.6164 - val_acc: 0.6657\n",
      "Epoch 27/80\n",
      "11702/11702 [==============================] - 66s 6ms/step - loss: 0.0625 - acc: 0.9799 - val_loss: 1.6366 - val_acc: 0.6698\n",
      "Epoch 28/80\n",
      "11702/11702 [==============================] - 65s 6ms/step - loss: 0.0447 - acc: 0.9850 - val_loss: 1.7636 - val_acc: 0.6688\n",
      "Epoch 29/80\n",
      "11702/11702 [==============================] - 66s 6ms/step - loss: 0.0525 - acc: 0.9824 - val_loss: 1.8197 - val_acc: 0.6744\n",
      "Epoch 30/80\n",
      "11702/11702 [==============================] - 66s 6ms/step - loss: 0.0475 - acc: 0.9844 - val_loss: 1.7808 - val_acc: 0.6642\n",
      "Epoch 31/80\n",
      "11702/11702 [==============================] - 66s 6ms/step - loss: 0.0469 - acc: 0.9847 - val_loss: 1.7983 - val_acc: 0.6724\n",
      "Epoch 32/80\n",
      "11702/11702 [==============================] - 66s 6ms/step - loss: 0.0407 - acc: 0.9874 - val_loss: 1.8404 - val_acc: 0.6660\n",
      "Epoch 33/80\n",
      " 8480/11702 [====================>.........] - ETA: 16s - loss: 0.0482 - acc: 0.9843"
     ]
    }
   ],
   "source": [
    "%%time\n",
    "\n",
    "trained_convolutional = model_convolutional.fit(X_train_re,\n",
    "                        y_train_c,\n",
    "                        batch_size = 32,\n",
    "                        epochs = 80,\n",
    "                        verbose = 1,\n",
    "                        validation_data = (X_test_re, y_test_c)\n",
    "                       )"
   ]
  },
  {
   "cell_type": "code",
   "execution_count": 103,
   "metadata": {},
   "outputs": [
    {
     "data": {
      "text/plain": [
       "<matplotlib.legend.Legend at 0x7f2ad04aa400>"
      ]
     },
     "execution_count": 103,
     "metadata": {},
     "output_type": "execute_result"
    },
    {
     "data": {
      "image/png": "[encoded data removed]",
      "text/plain": [
       "<Figure size 432x288 with 1 Axes>"
      ]
     },
     "metadata": {
      "image/png": {
       "height": 250,
       "width": 373
      },
      "needs_background": "light"
     },
     "output_type": "display_data"
    }
   ],
   "source": [
    "plt.plot(trained_convolutional.history['loss'], label=\"Loss\")\n",
    "plt.plot(trained_convolutional.history['val_loss'], label='Val Loss')\n",
    "plt.legend()"
   ]
  },
  {
   "cell_type": "code",
   "execution_count": 104,
   "metadata": {
    "scrolled": true
   },
   "outputs": [
    {
     "data": {
      "text/plain": [
       "<matplotlib.legend.Legend at 0x7f2ab07dd400>"
      ]
     },
     "execution_count": 104,
     "metadata": {},
     "output_type": "execute_result"
    },
    {
     "data": {
      "image/png": "[encoded data removed]",
      "text/plain": [
       "<Figure size 432x288 with 1 Axes>"
      ]
     },
     "metadata": {
      "image/png": {
       "height": 250,
       "width": 373
      },
      "needs_background": "light"
     },
     "output_type": "display_data"
    }
   ],
   "source": [
    "plt.plot(trained_convolutional.history['acc'], label='Acc')\n",
    "plt.plot(trained_convolutional.history['val_acc'], label='Val Acc')\n",
    "plt.legend()"
   ]
  },
  {
   "cell_type": "markdown",
   "metadata": {},
   "source": [
    "On a NN with 1k 256x256 images, 2 convolutional layers, 2 dense layers (512, 128) the scores were:\n",
    "\n",
    "750/750 [==============================] - 19s 26ms/step - loss: 9.2196 - acc: 0.4280 - val_loss: 9.2196 - val_acc: 0.4280\n",
    "\n",
    "<br>\n",
    "\n",
    "I think it might be a lack of data kind of thing so I'm going to let it run on maybe 5k of the dataset with an image resolution of 128 and see what happens\n",
    "\n",
    "3750/3750 [==============================] - 846s 226ms/step - loss: 1.0562 - acc: 0.4733 - val_loss: 1.0565 - val_acc: 0.4736\n",
    "\n",
    "<br>\n",
    "\n",
    "Given the fact that the accuracy increased a little, I am running it with all the data. Took out the Dropout from the model. It takes ~3min per epoch. The model hasn't gotten any better since epoch 2 and it's on 13 now. I'm going to stop it and tune. Probably should look into messing with features and creating an EC2 thing. \n",
    "\n",
    "21741/21741 [==============================] - 141s 6ms/step - loss: 1.0898 - acc: 0.3967 - val_loss: 1.0897 - val_acc: 0.3967\n",
    "\n",
    "\n",
    "<br>\n",
    "\n",
    "Added back in the dropout cases to the model. run overnight. Didn't finish. Got to like epoch 63. Hadn't changed since epoch 7.\n",
    "\n",
    "1741/21741 [==============================] - 337s 16ms/step - loss: 1.0897 - acc: 0.3967 - val_loss: 1.0897 - val_acc: 0.3967\n",
    "\n",
    "Potential things to do:\n",
    "- make different models for sexes\n",
    "- make different models for children vs adults (based on when the chest grows to essentially normalized size so like 16? 24?)\n",
    "- use the EC2 instances\n",
    "- change the y's around. make it binary (pnemonia/not pnemonia)\n",
    "- make the images bigger than 128x128?\n",
    "- try to optimize for false negatives\n",
    "\n",
    "\n",
    "\n",
    "add in 2 nodes to the beginning, 1 for sex, 1 for position"
   ]
  },
  {
   "cell_type": "code",
   "execution_count": null,
   "metadata": {},
   "outputs": [],
   "source": []
  },
  {
   "cell_type": "code",
   "execution_count": null,
   "metadata": {},
   "outputs": [],
   "source": []
  },
  {
   "cell_type": "code",
   "execution_count": null,
   "metadata": {},
   "outputs": [],
   "source": []
  },
  {
   "cell_type": "code",
   "execution_count": null,
   "metadata": {},
   "outputs": [],
   "source": []
  },
  {
   "cell_type": "markdown",
   "metadata": {},
   "source": []
  },
  {
   "cell_type": "code",
   "execution_count": 105,
   "metadata": {},
   "outputs": [],
   "source": [
    "female_adult_data = pd.read_csv('../data/female_adult_patient_data.csv')"
   ]
  },
  {
   "cell_type": "code",
   "execution_count": 106,
   "metadata": {},
   "outputs": [
    {
     "data": {
      "text/html": [
       "<div>\n",
       "<style scoped>\n",
       "    .dataframe tbody tr th:only-of-type {\n",
       "        vertical-align: middle;\n",
       "    }\n",
       "\n",
       "    .dataframe tbody tr th {\n",
       "        vertical-align: top;\n",
       "    }\n",
       "\n",
       "    .dataframe thead th {\n",
       "        text-align: right;\n",
       "    }\n",
       "</style>\n",
       "<table border=\"1\" class=\"dataframe\">\n",
       "  <thead>\n",
       "    <tr style=\"text-align: right;\">\n",
       "      <th></th>\n",
       "      <th>patientId</th>\n",
       "      <th>sex</th>\n",
       "      <th>age</th>\n",
       "      <th>viewPosition</th>\n",
       "    </tr>\n",
       "  </thead>\n",
       "  <tbody>\n",
       "    <tr>\n",
       "      <th>0</th>\n",
       "      <td>0004cfab-14fd-4e49-80ba-63a80b6bddd6</td>\n",
       "      <td>F</td>\n",
       "      <td>51</td>\n",
       "      <td>PA</td>\n",
       "    </tr>\n",
       "  </tbody>\n",
       "</table>\n",
       "</div>"
      ],
      "text/plain": [
       "                              patientId sex  age viewPosition\n",
       "0  0004cfab-14fd-4e49-80ba-63a80b6bddd6   F   51           PA"
      ]
     },
     "execution_count": 106,
     "metadata": {},
     "output_type": "execute_result"
    }
   ],
   "source": [
    "female_adult_data.head(1)"
   ]
  },
  {
   "cell_type": "code",
   "execution_count": 107,
   "metadata": {},
   "outputs": [
    {
     "data": {
      "text/html": [
       "<div>\n",
       "<style scoped>\n",
       "    .dataframe tbody tr th:only-of-type {\n",
       "        vertical-align: middle;\n",
       "    }\n",
       "\n",
       "    .dataframe tbody tr th {\n",
       "        vertical-align: top;\n",
       "    }\n",
       "\n",
       "    .dataframe thead th {\n",
       "        text-align: right;\n",
       "    }\n",
       "</style>\n",
       "<table border=\"1\" class=\"dataframe\">\n",
       "  <thead>\n",
       "    <tr style=\"text-align: right;\">\n",
       "      <th></th>\n",
       "      <th>patientId</th>\n",
       "      <th>class</th>\n",
       "    </tr>\n",
       "  </thead>\n",
       "  <tbody>\n",
       "    <tr>\n",
       "      <th>0</th>\n",
       "      <td>0004cfab-14fd-4e49-80ba-63a80b6bddd6</td>\n",
       "      <td>No Lung Opacity / Not Normal</td>\n",
       "    </tr>\n",
       "  </tbody>\n",
       "</table>\n",
       "</div>"
      ],
      "text/plain": [
       "                              patientId                         class\n",
       "0  0004cfab-14fd-4e49-80ba-63a80b6bddd6  No Lung Opacity / Not Normal"
      ]
     },
     "execution_count": 107,
     "metadata": {},
     "output_type": "execute_result"
    }
   ],
   "source": [
    "df_detailed.head(1)"
   ]
  },
  {
   "cell_type": "code",
   "execution_count": 108,
   "metadata": {
    "scrolled": true
   },
   "outputs": [
    {
     "data": {
      "text/plain": [
       "((28989, 2), (13840, 4))"
      ]
     },
     "execution_count": 108,
     "metadata": {},
     "output_type": "execute_result"
    }
   ],
   "source": [
    "df_detailed.shape, male_adult_data.shape"
   ]
  },
  {
   "cell_type": "code",
   "execution_count": 109,
   "metadata": {},
   "outputs": [
    {
     "data": {
      "text/plain": [
       "patientId    object\n",
       "class        object\n",
       "dtype: object"
      ]
     },
     "execution_count": 109,
     "metadata": {},
     "output_type": "execute_result"
    }
   ],
   "source": [
    "df_detailed.dtypes"
   ]
  },
  {
   "cell_type": "code",
   "execution_count": 110,
   "metadata": {},
   "outputs": [
    {
     "data": {
      "text/plain": [
       "patientId       object\n",
       "sex             object\n",
       "age              int64\n",
       "viewPosition    object\n",
       "dtype: object"
      ]
     },
     "execution_count": 110,
     "metadata": {},
     "output_type": "execute_result"
    }
   ],
   "source": [
    "female_adult_data.dtypes"
   ]
  },
  {
   "cell_type": "code",
   "execution_count": 111,
   "metadata": {},
   "outputs": [],
   "source": [
    "female_adult_data.drop_duplicates(inplace=True)"
   ]
  },
  {
   "cell_type": "code",
   "execution_count": 112,
   "metadata": {
    "scrolled": true
   },
   "outputs": [
    {
     "data": {
      "text/plain": [
       "(11934, 5)"
      ]
     },
     "execution_count": 112,
     "metadata": {},
     "output_type": "execute_result"
    }
   ],
   "source": [
    "female_merged_df = df_detailed.merge(female_adult_data, on='patientId')\n",
    "female_merged_df.shape"
   ]
  },
  {
   "cell_type": "code",
   "execution_count": null,
   "metadata": {},
   "outputs": [],
   "source": []
  },
  {
   "cell_type": "code",
   "execution_count": 113,
   "metadata": {},
   "outputs": [],
   "source": [
    "patientId = merged_df['patientId'][0]\n",
    "dcm_file = '../data/stage_1_train_images/%s.dcm' % patientId\n",
    "dcm_data = pydicom.read_file(dcm_file)"
   ]
  },
  {
   "cell_type": "code",
   "execution_count": 114,
   "metadata": {},
   "outputs": [],
   "source": [
    "im = dcm_data.pixel_array"
   ]
  },
  {
   "cell_type": "code",
   "execution_count": 115,
   "metadata": {},
   "outputs": [
    {
     "data": {
      "text/plain": [
       "numpy.ndarray"
      ]
     },
     "execution_count": 115,
     "metadata": {},
     "output_type": "execute_result"
    }
   ],
   "source": [
    "type(im)"
   ]
  },
  {
   "cell_type": "code",
   "execution_count": 116,
   "metadata": {},
   "outputs": [
    {
     "data": {
      "text/plain": [
       "['pixel0',\n",
       " 'pixel1',\n",
       " 'pixel2',\n",
       " 'pixel3',\n",
       " 'pixel4',\n",
       " 'pixel5',\n",
       " 'pixel6',\n",
       " 'pixel7',\n",
       " 'pixel8',\n",
       " 'pixel9']"
      ]
     },
     "execution_count": 116,
     "metadata": {},
     "output_type": "execute_result"
    }
   ],
   "source": [
    "pixel_labels = []\n",
    "for i in range(resized_shape[0] * resized_shape[1]):\n",
    "    pixel_labels.append(\"pixel\"+str(i))\n",
    "pixel_labels[:10]"
   ]
  },
  {
   "cell_type": "code",
   "execution_count": 117,
   "metadata": {},
   "outputs": [
    {
     "name": "stdout",
     "output_type": "stream",
     "text": [
      "CPU times: user 48.1 ms, sys: 9.65 ms, total: 57.8 ms\n",
      "Wall time: 57.3 ms\n"
     ]
    }
   ],
   "source": [
    "%%time\n",
    "final_pixel_array = []\n",
    "for i in im:\n",
    "    final_pixel_array.extend(i)"
   ]
  },
  {
   "cell_type": "code",
   "execution_count": 118,
   "metadata": {},
   "outputs": [
    {
     "data": {
      "text/plain": [
       "[4, 12, 11, 10, 10, 8, 9, 7, 10, 10]"
      ]
     },
     "execution_count": 118,
     "metadata": {},
     "output_type": "execute_result"
    }
   ],
   "source": [
    "final_pixel_array[:10]"
   ]
  },
  {
   "cell_type": "code",
   "execution_count": 119,
   "metadata": {},
   "outputs": [
    {
     "data": {
      "text/plain": [
       "(1048576, 16384)"
      ]
     },
     "execution_count": 119,
     "metadata": {},
     "output_type": "execute_result"
    }
   ],
   "source": [
    "len(final_pixel_array), len(pixel_labels)"
   ]
  },
  {
   "cell_type": "code",
   "execution_count": 120,
   "metadata": {},
   "outputs": [],
   "source": [
    "from skimage.transform import resize"
   ]
  },
  {
   "cell_type": "code",
   "execution_count": 121,
   "metadata": {},
   "outputs": [
    {
     "name": "stderr",
     "output_type": "stream",
     "text": [
      "/home/ec2-user/anaconda3/envs/py36/lib/python3.6/site-packages/skimage/transform/_warps.py:105: UserWarning: The default mode, 'constant', will be changed to 'reflect' in skimage 0.15.\n",
      "  warn(\"The default mode, 'constant', will be changed to 'reflect' in \"\n",
      "/home/ec2-user/anaconda3/envs/py36/lib/python3.6/site-packages/skimage/transform/_warps.py:110: UserWarning: Anti-aliasing will be enabled by default in skimage 0.15 to avoid aliasing artifacts when down-sampling images.\n",
      "  warn(\"Anti-aliasing will be enabled by default in skimage 0.15 to \"\n"
     ]
    }
   ],
   "source": [
    "test_img_array = resize(im, (256,256)) #Testing purposes to see how well the image resolution stands up"
   ]
  },
  {
   "cell_type": "code",
   "execution_count": 122,
   "metadata": {},
   "outputs": [
    {
     "data": {
      "text/plain": [
       "(-0.5, 255.5, 255.5, -0.5)"
      ]
     },
     "execution_count": 122,
     "metadata": {},
     "output_type": "execute_result"
    },
    {
     "data": {
      "image/png": "[encoded data removed]",
      "text/plain": [
       "<Figure size 432x288 with 1 Axes>"
      ]
     },
     "metadata": {
      "image/png": {
       "height": 251,
       "width": 263
      },
      "needs_background": "light"
     },
     "output_type": "display_data"
    }
   ],
   "source": [
    "pylab.imshow(test_img_array, cmap=pylab.cm.gist_gray)\n",
    "pylab.axis('off')"
   ]
  },
  {
   "cell_type": "code",
   "execution_count": 123,
   "metadata": {},
   "outputs": [
    {
     "data": {
      "text/plain": [
       "(11934, 5)"
      ]
     },
     "execution_count": 123,
     "metadata": {},
     "output_type": "execute_result"
    }
   ],
   "source": [
    "female_merged_df.shape"
   ]
  },
  {
   "cell_type": "code",
   "execution_count": 124,
   "metadata": {
    "scrolled": true
   },
   "outputs": [
    {
     "data": {
      "text/html": [
       "<div>\n",
       "<style scoped>\n",
       "    .dataframe tbody tr th:only-of-type {\n",
       "        vertical-align: middle;\n",
       "    }\n",
       "\n",
       "    .dataframe tbody tr th {\n",
       "        vertical-align: top;\n",
       "    }\n",
       "\n",
       "    .dataframe thead th {\n",
       "        text-align: right;\n",
       "    }\n",
       "</style>\n",
       "<table border=\"1\" class=\"dataframe\">\n",
       "  <thead>\n",
       "    <tr style=\"text-align: right;\">\n",
       "      <th></th>\n",
       "      <th>patientId</th>\n",
       "      <th>class</th>\n",
       "      <th>sex</th>\n",
       "      <th>age</th>\n",
       "      <th>viewPosition</th>\n",
       "    </tr>\n",
       "  </thead>\n",
       "  <tbody>\n",
       "    <tr>\n",
       "      <th>0</th>\n",
       "      <td>0004cfab-14fd-4e49-80ba-63a80b6bddd6</td>\n",
       "      <td>No Lung Opacity / Not Normal</td>\n",
       "      <td>F</td>\n",
       "      <td>51</td>\n",
       "      <td>PA</td>\n",
       "    </tr>\n",
       "  </tbody>\n",
       "</table>\n",
       "</div>"
      ],
      "text/plain": [
       "                              patientId                         class sex  \\\n",
       "0  0004cfab-14fd-4e49-80ba-63a80b6bddd6  No Lung Opacity / Not Normal   F   \n",
       "\n",
       "   age viewPosition  \n",
       "0   51           PA  "
      ]
     },
     "execution_count": 124,
     "metadata": {},
     "output_type": "execute_result"
    }
   ],
   "source": [
    "female_merged_df.head(1)"
   ]
  },
  {
   "cell_type": "code",
   "execution_count": 125,
   "metadata": {},
   "outputs": [
    {
     "data": {
      "text/plain": [
       "'No Lung Opacity / Not Normal'"
      ]
     },
     "execution_count": 125,
     "metadata": {},
     "output_type": "execute_result"
    }
   ],
   "source": [
    "female_merged_df.iloc[0]['class']"
   ]
  },
  {
   "cell_type": "code",
   "execution_count": 126,
   "metadata": {},
   "outputs": [
    {
     "data": {
      "text/plain": [
       "['0004cfab-14fd-4e49-80ba-63a80b6bddd6', 'No Lung Opacity / Not Normal']"
      ]
     },
     "execution_count": 126,
     "metadata": {},
     "output_type": "execute_result"
    }
   ],
   "source": [
    "i = 0\n",
    "[female_merged_df.iloc[i]['patientId'], female_merged_df.iloc[i]['class']]"
   ]
  },
  {
   "cell_type": "code",
   "execution_count": 146,
   "metadata": {},
   "outputs": [
    {
     "name": "stderr",
     "output_type": "stream",
     "text": [
      "/home/ec2-user/anaconda3/envs/py36/lib/python3.6/site-packages/skimage/transform/_warps.py:105: UserWarning: The default mode, 'constant', will be changed to 'reflect' in skimage 0.15.\n",
      "  warn(\"The default mode, 'constant', will be changed to 'reflect' in \"\n",
      "/home/ec2-user/anaconda3/envs/py36/lib/python3.6/site-packages/skimage/transform/_warps.py:110: UserWarning: Anti-aliasing will be enabled by default in skimage 0.15 to avoid aliasing artifacts when down-sampling images.\n",
      "  warn(\"Anti-aliasing will be enabled by default in skimage 0.15 to \"\n"
     ]
    },
    {
     "name": "stdout",
     "output_type": "stream",
     "text": [
      "CPU times: user 2min 45s, sys: 3.35 s, total: 2min 49s\n",
      "Wall time: 3min 3s\n"
     ]
    }
   ],
   "source": [
    "%%time\n",
    "\n",
    "# Kernel breaks after like 10-15 minutes running against the whole set. Not scalable it would seem.\n",
    "\n",
    "#trying out scaling the images down to 512x512\n",
    "\n",
    "#setting up an array of 1d pixel arrays for all of the pics\n",
    "huge_pixel_array = []\n",
    "index = 0\n",
    "y_df = []\n",
    "for o in range(female_merged_df.shape[0]):\n",
    "    # Get the image data\n",
    "    patientId = female_merged_df.iloc[o]['patientId']\n",
    "    dcm_file = '../data/stage_1_train_images/%s.dcm' % patientId\n",
    "    dcm_data = pydicom.read_file(dcm_file)\n",
    "    im = dcm_data.pixel_array\n",
    "    \n",
    "    #collect the class \n",
    "    #y_df.append([merged_df.iloc[o]['patientId'], merged_df.iloc[o]['class']])\n",
    "    \n",
    "    #convert the image into a 1d array of pixels\n",
    "    final_pixel_array = []#[female_merged_df.iloc[o]['sex'], female_merged_df.iloc[o]['age'], female_merged_df.iloc[o]['viewPosition']]\n",
    "    for i in resize(im, resized_shape): #resize the image into a 256x256 image instead of a 1024*1024. Might be too big in the long run still but we'll see\n",
    "        final_pixel_array.extend(i)\n",
    "    huge_pixel_array.append(final_pixel_array)\n",
    "    \n",
    "    \n",
    "    \n",
    "    index += 1\n",
    "    if index == num_images:\n",
    "        break"
   ]
  },
  {
   "cell_type": "code",
   "execution_count": 128,
   "metadata": {},
   "outputs": [],
   "source": [
    "#y = pd.DataFrame(data = y_df, columns = ['patientId', 'class'])"
   ]
  },
  {
   "cell_type": "code",
   "execution_count": 129,
   "metadata": {},
   "outputs": [
    {
     "data": {
      "text/plain": [
       "0    1\n",
       "1    2\n",
       "2    1\n",
       "3    1\n",
       "4    0\n",
       "Name: class, dtype: int64"
      ]
     },
     "execution_count": 129,
     "metadata": {},
     "output_type": "execute_result"
    }
   ],
   "source": [
    "y.head()"
   ]
  },
  {
   "cell_type": "code",
   "execution_count": 147,
   "metadata": {},
   "outputs": [
    {
     "name": "stdout",
     "output_type": "stream",
     "text": [
      "CPU times: user 1min 7s, sys: 1.13 s, total: 1min 8s\n",
      "Wall time: 1min 14s\n"
     ]
    }
   ],
   "source": [
    "%%time\n",
    "temp = pd.DataFrame(data = huge_pixel_array, columns = pixel_labels)# ['sex', 'age', 'viewPosition'].extend()"
   ]
  },
  {
   "cell_type": "code",
   "execution_count": 148,
   "metadata": {},
   "outputs": [
    {
     "data": {
      "text/html": [
       "<div>\n",
       "<style scoped>\n",
       "    .dataframe tbody tr th:only-of-type {\n",
       "        vertical-align: middle;\n",
       "    }\n",
       "\n",
       "    .dataframe tbody tr th {\n",
       "        vertical-align: top;\n",
       "    }\n",
       "\n",
       "    .dataframe thead th {\n",
       "        text-align: right;\n",
       "    }\n",
       "</style>\n",
       "<table border=\"1\" class=\"dataframe\">\n",
       "  <thead>\n",
       "    <tr style=\"text-align: right;\">\n",
       "      <th></th>\n",
       "      <th>pixel0</th>\n",
       "      <th>pixel1</th>\n",
       "      <th>pixel2</th>\n",
       "      <th>pixel3</th>\n",
       "      <th>pixel4</th>\n",
       "      <th>pixel5</th>\n",
       "      <th>pixel6</th>\n",
       "      <th>pixel7</th>\n",
       "      <th>pixel8</th>\n",
       "      <th>pixel9</th>\n",
       "      <th>...</th>\n",
       "      <th>pixel16374</th>\n",
       "      <th>pixel16375</th>\n",
       "      <th>pixel16376</th>\n",
       "      <th>pixel16377</th>\n",
       "      <th>pixel16378</th>\n",
       "      <th>pixel16379</th>\n",
       "      <th>pixel16380</th>\n",
       "      <th>pixel16381</th>\n",
       "      <th>pixel16382</th>\n",
       "      <th>pixel16383</th>\n",
       "    </tr>\n",
       "  </thead>\n",
       "  <tbody>\n",
       "    <tr>\n",
       "      <th>0</th>\n",
       "      <td>0.160784</td>\n",
       "      <td>0.029412</td>\n",
       "      <td>0.009804</td>\n",
       "      <td>0.007843</td>\n",
       "      <td>0.009804</td>\n",
       "      <td>0.009804</td>\n",
       "      <td>0.011765</td>\n",
       "      <td>0.011765</td>\n",
       "      <td>0.011765</td>\n",
       "      <td>0.011765</td>\n",
       "      <td>...</td>\n",
       "      <td>0.505882</td>\n",
       "      <td>0.450000</td>\n",
       "      <td>0.367647</td>\n",
       "      <td>0.251961</td>\n",
       "      <td>0.111765</td>\n",
       "      <td>0.000000</td>\n",
       "      <td>0.000000</td>\n",
       "      <td>0.000000</td>\n",
       "      <td>0.005882</td>\n",
       "      <td>0.041176</td>\n",
       "    </tr>\n",
       "    <tr>\n",
       "      <th>1</th>\n",
       "      <td>0.024510</td>\n",
       "      <td>0.000000</td>\n",
       "      <td>0.000000</td>\n",
       "      <td>0.000000</td>\n",
       "      <td>0.000000</td>\n",
       "      <td>0.000000</td>\n",
       "      <td>0.000000</td>\n",
       "      <td>0.000000</td>\n",
       "      <td>0.000000</td>\n",
       "      <td>0.000000</td>\n",
       "      <td>...</td>\n",
       "      <td>0.492157</td>\n",
       "      <td>0.476471</td>\n",
       "      <td>0.477451</td>\n",
       "      <td>0.447059</td>\n",
       "      <td>0.424510</td>\n",
       "      <td>0.393137</td>\n",
       "      <td>0.363725</td>\n",
       "      <td>0.355882</td>\n",
       "      <td>0.425490</td>\n",
       "      <td>0.603922</td>\n",
       "    </tr>\n",
       "    <tr>\n",
       "      <th>2</th>\n",
       "      <td>0.011765</td>\n",
       "      <td>0.011765</td>\n",
       "      <td>0.011765</td>\n",
       "      <td>0.007843</td>\n",
       "      <td>0.007843</td>\n",
       "      <td>0.012745</td>\n",
       "      <td>0.019608</td>\n",
       "      <td>0.019608</td>\n",
       "      <td>0.023529</td>\n",
       "      <td>0.027451</td>\n",
       "      <td>...</td>\n",
       "      <td>0.434314</td>\n",
       "      <td>0.130392</td>\n",
       "      <td>0.015686</td>\n",
       "      <td>0.017647</td>\n",
       "      <td>0.020588</td>\n",
       "      <td>0.021569</td>\n",
       "      <td>0.021569</td>\n",
       "      <td>0.021569</td>\n",
       "      <td>0.021569</td>\n",
       "      <td>0.023529</td>\n",
       "    </tr>\n",
       "    <tr>\n",
       "      <th>3</th>\n",
       "      <td>0.011765</td>\n",
       "      <td>0.011765</td>\n",
       "      <td>0.011765</td>\n",
       "      <td>0.007843</td>\n",
       "      <td>0.007843</td>\n",
       "      <td>0.012745</td>\n",
       "      <td>0.019608</td>\n",
       "      <td>0.019608</td>\n",
       "      <td>0.023529</td>\n",
       "      <td>0.027451</td>\n",
       "      <td>...</td>\n",
       "      <td>0.434314</td>\n",
       "      <td>0.130392</td>\n",
       "      <td>0.015686</td>\n",
       "      <td>0.017647</td>\n",
       "      <td>0.020588</td>\n",
       "      <td>0.021569</td>\n",
       "      <td>0.021569</td>\n",
       "      <td>0.021569</td>\n",
       "      <td>0.021569</td>\n",
       "      <td>0.023529</td>\n",
       "    </tr>\n",
       "    <tr>\n",
       "      <th>4</th>\n",
       "      <td>0.095098</td>\n",
       "      <td>0.052941</td>\n",
       "      <td>0.044118</td>\n",
       "      <td>0.043137</td>\n",
       "      <td>0.043137</td>\n",
       "      <td>0.044118</td>\n",
       "      <td>0.045098</td>\n",
       "      <td>0.048039</td>\n",
       "      <td>0.047059</td>\n",
       "      <td>0.048039</td>\n",
       "      <td>...</td>\n",
       "      <td>0.023529</td>\n",
       "      <td>0.023529</td>\n",
       "      <td>0.019608</td>\n",
       "      <td>0.024510</td>\n",
       "      <td>0.041176</td>\n",
       "      <td>0.082353</td>\n",
       "      <td>0.150980</td>\n",
       "      <td>0.282353</td>\n",
       "      <td>0.422549</td>\n",
       "      <td>0.490196</td>\n",
       "    </tr>\n",
       "  </tbody>\n",
       "</table>\n",
       "<p>5 rows × 16384 columns</p>\n",
       "</div>"
      ],
      "text/plain": [
       "     pixel0    pixel1    pixel2    pixel3    pixel4    pixel5    pixel6  \\\n",
       "0  0.160784  0.029412  0.009804  0.007843  0.009804  0.009804  0.011765   \n",
       "1  0.024510  0.000000  0.000000  0.000000  0.000000  0.000000  0.000000   \n",
       "2  0.011765  0.011765  0.011765  0.007843  0.007843  0.012745  0.019608   \n",
       "3  0.011765  0.011765  0.011765  0.007843  0.007843  0.012745  0.019608   \n",
       "4  0.095098  0.052941  0.044118  0.043137  0.043137  0.044118  0.045098   \n",
       "\n",
       "     pixel7    pixel8    pixel9     ...      pixel16374  pixel16375  \\\n",
       "0  0.011765  0.011765  0.011765     ...        0.505882    0.450000   \n",
       "1  0.000000  0.000000  0.000000     ...        0.492157    0.476471   \n",
       "2  0.019608  0.023529  0.027451     ...        0.434314    0.130392   \n",
       "3  0.019608  0.023529  0.027451     ...        0.434314    0.130392   \n",
       "4  0.048039  0.047059  0.048039     ...        0.023529    0.023529   \n",
       "\n",
       "   pixel16376  pixel16377  pixel16378  pixel16379  pixel16380  pixel16381  \\\n",
       "0    0.367647    0.251961    0.111765    0.000000    0.000000    0.000000   \n",
       "1    0.477451    0.447059    0.424510    0.393137    0.363725    0.355882   \n",
       "2    0.015686    0.017647    0.020588    0.021569    0.021569    0.021569   \n",
       "3    0.015686    0.017647    0.020588    0.021569    0.021569    0.021569   \n",
       "4    0.019608    0.024510    0.041176    0.082353    0.150980    0.282353   \n",
       "\n",
       "   pixel16382  pixel16383  \n",
       "0    0.005882    0.041176  \n",
       "1    0.425490    0.603922  \n",
       "2    0.021569    0.023529  \n",
       "3    0.021569    0.023529  \n",
       "4    0.422549    0.490196  \n",
       "\n",
       "[5 rows x 16384 columns]"
      ]
     },
     "execution_count": 148,
     "metadata": {},
     "output_type": "execute_result"
    }
   ],
   "source": [
    "temp.head()"
   ]
  },
  {
   "cell_type": "code",
   "execution_count": 149,
   "metadata": {},
   "outputs": [
    {
     "data": {
      "text/plain": [
       "1.0"
      ]
     },
     "execution_count": 149,
     "metadata": {},
     "output_type": "execute_result"
    }
   ],
   "source": [
    "temp.max().max() # Checking to make sure that the scaling was correctly done"
   ]
  },
  {
   "cell_type": "code",
   "execution_count": 150,
   "metadata": {},
   "outputs": [
    {
     "data": {
      "text/plain": [
       "(-0.5, 127.5, 127.5, -0.5)"
      ]
     },
     "execution_count": 150,
     "metadata": {},
     "output_type": "execute_result"
    },
    {
     "data": {
      "image/png": "[encoded data removed]",
      "text/plain": [
       "<Figure size 432x288 with 1 Axes>"
      ]
     },
     "metadata": {
      "image/png": {
       "height": 251,
       "width": 259
      },
      "needs_background": "light"
     },
     "output_type": "display_data"
    }
   ],
   "source": [
    "### Checking to make sure that the images still look like images\n",
    "pylab.imshow(temp.iloc[0].values.reshape(resized_shape[0], resized_shape[1]), cmap=pylab.cm.gist_gray)\n",
    "pylab.axis('off')"
   ]
  },
  {
   "cell_type": "code",
   "execution_count": null,
   "metadata": {},
   "outputs": [],
   "source": []
  },
  {
   "cell_type": "code",
   "execution_count": null,
   "metadata": {},
   "outputs": [],
   "source": []
  },
  {
   "cell_type": "markdown",
   "metadata": {},
   "source": [
    "## Trying out modeling for the first time"
   ]
  },
  {
   "cell_type": "code",
   "execution_count": 151,
   "metadata": {},
   "outputs": [],
   "source": [
    "y = female_merged_df['class']"
   ]
  },
  {
   "cell_type": "code",
   "execution_count": 152,
   "metadata": {},
   "outputs": [
    {
     "data": {
      "text/plain": [
       "0    No Lung Opacity / Not Normal\n",
       "Name: class, dtype: object"
      ]
     },
     "execution_count": 152,
     "metadata": {},
     "output_type": "execute_result"
    }
   ],
   "source": [
    "y.head(1)"
   ]
  },
  {
   "cell_type": "code",
   "execution_count": null,
   "metadata": {},
   "outputs": [],
   "source": [
    "y['class'].value_counts()"
   ]
  },
  {
   "cell_type": "code",
   "execution_count": 153,
   "metadata": {},
   "outputs": [
    {
     "data": {
      "text/plain": [
       "((11934,), (11934, 16384))"
      ]
     },
     "execution_count": 153,
     "metadata": {},
     "output_type": "execute_result"
    }
   ],
   "source": [
    "y.shape, temp.shape"
   ]
  },
  {
   "cell_type": "code",
   "execution_count": null,
   "metadata": {},
   "outputs": [],
   "source": [
    "y = y['class']"
   ]
  },
  {
   "cell_type": "code",
   "execution_count": null,
   "metadata": {},
   "outputs": [],
   "source": []
  },
  {
   "cell_type": "code",
   "execution_count": 154,
   "metadata": {
    "scrolled": false
   },
   "outputs": [],
   "source": [
    "the_map = {\n",
    "    \"Lung Opacity\":0,\n",
    "    \"No Lung Opacity / Not Normal\":1,\n",
    "    \"Normal\":2\n",
    "}\n",
    "y = y.map(lambda x: the_map[x])"
   ]
  },
  {
   "cell_type": "code",
   "execution_count": null,
   "metadata": {},
   "outputs": [],
   "source": []
  },
  {
   "cell_type": "code",
   "execution_count": 155,
   "metadata": {},
   "outputs": [
    {
     "data": {
      "text/plain": [
       "((11934, 16384), (11934,))"
      ]
     },
     "execution_count": 155,
     "metadata": {},
     "output_type": "execute_result"
    }
   ],
   "source": [
    "X = temp\n",
    "\n",
    "\n",
    "X.shape, y.shape"
   ]
  },
  {
   "cell_type": "code",
   "execution_count": null,
   "metadata": {},
   "outputs": [],
   "source": [
    "# Turning sex and view position into inputs for the NN\n",
    "sex_map = {\n",
    "    'M':0,\n",
    "    'F':1\n",
    "}\n",
    "\n",
    "view_map = {\n",
    "    'AP':0,\n",
    "    'PA':1\n",
    "}\n",
    "X['sex'] = X['sex'].map(lambda x: sex_map(x))\n",
    "X['viewPosition'] = X['viewPosition'].map(lambda x: view_map(x))"
   ]
  },
  {
   "cell_type": "code",
   "execution_count": null,
   "metadata": {},
   "outputs": [],
   "source": [
    "X = X.drop(columns=['age','viewPosition','sex']) \n",
    "#I'm not sure how to add this into the inputs for the thing. \n",
    "#Maybe have a second NN that takes in this info and then applies it at the end, \n",
    "#kind of like how Mike's thing kind of works"
   ]
  },
  {
   "cell_type": "code",
   "execution_count": 156,
   "metadata": {},
   "outputs": [],
   "source": [
    "X_train, X_test, y_train, y_test = train_test_split(X, y, stratify=y, random_state=42)"
   ]
  },
  {
   "cell_type": "code",
   "execution_count": 157,
   "metadata": {},
   "outputs": [],
   "source": [
    "y_train_c = to_categorical(y_train)\n",
    "y_test_c = to_categorical(y_test)"
   ]
  },
  {
   "cell_type": "code",
   "execution_count": 158,
   "metadata": {},
   "outputs": [],
   "source": [
    "X_train_re = X_train.values.reshape(X_train.shape[0], resized_shape[0], resized_shape[1], 1)\n",
    "X_test_re = X_test.values.reshape(X_test.shape[0], resized_shape[0], resized_shape[1], 1)"
   ]
  },
  {
   "cell_type": "code",
   "execution_count": 161,
   "metadata": {},
   "outputs": [],
   "source": [
    "# Initialize Model\n",
    "model_convolutional_female = Sequential()\n",
    "\n",
    "# First Conv / Pool \n",
    "model_convolutional_female.add(Conv2D(filters = 6,\n",
    "                               kernel_size = 3,\n",
    "                               activation = 'relu',\n",
    "                               input_shape = (resized_shape[0], resized_shape[1], 1)\n",
    "                              ))\n",
    "model_convolutional_female.add(MaxPooling2D(pool_size=(2,2)))\n",
    "\n",
    "#Second Conv/ Pool\n",
    "model_convolutional_female.add(Conv2D(filters=16, kernel_size=3, activation='relu'))\n",
    "model_convolutional_female.add(MaxPooling2D(pool_size=(2,2)))\n",
    "\n",
    "# Flatten\n",
    "model_convolutional_female.add(Dropout(0.5))\n",
    "model_convolutional_female.add(Flatten())\n",
    "\n",
    "model_convolutional_female.add(Dense(512, activation='relu'))\n",
    "model_convolutional_female.add(Dense(128, activation='relu'))\n",
    "model_convolutional_female.add(Dropout(0.5))\n",
    "model_convolutional_female.add(Dense(3, activation='softmax'))"
   ]
  },
  {
   "cell_type": "code",
   "execution_count": 162,
   "metadata": {},
   "outputs": [],
   "source": [
    "model_convolutional_female.compile(loss = 'categorical_crossentropy', \n",
    "                            optimizer = 'adam', \n",
    "                            metrics = ['accuracy'])"
   ]
  },
  {
   "cell_type": "code",
   "execution_count": 163,
   "metadata": {
    "scrolled": false
   },
   "outputs": [
    {
     "name": "stdout",
     "output_type": "stream",
     "text": [
      "Train on 8950 samples, validate on 2984 samples\n",
      "Epoch 1/80\n",
      "8950/8950 [==============================] - 53s 6ms/step - loss: 0.9321 - acc: 0.5331 - val_loss: 0.8273 - val_acc: 0.6126\n",
      "Epoch 2/80\n",
      "8950/8950 [==============================] - 50s 6ms/step - loss: 0.8427 - acc: 0.5912 - val_loss: 0.8265 - val_acc: 0.6146\n",
      "Epoch 3/80\n",
      "8950/8950 [==============================] - 50s 6ms/step - loss: 0.8023 - acc: 0.6132 - val_loss: 0.7960 - val_acc: 0.6277\n",
      "Epoch 4/80\n",
      "8950/8950 [==============================] - 50s 6ms/step - loss: 0.7749 - acc: 0.6410 - val_loss: 0.7842 - val_acc: 0.6287\n",
      "Epoch 5/80\n",
      "8950/8950 [==============================] - 50s 6ms/step - loss: 0.7253 - acc: 0.6589 - val_loss: 0.7868 - val_acc: 0.6394\n",
      "Epoch 6/80\n",
      "8950/8950 [==============================] - 49s 6ms/step - loss: 0.6754 - acc: 0.6906 - val_loss: 0.7693 - val_acc: 0.6391\n",
      "Epoch 7/80\n",
      "8950/8950 [==============================] - 49s 6ms/step - loss: 0.6348 - acc: 0.7188 - val_loss: 0.7891 - val_acc: 0.6351\n",
      "Epoch 8/80\n",
      "8950/8950 [==============================] - 50s 6ms/step - loss: 0.5648 - acc: 0.7508 - val_loss: 0.7855 - val_acc: 0.6582\n",
      "Epoch 9/80\n",
      "8950/8950 [==============================] - 49s 6ms/step - loss: 0.4921 - acc: 0.7954 - val_loss: 0.7960 - val_acc: 0.6535\n",
      "Epoch 10/80\n",
      "8950/8950 [==============================] - 50s 6ms/step - loss: 0.4035 - acc: 0.8365 - val_loss: 0.8708 - val_acc: 0.6505\n",
      "Epoch 11/80\n",
      "8950/8950 [==============================] - 50s 6ms/step - loss: 0.3484 - acc: 0.8601 - val_loss: 0.8489 - val_acc: 0.6635\n",
      "Epoch 12/80\n",
      "8950/8950 [==============================] - 50s 6ms/step - loss: 0.2746 - acc: 0.8975 - val_loss: 1.0684 - val_acc: 0.6511\n",
      "Epoch 13/80\n",
      "8950/8950 [==============================] - 50s 6ms/step - loss: 0.2210 - acc: 0.9181 - val_loss: 1.0738 - val_acc: 0.6545\n",
      "Epoch 14/80\n",
      "8950/8950 [==============================] - 49s 6ms/step - loss: 0.1888 - acc: 0.9293 - val_loss: 1.0602 - val_acc: 0.6783\n",
      "Epoch 15/80\n",
      "8950/8950 [==============================] - 50s 6ms/step - loss: 0.1476 - acc: 0.9472 - val_loss: 1.1640 - val_acc: 0.6823\n",
      "Epoch 16/80\n",
      "8950/8950 [==============================] - 50s 6ms/step - loss: 0.1359 - acc: 0.9520 - val_loss: 1.1386 - val_acc: 0.6642\n",
      "Epoch 17/80\n",
      "8950/8950 [==============================] - 50s 6ms/step - loss: 0.1117 - acc: 0.9612 - val_loss: 1.2089 - val_acc: 0.6666\n",
      "Epoch 18/80\n",
      "8950/8950 [==============================] - 50s 6ms/step - loss: 0.0832 - acc: 0.9703 - val_loss: 1.3142 - val_acc: 0.6692\n",
      "Epoch 19/80\n",
      "8950/8950 [==============================] - 50s 6ms/step - loss: 0.0965 - acc: 0.9649 - val_loss: 1.2172 - val_acc: 0.6766\n",
      "Epoch 20/80\n",
      "8950/8950 [==============================] - 49s 6ms/step - loss: 0.0754 - acc: 0.9743 - val_loss: 1.4751 - val_acc: 0.6622\n",
      "Epoch 21/80\n",
      "8950/8950 [==============================] - 50s 6ms/step - loss: 0.0728 - acc: 0.9740 - val_loss: 1.4118 - val_acc: 0.6699\n",
      "Epoch 22/80\n",
      "8950/8950 [==============================] - 49s 6ms/step - loss: 0.0635 - acc: 0.9791 - val_loss: 1.5255 - val_acc: 0.6739\n",
      "Epoch 23/80\n",
      "8950/8950 [==============================] - 50s 6ms/step - loss: 0.0604 - acc: 0.9792 - val_loss: 1.5722 - val_acc: 0.6659\n",
      "Epoch 24/80\n",
      "8950/8950 [==============================] - 52s 6ms/step - loss: 0.0548 - acc: 0.9810 - val_loss: 1.5542 - val_acc: 0.6759\n",
      "Epoch 27/80\n",
      "8950/8950 [==============================] - 50s 6ms/step - loss: 0.0467 - acc: 0.9836 - val_loss: 1.6214 - val_acc: 0.6666\n",
      "Epoch 28/80\n",
      "8950/8950 [==============================] - 51s 6ms/step - loss: 0.0476 - acc: 0.9851 - val_loss: 1.6805 - val_acc: 0.6796\n",
      "Epoch 29/80\n",
      "8950/8950 [==============================] - 50s 6ms/step - loss: 0.0530 - acc: 0.9827 - val_loss: 1.5452 - val_acc: 0.6776\n",
      "Epoch 30/80\n",
      "8950/8950 [==============================] - 52s 6ms/step - loss: 0.0441 - acc: 0.9865 - val_loss: 1.5690 - val_acc: 0.6588\n",
      "Epoch 31/80\n",
      "8950/8950 [==============================] - 51s 6ms/step - loss: 0.0442 - acc: 0.9860 - val_loss: 1.7315 - val_acc: 0.6893\n",
      "Epoch 32/80\n",
      "8950/8950 [==============================] - 51s 6ms/step - loss: 0.0343 - acc: 0.9893 - val_loss: 1.9184 - val_acc: 0.6736\n",
      "Epoch 33/80\n",
      "8950/8950 [==============================] - 51s 6ms/step - loss: 0.0391 - acc: 0.9869 - val_loss: 1.7810 - val_acc: 0.6599\n",
      "Epoch 34/80\n",
      "8950/8950 [==============================] - 50s 6ms/step - loss: 0.0379 - acc: 0.9870 - val_loss: 1.6918 - val_acc: 0.6723\n",
      "Epoch 35/80\n",
      "8950/8950 [==============================] - 50s 6ms/step - loss: 0.0373 - acc: 0.9872 - val_loss: 1.6588 - val_acc: 0.6733\n",
      "Epoch 36/80\n",
      "8950/8950 [==============================] - 50s 6ms/step - loss: 0.0380 - acc: 0.9856 - val_loss: 1.6616 - val_acc: 0.6736\n",
      "Epoch 37/80\n",
      "1792/8950 [=====>........................] - ETA: 37s - loss: 0.0368 - acc: 0.9872"
     ]
    },
    {
     "name": "stderr",
     "output_type": "stream",
     "text": [
      "IOPub message rate exceeded.\n",
      "The notebook server will temporarily stop sending output\n",
      "to the client in order to avoid crashing it.\n",
      "To change this limit, set the config variable\n",
      "`--NotebookApp.iopub_msg_rate_limit`.\n",
      "\n",
      "Current values:\n",
      "NotebookApp.iopub_msg_rate_limit=1000.0 (msgs/sec)\n",
      "NotebookApp.rate_limit_window=3.0 (secs)\n",
      "\n"
     ]
    },
    {
     "name": "stdout",
     "output_type": "stream",
     "text": [
      "8950/8950 [==============================] - 51s 6ms/step - loss: 0.0260 - acc: 0.9915 - val_loss: 1.8228 - val_acc: 0.6692\n",
      "Epoch 48/80\n",
      "8950/8950 [==============================] - 52s 6ms/step - loss: 0.0198 - acc: 0.9936 - val_loss: 1.9145 - val_acc: 0.6753\n",
      "Epoch 49/80\n",
      "8950/8950 [==============================] - 50s 6ms/step - loss: 0.0204 - acc: 0.9931 - val_loss: 1.9593 - val_acc: 0.6676\n",
      "Epoch 50/80\n",
      "8950/8950 [==============================] - 51s 6ms/step - loss: 0.0335 - acc: 0.9893 - val_loss: 2.0103 - val_acc: 0.6702\n",
      "Epoch 51/80\n",
      "8950/8950 [==============================] - 51s 6ms/step - loss: 0.0269 - acc: 0.9903 - val_loss: 1.9930 - val_acc: 0.6645\n",
      "Epoch 52/80\n",
      "8950/8950 [==============================] - 50s 6ms/step - loss: 0.0163 - acc: 0.9941 - val_loss: 2.1799 - val_acc: 0.6679\n",
      "Epoch 53/80\n",
      "8950/8950 [==============================] - 51s 6ms/step - loss: 0.0276 - acc: 0.9917 - val_loss: 2.2851 - val_acc: 0.6672\n",
      "Epoch 54/80\n",
      "8950/8950 [==============================] - 51s 6ms/step - loss: 0.0219 - acc: 0.9933 - val_loss: 2.0458 - val_acc: 0.6612\n",
      "Epoch 55/80\n",
      "8950/8950 [==============================] - 49s 6ms/step - loss: 0.0305 - acc: 0.9898 - val_loss: 2.2930 - val_acc: 0.6669\n",
      "Epoch 56/80\n",
      "8950/8950 [==============================] - 50s 6ms/step - loss: 0.0243 - acc: 0.9922 - val_loss: 1.9638 - val_acc: 0.6729\n",
      "Epoch 57/80\n",
      "8950/8950 [==============================] - 51s 6ms/step - loss: 0.0168 - acc: 0.9943 - val_loss: 1.9194 - val_acc: 0.6743\n",
      "Epoch 58/80\n",
      "8950/8950 [==============================] - 51s 6ms/step - loss: 0.0223 - acc: 0.9930 - val_loss: 2.1907 - val_acc: 0.6525\n",
      "Epoch 59/80\n",
      "8950/8950 [==============================] - 50s 6ms/step - loss: 0.0217 - acc: 0.9927 - val_loss: 1.9005 - val_acc: 0.6595\n",
      "Epoch 60/80\n",
      "8950/8950 [==============================] - 49s 6ms/step - loss: 0.0183 - acc: 0.9947 - val_loss: 2.1148 - val_acc: 0.6729\n",
      "Epoch 61/80\n",
      "8950/8950 [==============================] - 50s 6ms/step - loss: 0.0182 - acc: 0.9944 - val_loss: 2.3280 - val_acc: 0.6615\n",
      "Epoch 62/80\n",
      "8950/8950 [==============================] - 50s 6ms/step - loss: 0.0223 - acc: 0.9937 - val_loss: 2.4385 - val_acc: 0.6501\n",
      "Epoch 63/80\n",
      "8950/8950 [==============================] - 50s 6ms/step - loss: 0.0194 - acc: 0.9935 - val_loss: 2.2777 - val_acc: 0.6639\n",
      "Epoch 64/80\n",
      "8950/8950 [==============================] - 50s 6ms/step - loss: 0.0223 - acc: 0.9934 - val_loss: 2.0465 - val_acc: 0.6528\n",
      "Epoch 65/80\n",
      "8950/8950 [==============================] - 51s 6ms/step - loss: 0.0140 - acc: 0.9945 - val_loss: 2.2075 - val_acc: 0.6689\n",
      "Epoch 66/80\n",
      "8950/8950 [==============================] - 50s 6ms/step - loss: 0.0170 - acc: 0.9939 - val_loss: 2.1883 - val_acc: 0.6655\n",
      "Epoch 67/80\n",
      "8950/8950 [==============================] - 51s 6ms/step - loss: 0.0191 - acc: 0.9950 - val_loss: 2.0806 - val_acc: 0.6622\n",
      "Epoch 68/80\n",
      "8950/8950 [==============================] - 51s 6ms/step - loss: 0.0249 - acc: 0.9916 - val_loss: 2.0260 - val_acc: 0.6655\n",
      "Epoch 69/80\n",
      "8950/8950 [==============================] - 51s 6ms/step - loss: 0.0215 - acc: 0.9926 - val_loss: 1.9901 - val_acc: 0.6669\n",
      "Epoch 70/80\n",
      "8950/8950 [==============================] - 51s 6ms/step - loss: 0.0182 - acc: 0.9935 - val_loss: 2.3153 - val_acc: 0.6699\n",
      "Epoch 71/80\n",
      "8950/8950 [==============================] - 51s 6ms/step - loss: 0.0218 - acc: 0.9932 - val_loss: 2.0596 - val_acc: 0.6615\n",
      "Epoch 72/80\n",
      "8950/8950 [==============================] - 50s 6ms/step - loss: 0.0247 - acc: 0.9922 - val_loss: 2.0838 - val_acc: 0.6659\n",
      "Epoch 73/80\n",
      "8950/8950 [==============================] - 50s 6ms/step - loss: 0.0188 - acc: 0.9943 - val_loss: 2.0816 - val_acc: 0.6639\n",
      "Epoch 74/80\n",
      "8950/8950 [==============================] - 51s 6ms/step - loss: 0.0174 - acc: 0.9953 - val_loss: 2.2737 - val_acc: 0.6582\n",
      "Epoch 75/80\n",
      "8950/8950 [==============================] - 52s 6ms/step - loss: 0.0165 - acc: 0.9943 - val_loss: 2.2480 - val_acc: 0.6676\n",
      "Epoch 76/80\n",
      "8950/8950 [==============================] - 50s 6ms/step - loss: 0.0241 - acc: 0.9925 - val_loss: 2.0663 - val_acc: 0.6726\n",
      "Epoch 77/80\n",
      "8950/8950 [==============================] - 51s 6ms/step - loss: 0.0165 - acc: 0.9953 - val_loss: 2.0351 - val_acc: 0.6709\n",
      "Epoch 78/80\n",
      "8950/8950 [==============================] - 50s 6ms/step - loss: 0.0172 - acc: 0.9947 - val_loss: 2.2463 - val_acc: 0.6662\n",
      "Epoch 79/80\n",
      "8950/8950 [==============================] - 50s 6ms/step - loss: 0.0204 - acc: 0.9937 - val_loss: 2.3391 - val_acc: 0.6629\n",
      "Epoch 80/80\n",
      "8950/8950 [==============================] - 51s 6ms/step - loss: 0.0168 - acc: 0.9936 - val_loss: 2.2184 - val_acc: 0.6588\n",
      "CPU times: user 4h 41min 59s, sys: 1h 24min 38s, total: 6h 6min 38s\n",
      "Wall time: 1h 7min 7s\n"
     ]
    }
   ],
   "source": [
    "%%time\n",
    "\n",
    "trained_convolutional_female = model_convolutional_female.fit(X_train_re,\n",
    "                        y_train_c,\n",
    "                        batch_size = 32,\n",
    "                        epochs = 80,\n",
    "                        verbose = 1,\n",
    "                        validation_data = (X_test_re, y_test_c)\n",
    "                       )"
   ]
  },
  {
   "cell_type": "code",
   "execution_count": 164,
   "metadata": {},
   "outputs": [
    {
     "data": {
      "text/plain": [
       "<matplotlib.legend.Legend at 0x7f2c7cd2f6d8>"
      ]
     },
     "execution_count": 164,
     "metadata": {},
     "output_type": "execute_result"
    },
    {
     "data": {
      "image/png": "[encoded data removed]",
      "text/plain": [
       "<Figure size 432x288 with 1 Axes>"
      ]
     },
     "metadata": {
      "image/png": {
       "height": 250,
       "width": 373
      },
      "needs_background": "light"
     },
     "output_type": "display_data"
    }
   ],
   "source": [
    "plt.plot(trained_convolutional_female.history['loss'], label=\"Loss\")\n",
    "plt.plot(trained_convolutional_female.history['val_loss'], label='Val Loss')\n",
    "plt.legend()"
   ]
  },
  {
   "cell_type": "code",
   "execution_count": 165,
   "metadata": {
    "scrolled": true
   },
   "outputs": [
    {
     "data": {
      "text/plain": [
       "<matplotlib.legend.Legend at 0x7f2c7c57c630>"
      ]
     },
     "execution_count": 165,
     "metadata": {},
     "output_type": "execute_result"
    },
    {
     "data": {
      "image/png": "[encoded data removed]",
      "text/plain": [
       "<Figure size 432x288 with 1 Axes>"
      ]
     },
     "metadata": {
      "image/png": {
       "height": 250,
       "width": 373
      },
      "needs_background": "light"
     },
     "output_type": "display_data"
    }
   ],
   "source": [
    "plt.plot(trained_convolutional_female.history['acc'], label='Acc')\n",
    "plt.plot(trained_convolutional_female.history['val_acc'], label='Val Acc')\n",
    "plt.legend()"
   ]
  },
  {
   "cell_type": "code",
   "execution_count": null,
   "metadata": {},
   "outputs": [],
   "source": []
  }
 ],
 "metadata": {
  "kernelspec": {
   "display_name": "Python 3",
   "language": "python",
   "name": "python3"
  },
  "language_info": {
   "codemirror_mode": {
    "name": "ipython",
    "version": 3
   },
   "file_extension": ".py",
   "mimetype": "text/x-python",
   "name": "python",
   "nbconvert_exporter": "python",
   "pygments_lexer": "ipython3",
   "version": "3.6.6"
  }
 },
 "nbformat": 4,
 "nbformat_minor": 1
}
