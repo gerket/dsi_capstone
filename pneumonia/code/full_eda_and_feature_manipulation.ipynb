{
 "cells": [
  {
   "cell_type": "markdown",
   "metadata": {},
   "source": [
    "In this notebook I am going to create a few different dataframes that consist of patient data, potentially different sizes of image pixel arrays, etc.\n"
   ]
  },
  {
   "cell_type": "code",
   "execution_count": 23,
   "metadata": {},
   "outputs": [],
   "source": [
    "import glob, pylab, pandas as pd\n",
    "import pydicom, numpy as np\n",
    "import pandas_profiling as pp"
   ]
  },
  {
   "cell_type": "code",
   "execution_count": 24,
   "metadata": {},
   "outputs": [
    {
     "name": "stdout",
     "output_type": "stream",
     "text": [
      "patientId    0004cfab-14fd-4e49-80ba-63a80b6bddd6\n",
      "x                                             NaN\n",
      "y                                             NaN\n",
      "width                                         NaN\n",
      "height                                        NaN\n",
      "Target                                          0\n",
      "Name: 0, dtype: object\n"
     ]
    }
   ],
   "source": [
    "# I am going to incorporate the rest of the target data (x, y, width, height) even though currently I am only trying to see if the person has pneumonia or not.\n",
    "df = pd.read_csv('../data/stage_1_train_labels.csv')\n",
    "# Example of a \"Normal\" person\n",
    "print(df.iloc[0])"
   ]
  },
  {
   "cell_type": "code",
   "execution_count": 25,
   "metadata": {},
   "outputs": [
    {
     "name": "stdout",
     "output_type": "stream",
     "text": [
      "patientId    00436515-870c-4b36-a041-de91049b9ab4\n",
      "x                                             264\n",
      "y                                             152\n",
      "width                                         213\n",
      "height                                        379\n",
      "Target                                          1\n",
      "Name: 4, dtype: object\n"
     ]
    }
   ],
   "source": [
    "# Example of a person with pneumonia\n",
    "print(df.iloc[4])"
   ]
  },
  {
   "cell_type": "code",
   "execution_count": 27,
   "metadata": {},
   "outputs": [
    {
     "name": "stdout",
     "output_type": "stream",
     "text": [
      "(0008, 0005) Specific Character Set              CS: 'ISO_IR 100'\n",
      "(0008, 0016) SOP Class UID                       UI: Secondary Capture Image Storage\n",
      "(0008, 0018) SOP Instance UID                    UI: 1.2.276.0.7230010.3.1.4.8323329.28530.1517874485.775526\n",
      "(0008, 0020) Study Date                          DA: '19010101'\n",
      "(0008, 0030) Study Time                          TM: '000000.00'\n",
      "(0008, 0050) Accession Number                    SH: ''\n",
      "(0008, 0060) Modality                            CS: 'CR'\n",
      "(0008, 0064) Conversion Type                     CS: 'WSD'\n",
      "(0008, 0090) Referring Physician's Name          PN: ''\n",
      "(0008, 103e) Series Description                  LO: 'view: PA'\n",
      "(0010, 0010) Patient's Name                      PN: '0004cfab-14fd-4e49-80ba-63a80b6bddd6'\n",
      "(0010, 0020) Patient ID                          LO: '0004cfab-14fd-4e49-80ba-63a80b6bddd6'\n",
      "(0010, 0030) Patient's Birth Date                DA: ''\n",
      "(0010, 0040) Patient's Sex                       CS: 'F'\n",
      "(0010, 1010) Patient's Age                       AS: '51'\n",
      "(0018, 0015) Body Part Examined                  CS: 'CHEST'\n",
      "(0018, 5101) View Position                       CS: 'PA'\n",
      "(0020, 000d) Study Instance UID                  UI: 1.2.276.0.7230010.3.1.2.8323329.28530.1517874485.775525\n",
      "(0020, 000e) Series Instance UID                 UI: 1.2.276.0.7230010.3.1.3.8323329.28530.1517874485.775524\n",
      "(0020, 0010) Study ID                            SH: ''\n",
      "(0020, 0011) Series Number                       IS: '1'\n",
      "(0020, 0013) Instance Number                     IS: '1'\n",
      "(0020, 0020) Patient Orientation                 CS: ''\n",
      "(0028, 0002) Samples per Pixel                   US: 1\n",
      "(0028, 0004) Photometric Interpretation          CS: 'MONOCHROME2'\n",
      "(0028, 0010) Rows                                US: 1024\n",
      "(0028, 0011) Columns                             US: 1024\n",
      "(0028, 0030) Pixel Spacing                       DS: ['0.14300000000000002', '0.14300000000000002']\n",
      "(0028, 0100) Bits Allocated                      US: 8\n",
      "(0028, 0101) Bits Stored                         US: 8\n",
      "(0028, 0102) High Bit                            US: 7\n",
      "(0028, 0103) Pixel Representation                US: 0\n",
      "(0028, 2110) Lossy Image Compression             CS: '01'\n",
      "(0028, 2114) Lossy Image Compression Method      CS: 'ISO_10918_1'\n",
      "(7fe0, 0010) Pixel Data                          OB: Array of 142006 bytes\n"
     ]
    }
   ],
   "source": [
    "# Retrieving the data out of the .dcm file\n",
    "patientId = df['patientId'][0]\n",
    "dcm_file = '../data/stage_1_train_images/%s.dcm' % patientId\n",
    "dcm_data = pydicom.read_file(dcm_file)\n",
    "\n",
    "print(dcm_data)"
   ]
  },
  {
   "cell_type": "markdown",
   "metadata": {},
   "source": [
    "The data retrieved from the `.dcm` is important. Not only does it have the pixel array that we want to test against but it also has things like Age, Sex, and others that we might want to filter over."
   ]
  },
  {
   "cell_type": "code",
   "execution_count": 28,
   "metadata": {},
   "outputs": [],
   "source": [
    "# Creating a DataFrame of all of the information minus the pictures in the .dcm files\n",
    "all_info_cols = ['patientId', 'specificCharacterSet', 'modality', 'conversionType', 'sex', 'age', 'viewPosition', 'photometricInterpretation']"
   ]
  },
  {
   "cell_type": "code",
   "execution_count": 30,
   "metadata": {},
   "outputs": [
    {
     "ename": "KeyboardInterrupt",
     "evalue": "",
     "output_type": "error",
     "traceback": [
      "\u001b[0;31m---------------------------------------------------------------------------\u001b[0m",
      "\u001b[0;31mKeyboardInterrupt\u001b[0m                         Traceback (most recent call last)",
      "\u001b[0;32m<ipython-input-30-4bcec491d41f>\u001b[0m in \u001b[0;36m<module>\u001b[0;34m\u001b[0m\n\u001b[1;32m      2\u001b[0m \u001b[0;32mfor\u001b[0m \u001b[0mi\u001b[0m \u001b[0;32min\u001b[0m \u001b[0mdf\u001b[0m\u001b[0;34m[\u001b[0m\u001b[0;34m'patientId'\u001b[0m\u001b[0;34m]\u001b[0m\u001b[0;34m:\u001b[0m\u001b[0;34m\u001b[0m\u001b[0m\n\u001b[1;32m      3\u001b[0m     \u001b[0mdcm_file\u001b[0m \u001b[0;34m=\u001b[0m \u001b[0;34m'../data/stage_1_train_images/%s.dcm'\u001b[0m \u001b[0;34m%\u001b[0m \u001b[0mi\u001b[0m\u001b[0;34m\u001b[0m\u001b[0m\n\u001b[0;32m----> 4\u001b[0;31m     \u001b[0mdcm_data\u001b[0m \u001b[0;34m=\u001b[0m \u001b[0mpydicom\u001b[0m\u001b[0;34m.\u001b[0m\u001b[0mread_file\u001b[0m\u001b[0;34m(\u001b[0m\u001b[0mdcm_file\u001b[0m\u001b[0;34m)\u001b[0m\u001b[0;34m\u001b[0m\u001b[0m\n\u001b[0m\u001b[1;32m      5\u001b[0m     \u001b[0mall_info\u001b[0m\u001b[0;34m.\u001b[0m\u001b[0mappend\u001b[0m\u001b[0;34m(\u001b[0m\u001b[0;34m[\u001b[0m\u001b[0mi\u001b[0m\u001b[0;34m,\u001b[0m \u001b[0mdcm_data\u001b[0m\u001b[0;34m.\u001b[0m\u001b[0mSpecificCharacterSet\u001b[0m\u001b[0;34m,\u001b[0m \u001b[0mdcm_data\u001b[0m\u001b[0;34m.\u001b[0m\u001b[0mModality\u001b[0m\u001b[0;34m,\u001b[0m \u001b[0mdcm_data\u001b[0m\u001b[0;34m.\u001b[0m\u001b[0mConversionType\u001b[0m\u001b[0;34m,\u001b[0m \u001b[0mdcm_data\u001b[0m\u001b[0;34m.\u001b[0m\u001b[0mPatientSex\u001b[0m\u001b[0;34m,\u001b[0m \u001b[0mdcm_data\u001b[0m\u001b[0;34m.\u001b[0m\u001b[0mPatientAge\u001b[0m\u001b[0;34m,\u001b[0m \u001b[0mdcm_data\u001b[0m\u001b[0;34m.\u001b[0m\u001b[0mViewPosition\u001b[0m\u001b[0;34m,\u001b[0m \u001b[0mdcm_data\u001b[0m\u001b[0;34m.\u001b[0m\u001b[0mPhotometricInterpretation\u001b[0m\u001b[0;34m]\u001b[0m\u001b[0;34m)\u001b[0m\u001b[0;34m\u001b[0m\u001b[0m\n\u001b[1;32m      6\u001b[0m \u001b[0;34m\u001b[0m\u001b[0m\n",
      "\u001b[0;32m/anaconda3/lib/python3.6/site-packages/pydicom/filereader.py\u001b[0m in \u001b[0;36mdcmread\u001b[0;34m(fp, defer_size, stop_before_pixels, force, specific_tags)\u001b[0m\n\u001b[1;32m    884\u001b[0m     \u001b[0;32mtry\u001b[0m\u001b[0;34m:\u001b[0m\u001b[0;34m\u001b[0m\u001b[0m\n\u001b[1;32m    885\u001b[0m         dataset = read_partial(fp, stop_when, defer_size=defer_size,\n\u001b[0;32m--> 886\u001b[0;31m                                force=force, specific_tags=specific_tags)\n\u001b[0m\u001b[1;32m    887\u001b[0m     \u001b[0;32mfinally\u001b[0m\u001b[0;34m:\u001b[0m\u001b[0;34m\u001b[0m\u001b[0m\n\u001b[1;32m    888\u001b[0m         \u001b[0;32mif\u001b[0m \u001b[0;32mnot\u001b[0m \u001b[0mcaller_owns_file\u001b[0m\u001b[0;34m:\u001b[0m\u001b[0;34m\u001b[0m\u001b[0m\n",
      "\u001b[0;32m/anaconda3/lib/python3.6/site-packages/pydicom/filereader.py\u001b[0m in \u001b[0;36mread_partial\u001b[0;34m(fileobj, stop_when, defer_size, force, specific_tags)\u001b[0m\n\u001b[1;32m    763\u001b[0m         dataset = read_dataset(fileobj, is_implicit_VR, is_little_endian,\n\u001b[1;32m    764\u001b[0m                                \u001b[0mstop_when\u001b[0m\u001b[0;34m=\u001b[0m\u001b[0mstop_when\u001b[0m\u001b[0;34m,\u001b[0m \u001b[0mdefer_size\u001b[0m\u001b[0;34m=\u001b[0m\u001b[0mdefer_size\u001b[0m\u001b[0;34m,\u001b[0m\u001b[0;34m\u001b[0m\u001b[0m\n\u001b[0;32m--> 765\u001b[0;31m                                specific_tags=specific_tags)\n\u001b[0m\u001b[1;32m    766\u001b[0m     \u001b[0;32mexcept\u001b[0m \u001b[0mEOFError\u001b[0m\u001b[0;34m:\u001b[0m\u001b[0;34m\u001b[0m\u001b[0m\n\u001b[1;32m    767\u001b[0m         \u001b[0;32mpass\u001b[0m  \u001b[0;31m# error already logged in read_dataset\u001b[0m\u001b[0;34m\u001b[0m\u001b[0m\n",
      "\u001b[0;32m/anaconda3/lib/python3.6/site-packages/pydicom/filereader.py\u001b[0m in \u001b[0;36mread_dataset\u001b[0;34m(fp, is_implicit_VR, is_little_endian, bytelength, stop_when, defer_size, parent_encoding, specific_tags)\u001b[0m\n\u001b[1;32m    406\u001b[0m     \u001b[0;32mtry\u001b[0m\u001b[0;34m:\u001b[0m\u001b[0;34m\u001b[0m\u001b[0m\n\u001b[1;32m    407\u001b[0m         \u001b[0;32mwhile\u001b[0m \u001b[0;34m(\u001b[0m\u001b[0mbytelength\u001b[0m \u001b[0;32mis\u001b[0m \u001b[0;32mNone\u001b[0m\u001b[0;34m)\u001b[0m \u001b[0;32mor\u001b[0m \u001b[0;34m(\u001b[0m\u001b[0mfp\u001b[0m\u001b[0;34m.\u001b[0m\u001b[0mtell\u001b[0m\u001b[0;34m(\u001b[0m\u001b[0;34m)\u001b[0m \u001b[0;34m-\u001b[0m \u001b[0mfpStart\u001b[0m \u001b[0;34m<\u001b[0m \u001b[0mbytelength\u001b[0m\u001b[0;34m)\u001b[0m\u001b[0;34m:\u001b[0m\u001b[0;34m\u001b[0m\u001b[0m\n\u001b[0;32m--> 408\u001b[0;31m             \u001b[0mraw_data_element\u001b[0m \u001b[0;34m=\u001b[0m \u001b[0mnext\u001b[0m\u001b[0;34m(\u001b[0m\u001b[0mde_gen\u001b[0m\u001b[0;34m)\u001b[0m\u001b[0;34m\u001b[0m\u001b[0m\n\u001b[0m\u001b[1;32m    409\u001b[0m             \u001b[0;31m# Read data elements. Stop on some errors, but return what was read\u001b[0m\u001b[0;34m\u001b[0m\u001b[0;34m\u001b[0m\u001b[0m\n\u001b[1;32m    410\u001b[0m             \u001b[0mtag\u001b[0m \u001b[0;34m=\u001b[0m \u001b[0mraw_data_element\u001b[0m\u001b[0;34m.\u001b[0m\u001b[0mtag\u001b[0m\u001b[0;34m\u001b[0m\u001b[0m\n",
      "\u001b[0;32m/anaconda3/lib/python3.6/site-packages/pydicom/filereader.py\u001b[0m in \u001b[0;36mdata_element_generator\u001b[0;34m(fp, is_implicit_VR, is_little_endian, stop_when, defer_size, encoding, specific_tags)\u001b[0m\n\u001b[1;32m    249\u001b[0m \u001b[0;34m\u001b[0m\u001b[0m\n\u001b[1;32m    250\u001b[0m         \u001b[0;31m# Positioned to read the value, but may not want to -- check stop_when\u001b[0m\u001b[0;34m\u001b[0m\u001b[0;34m\u001b[0m\u001b[0m\n\u001b[0;32m--> 251\u001b[0;31m         \u001b[0mvalue_tell\u001b[0m \u001b[0;34m=\u001b[0m \u001b[0mfp_tell\u001b[0m\u001b[0;34m(\u001b[0m\u001b[0;34m)\u001b[0m\u001b[0;34m\u001b[0m\u001b[0m\n\u001b[0m\u001b[1;32m    252\u001b[0m         \u001b[0mtag\u001b[0m \u001b[0;34m=\u001b[0m \u001b[0mTupleTag\u001b[0m\u001b[0;34m(\u001b[0m\u001b[0;34m(\u001b[0m\u001b[0mgroup\u001b[0m\u001b[0;34m,\u001b[0m \u001b[0melem\u001b[0m\u001b[0;34m)\u001b[0m\u001b[0;34m)\u001b[0m\u001b[0;34m\u001b[0m\u001b[0m\n\u001b[1;32m    253\u001b[0m         \u001b[0;32mif\u001b[0m \u001b[0mstop_when\u001b[0m \u001b[0;32mis\u001b[0m \u001b[0;32mnot\u001b[0m \u001b[0;32mNone\u001b[0m\u001b[0;34m:\u001b[0m\u001b[0;34m\u001b[0m\u001b[0m\n",
      "\u001b[0;31mKeyboardInterrupt\u001b[0m: "
     ]
    }
   ],
   "source": [
    "all_info = []\n",
    "for i in df['patientId']:\n",
    "    dcm_file = '../data/stage_1_train_images/%s.dcm' % i\n",
    "    dcm_data = pydicom.read_file(dcm_file)\n",
    "    all_info.append([i, dcm_data.SpecificCharacterSet, dcm_data.Modality, dcm_data.ConversionType, dcm_data.PatientSex, dcm_data.PatientAge, dcm_data.ViewPosition, dcm_data.PhotometricInterpretation])\n",
    "\n",
    "\n",
    "# Looking at the different unique values for the potentially interesting datapoints\n",
    "\n",
    "#print(dcm_data.SpecificCharacterSet.unique())"
   ]
  },
  {
   "cell_type": "code",
   "execution_count": null,
   "metadata": {},
   "outputs": [],
   "source": [
    "patient_data = pd.DataFrame(data=all_info, columns=all_info_cols)\n",
    "patient_data.head()"
   ]
  },
  {
   "cell_type": "code",
   "execution_count": null,
   "metadata": {},
   "outputs": [],
   "source": [
    "all_info_cols"
   ]
  },
  {
   "cell_type": "code",
   "execution_count": null,
   "metadata": {},
   "outputs": [],
   "source": [
    "columns = all_info_cols\n",
    "columns.remove('patientId')\n",
    "columns.remove('age')\n",
    "columns.append('age')"
   ]
  },
  {
   "cell_type": "code",
   "execution_count": null,
   "metadata": {
    "scrolled": true
   },
   "outputs": [],
   "source": [
    "for col in columns:\n",
    "    print(col+\": \"+str(patient_data[col].value_counts()))\n",
    "    print('\\n\\n\\n')\n",
    "    "
   ]
  },
  {
   "cell_type": "markdown",
   "metadata": {},
   "source": [
    "Potential things to look into: viewPosition, sex, age\n"
   ]
  },
  {
   "cell_type": "code",
   "execution_count": null,
   "metadata": {},
   "outputs": [],
   "source": [
    "# I want to see the difference between a PA and an AP xray\n",
    "def show_image(patientId):\n",
    "    dcm_file = '../data/stage_1_train_images/%s.dcm' % patientId\n",
    "    dcm_data = pydicom.read_file(dcm_file)\n",
    "    im = dcm_data.pixel_array\n",
    "    pylab.imshow(im, cmap=pylab.cm.gist_gray)\n",
    "    pylab.axis('off')"
   ]
  },
  {
   "cell_type": "code",
   "execution_count": null,
   "metadata": {},
   "outputs": [],
   "source": [
    "pa_patient = patient_data[patient_data['viewPosition']=='PA'].iloc[1]['patientId']\n",
    "show_image(pa_patient)"
   ]
  },
  {
   "cell_type": "code",
   "execution_count": null,
   "metadata": {},
   "outputs": [],
   "source": [
    "ap_patient = patient_data[patient_data['viewPosition']=='AP'].iloc[6]['patientId']\n",
    "show_image(ap_patient)"
   ]
  },
  {
   "cell_type": "code",
   "execution_count": null,
   "metadata": {},
   "outputs": [],
   "source": [
    "set(patient_data['age'].unique()) - set([str(i) for i in range(1,101)]) \n",
    "#That can't be right..."
   ]
  },
  {
   "cell_type": "markdown",
   "metadata": {},
   "source": [
    "The oldest living person was 122 years old and died in 1997 in France. I'm thinking these xrays with the patient's age as over 100 aren't good data and could be misdiagnosed. Since the data isn't good I'm deleting everything over 100"
   ]
  },
  {
   "cell_type": "code",
   "execution_count": null,
   "metadata": {
    "scrolled": true
   },
   "outputs": [],
   "source": [
    "test = patient_data[patient_data['age'] =='155'].iloc[0]['patientId']\n",
    "show_image(test)"
   ]
  },
  {
   "cell_type": "code",
   "execution_count": null,
   "metadata": {},
   "outputs": [],
   "source": [
    "child = patient_data[patient_data['age']=='24'].iloc[0]['patientId']\n",
    "show_image(pa_patient)"
   ]
  },
  {
   "cell_type": "markdown",
   "metadata": {},
   "source": [
    "- Change age into an int in the df. \n",
    "- Take out the very old people. \n",
    "- Look into taking out the young ones as well\n",
    "- create a model that uses only M AP and train/test. See if there's a difference\n",
    "- more EDA? you found the incorrect ages, is there any other potential for incorrect data? I'm not looking through 29k images...\n",
    "- stochastic gradient descent? look into and see if it is useful for a NN\n"
   ]
  },
  {
   "cell_type": "code",
   "execution_count": null,
   "metadata": {},
   "outputs": [],
   "source": [
    "patient_data['age'] = patient_data['age'].astype(int)"
   ]
  },
  {
   "cell_type": "code",
   "execution_count": null,
   "metadata": {},
   "outputs": [],
   "source": [
    "patient_data.dtypes\n"
   ]
  },
  {
   "cell_type": "code",
   "execution_count": null,
   "metadata": {
    "scrolled": true
   },
   "outputs": [],
   "source": [
    "pp.ProfileReport(patient_data)"
   ]
  },
  {
   "cell_type": "code",
   "execution_count": null,
   "metadata": {},
   "outputs": [],
   "source": [
    "feats_i_dont_need = ['conversionType', 'modality', 'photometricInterpretation', 'specificCharacterSet']"
   ]
  },
  {
   "cell_type": "code",
   "execution_count": null,
   "metadata": {},
   "outputs": [],
   "source": [
    "patient_data = patient_data.drop(columns=feats_i_dont_need)"
   ]
  },
  {
   "cell_type": "code",
   "execution_count": null,
   "metadata": {},
   "outputs": [],
   "source": [
    "# Getting rid of the overly ambitiously aged patient data\n",
    "patient_data = patient_data[patient_data['age']<=100]"
   ]
  },
  {
   "cell_type": "code",
   "execution_count": null,
   "metadata": {},
   "outputs": [],
   "source": [
    "adult_patient_data = patient_data[patient_data['age']>=18]"
   ]
  },
  {
   "cell_type": "code",
   "execution_count": null,
   "metadata": {},
   "outputs": [],
   "source": [
    "adult_patient_data.columns"
   ]
  },
  {
   "cell_type": "code",
   "execution_count": null,
   "metadata": {},
   "outputs": [],
   "source": []
  },
  {
   "cell_type": "code",
   "execution_count": null,
   "metadata": {},
   "outputs": [],
   "source": []
  },
  {
   "cell_type": "code",
   "execution_count": null,
   "metadata": {},
   "outputs": [],
   "source": [
    "male_adult_patient_data = adult_patient_data[adult_patient_data['sex']=='M']\n",
    "male_adult_patient_data.head(1)"
   ]
  },
  {
   "cell_type": "code",
   "execution_count": null,
   "metadata": {},
   "outputs": [],
   "source": [
    "#Going to save this to see if the age / sex had any major effects\n",
    "male_adult_patient_data.to_csv('./male_adult_patient_data.csv', index=False)"
   ]
  },
  {
   "cell_type": "code",
   "execution_count": 33,
   "metadata": {},
   "outputs": [
    {
     "data": {
      "text/html": [
       "<div>\n",
       "<style scoped>\n",
       "    .dataframe tbody tr th:only-of-type {\n",
       "        vertical-align: middle;\n",
       "    }\n",
       "\n",
       "    .dataframe tbody tr th {\n",
       "        vertical-align: top;\n",
       "    }\n",
       "\n",
       "    .dataframe thead th {\n",
       "        text-align: right;\n",
       "    }\n",
       "</style>\n",
       "<table border=\"1\" class=\"dataframe\">\n",
       "  <thead>\n",
       "    <tr style=\"text-align: right;\">\n",
       "      <th></th>\n",
       "      <th>patientId</th>\n",
       "      <th>sex</th>\n",
       "      <th>age</th>\n",
       "      <th>viewPosition</th>\n",
       "    </tr>\n",
       "  </thead>\n",
       "  <tbody>\n",
       "    <tr>\n",
       "      <th>0</th>\n",
       "      <td>00322d4d-1c29-4943-afc9-b6754be640eb</td>\n",
       "      <td>M</td>\n",
       "      <td>19</td>\n",
       "      <td>AP</td>\n",
       "    </tr>\n",
       "  </tbody>\n",
       "</table>\n",
       "</div>"
      ],
      "text/plain": [
       "                              patientId sex  age viewPosition\n",
       "0  00322d4d-1c29-4943-afc9-b6754be640eb   M   19           AP"
      ]
     },
     "execution_count": 33,
     "metadata": {},
     "output_type": "execute_result"
    }
   ],
   "source": [
    "testing_save = pd.read_csv('../male_adult_patient_data.csv')\n",
    "testing_save.head(1)"
   ]
  },
  {
   "cell_type": "code",
   "execution_count": 34,
   "metadata": {},
   "outputs": [
    {
     "data": {
      "text/plain": [
       "patientId       object\n",
       "sex             object\n",
       "age              int64\n",
       "viewPosition    object\n",
       "dtype: object"
      ]
     },
     "execution_count": 34,
     "metadata": {},
     "output_type": "execute_result"
    }
   ],
   "source": [
    "testing_save.dtypes"
   ]
  },
  {
   "cell_type": "code",
   "execution_count": 37,
   "metadata": {},
   "outputs": [
    {
     "data": {
      "text/plain": [
       "1763"
      ]
     },
     "execution_count": 37,
     "metadata": {},
     "output_type": "execute_result"
    }
   ],
   "source": [
    "testing_save.duplicated().sum()"
   ]
  },
  {
   "cell_type": "code",
   "execution_count": 44,
   "metadata": {},
   "outputs": [
    {
     "data": {
      "text/html": [
       "<div>\n",
       "<style scoped>\n",
       "    .dataframe tbody tr th:only-of-type {\n",
       "        vertical-align: middle;\n",
       "    }\n",
       "\n",
       "    .dataframe tbody tr th {\n",
       "        vertical-align: top;\n",
       "    }\n",
       "\n",
       "    .dataframe thead th {\n",
       "        text-align: right;\n",
       "    }\n",
       "</style>\n",
       "<table border=\"1\" class=\"dataframe\">\n",
       "  <thead>\n",
       "    <tr style=\"text-align: right;\">\n",
       "      <th></th>\n",
       "      <th>patientId</th>\n",
       "      <th>sex</th>\n",
       "      <th>age</th>\n",
       "      <th>viewPosition</th>\n",
       "    </tr>\n",
       "  </thead>\n",
       "  <tbody>\n",
       "    <tr>\n",
       "      <th>5</th>\n",
       "      <td>00704310-78a8-4b38-8475-49f4573b2dbb</td>\n",
       "      <td>M</td>\n",
       "      <td>75</td>\n",
       "      <td>PA</td>\n",
       "    </tr>\n",
       "    <tr>\n",
       "      <th>10</th>\n",
       "      <td>00f08de1-517e-4652-a04f-d1dc9ee48593</td>\n",
       "      <td>M</td>\n",
       "      <td>58</td>\n",
       "      <td>AP</td>\n",
       "    </tr>\n",
       "    <tr>\n",
       "      <th>14</th>\n",
       "      <td>010ccb9f-6d46-4380-af11-84f87397a1b8</td>\n",
       "      <td>M</td>\n",
       "      <td>21</td>\n",
       "      <td>AP</td>\n",
       "    </tr>\n",
       "    <tr>\n",
       "      <th>17</th>\n",
       "      <td>012a5620-d082-4bb8-9b3b-e72d8938000c</td>\n",
       "      <td>M</td>\n",
       "      <td>60</td>\n",
       "      <td>AP</td>\n",
       "    </tr>\n",
       "    <tr>\n",
       "      <th>21</th>\n",
       "      <td>0174c4bb-28f5-41e3-a13f-a396badc18bd</td>\n",
       "      <td>M</td>\n",
       "      <td>23</td>\n",
       "      <td>AP</td>\n",
       "    </tr>\n",
       "    <tr>\n",
       "      <th>28</th>\n",
       "      <td>01b9e362-4950-40f5-88fa-7557ac2a45bb</td>\n",
       "      <td>M</td>\n",
       "      <td>47</td>\n",
       "      <td>AP</td>\n",
       "    </tr>\n",
       "    <tr>\n",
       "      <th>34</th>\n",
       "      <td>01cad8d0-45cd-4603-b099-94055d322310</td>\n",
       "      <td>M</td>\n",
       "      <td>42</td>\n",
       "      <td>AP</td>\n",
       "    </tr>\n",
       "    <tr>\n",
       "      <th>47</th>\n",
       "      <td>02002619-3dea-4038-8d4d-458db30ed8de</td>\n",
       "      <td>M</td>\n",
       "      <td>60</td>\n",
       "      <td>AP</td>\n",
       "    </tr>\n",
       "    <tr>\n",
       "      <th>49</th>\n",
       "      <td>020a16e3-baf9-4cf0-859c-c79b5253d717</td>\n",
       "      <td>M</td>\n",
       "      <td>61</td>\n",
       "      <td>AP</td>\n",
       "    </tr>\n",
       "    <tr>\n",
       "      <th>58</th>\n",
       "      <td>0294b4aa-5614-4b33-80a4-2c31b639e5b3</td>\n",
       "      <td>M</td>\n",
       "      <td>38</td>\n",
       "      <td>AP</td>\n",
       "    </tr>\n",
       "    <tr>\n",
       "      <th>61</th>\n",
       "      <td>02c34d5b-16e9-412e-a385-ccd8cbceae16</td>\n",
       "      <td>M</td>\n",
       "      <td>66</td>\n",
       "      <td>AP</td>\n",
       "    </tr>\n",
       "    <tr>\n",
       "      <th>65</th>\n",
       "      <td>02ea6b76-4189-47c5-a8bf-70590f84ebd8</td>\n",
       "      <td>M</td>\n",
       "      <td>21</td>\n",
       "      <td>AP</td>\n",
       "    </tr>\n",
       "    <tr>\n",
       "      <th>71</th>\n",
       "      <td>03a9498c-549d-4e7d-800b-e74797f7f625</td>\n",
       "      <td>M</td>\n",
       "      <td>76</td>\n",
       "      <td>AP</td>\n",
       "    </tr>\n",
       "    <tr>\n",
       "      <th>70</th>\n",
       "      <td>03a9498c-549d-4e7d-800b-e74797f7f625</td>\n",
       "      <td>M</td>\n",
       "      <td>76</td>\n",
       "      <td>AP</td>\n",
       "    </tr>\n",
       "    <tr>\n",
       "      <th>74</th>\n",
       "      <td>03ae75b6-45a7-4a68-9871-f07b82b17bf6</td>\n",
       "      <td>M</td>\n",
       "      <td>53</td>\n",
       "      <td>PA</td>\n",
       "    </tr>\n",
       "    <tr>\n",
       "      <th>78</th>\n",
       "      <td>03e9a70f-3de8-4e13-b3f2-9dd6d75f496d</td>\n",
       "      <td>M</td>\n",
       "      <td>66</td>\n",
       "      <td>AP</td>\n",
       "    </tr>\n",
       "    <tr>\n",
       "      <th>83</th>\n",
       "      <td>040a0743-f663-4746-8224-f0e3bacc7ba5</td>\n",
       "      <td>M</td>\n",
       "      <td>56</td>\n",
       "      <td>AP</td>\n",
       "    </tr>\n",
       "    <tr>\n",
       "      <th>84</th>\n",
       "      <td>040a0743-f663-4746-8224-f0e3bacc7ba5</td>\n",
       "      <td>M</td>\n",
       "      <td>56</td>\n",
       "      <td>AP</td>\n",
       "    </tr>\n",
       "    <tr>\n",
       "      <th>96</th>\n",
       "      <td>05b970e1-b223-4c17-a6a8-3f78c43c5308</td>\n",
       "      <td>M</td>\n",
       "      <td>71</td>\n",
       "      <td>AP</td>\n",
       "    </tr>\n",
       "    <tr>\n",
       "      <th>102</th>\n",
       "      <td>05d3817a-5535-4e77-8dda-d4412e496c81</td>\n",
       "      <td>M</td>\n",
       "      <td>64</td>\n",
       "      <td>AP</td>\n",
       "    </tr>\n",
       "    <tr>\n",
       "      <th>104</th>\n",
       "      <td>05d4d725-02a2-4c90-8ef8-463217889ba8</td>\n",
       "      <td>M</td>\n",
       "      <td>31</td>\n",
       "      <td>AP</td>\n",
       "    </tr>\n",
       "    <tr>\n",
       "      <th>114</th>\n",
       "      <td>05fe7d73-5c8c-4349-88c4-2071a00d6d81</td>\n",
       "      <td>M</td>\n",
       "      <td>34</td>\n",
       "      <td>AP</td>\n",
       "    </tr>\n",
       "    <tr>\n",
       "      <th>116</th>\n",
       "      <td>06089341-a69b-4777-817b-041be894b436</td>\n",
       "      <td>M</td>\n",
       "      <td>25</td>\n",
       "      <td>AP</td>\n",
       "    </tr>\n",
       "    <tr>\n",
       "      <th>121</th>\n",
       "      <td>061664a4-6a23-4cb2-a0da-0c5712b6e0a6</td>\n",
       "      <td>M</td>\n",
       "      <td>62</td>\n",
       "      <td>AP</td>\n",
       "    </tr>\n",
       "    <tr>\n",
       "      <th>123</th>\n",
       "      <td>061bb9bf-13c6-4ea0-bd82-5768fb83dff8</td>\n",
       "      <td>M</td>\n",
       "      <td>22</td>\n",
       "      <td>AP</td>\n",
       "    </tr>\n",
       "    <tr>\n",
       "      <th>125</th>\n",
       "      <td>061d0ff4-a611-42ce-b780-1d1eb55e50ab</td>\n",
       "      <td>M</td>\n",
       "      <td>30</td>\n",
       "      <td>AP</td>\n",
       "    </tr>\n",
       "    <tr>\n",
       "      <th>129</th>\n",
       "      <td>06250f9d-5ad9-44ca-9283-dbf787e2ad22</td>\n",
       "      <td>M</td>\n",
       "      <td>40</td>\n",
       "      <td>AP</td>\n",
       "    </tr>\n",
       "    <tr>\n",
       "      <th>137</th>\n",
       "      <td>06420c87-02ee-4315-aa3a-63e911174435</td>\n",
       "      <td>M</td>\n",
       "      <td>47</td>\n",
       "      <td>AP</td>\n",
       "    </tr>\n",
       "    <tr>\n",
       "      <th>140</th>\n",
       "      <td>06550cfd-e9d5-415e-bae9-3146329ed9e6</td>\n",
       "      <td>M</td>\n",
       "      <td>18</td>\n",
       "      <td>AP</td>\n",
       "    </tr>\n",
       "    <tr>\n",
       "      <th>145</th>\n",
       "      <td>06634f15-9c78-47a1-97eb-f10f4c210765</td>\n",
       "      <td>M</td>\n",
       "      <td>59</td>\n",
       "      <td>AP</td>\n",
       "    </tr>\n",
       "    <tr>\n",
       "      <th>...</th>\n",
       "      <td>...</td>\n",
       "      <td>...</td>\n",
       "      <td>...</td>\n",
       "      <td>...</td>\n",
       "    </tr>\n",
       "    <tr>\n",
       "      <th>15077</th>\n",
       "      <td>f88e605a-a637-4df6-a153-5c51bb304a73</td>\n",
       "      <td>M</td>\n",
       "      <td>31</td>\n",
       "      <td>AP</td>\n",
       "    </tr>\n",
       "    <tr>\n",
       "      <th>15104</th>\n",
       "      <td>f919d3cb-dc68-46b6-8c29-2d3914fbaec0</td>\n",
       "      <td>M</td>\n",
       "      <td>46</td>\n",
       "      <td>AP</td>\n",
       "    </tr>\n",
       "    <tr>\n",
       "      <th>15110</th>\n",
       "      <td>f9230537-bb87-4de7-90f1-73bc730d4b3b</td>\n",
       "      <td>M</td>\n",
       "      <td>58</td>\n",
       "      <td>AP</td>\n",
       "    </tr>\n",
       "    <tr>\n",
       "      <th>15109</th>\n",
       "      <td>f9230537-bb87-4de7-90f1-73bc730d4b3b</td>\n",
       "      <td>M</td>\n",
       "      <td>58</td>\n",
       "      <td>AP</td>\n",
       "    </tr>\n",
       "    <tr>\n",
       "      <th>15112</th>\n",
       "      <td>f92793eb-6396-4597-ad39-2cc6e8eff84b</td>\n",
       "      <td>M</td>\n",
       "      <td>22</td>\n",
       "      <td>AP</td>\n",
       "    </tr>\n",
       "    <tr>\n",
       "      <th>15131</th>\n",
       "      <td>f966c01e-ee55-4544-a700-032f9d538a2b</td>\n",
       "      <td>M</td>\n",
       "      <td>62</td>\n",
       "      <td>PA</td>\n",
       "    </tr>\n",
       "    <tr>\n",
       "      <th>15149</th>\n",
       "      <td>f9a3c734-1483-4385-ab4f-e45853f3f00e</td>\n",
       "      <td>M</td>\n",
       "      <td>77</td>\n",
       "      <td>AP</td>\n",
       "    </tr>\n",
       "    <tr>\n",
       "      <th>15166</th>\n",
       "      <td>f9ccffe6-0f7b-43d7-9962-84888673fb57</td>\n",
       "      <td>M</td>\n",
       "      <td>49</td>\n",
       "      <td>AP</td>\n",
       "    </tr>\n",
       "    <tr>\n",
       "      <th>15188</th>\n",
       "      <td>fa2492de-0260-45e3-9491-a0eaed9658a0</td>\n",
       "      <td>M</td>\n",
       "      <td>40</td>\n",
       "      <td>AP</td>\n",
       "    </tr>\n",
       "    <tr>\n",
       "      <th>15196</th>\n",
       "      <td>fa493720-2b2a-456e-a8a8-6ba60e90fb8b</td>\n",
       "      <td>M</td>\n",
       "      <td>46</td>\n",
       "      <td>AP</td>\n",
       "    </tr>\n",
       "    <tr>\n",
       "      <th>15215</th>\n",
       "      <td>fa8ea2ce-097a-4e42-8f9b-c3d0603484f1</td>\n",
       "      <td>M</td>\n",
       "      <td>52</td>\n",
       "      <td>AP</td>\n",
       "    </tr>\n",
       "    <tr>\n",
       "      <th>15242</th>\n",
       "      <td>fb10f71b-fd9d-43cc-a310-c5b48b7d22c8</td>\n",
       "      <td>M</td>\n",
       "      <td>53</td>\n",
       "      <td>AP</td>\n",
       "    </tr>\n",
       "    <tr>\n",
       "      <th>15295</th>\n",
       "      <td>fbd80ae9-ddf4-414f-a6ab-77da639c33c1</td>\n",
       "      <td>M</td>\n",
       "      <td>31</td>\n",
       "      <td>AP</td>\n",
       "    </tr>\n",
       "    <tr>\n",
       "      <th>15299</th>\n",
       "      <td>fbde1e4d-650b-4ac5-8921-65510589656c</td>\n",
       "      <td>M</td>\n",
       "      <td>40</td>\n",
       "      <td>AP</td>\n",
       "    </tr>\n",
       "    <tr>\n",
       "      <th>15305</th>\n",
       "      <td>fbea2dbf-3828-4b0b-a8cf-e1a1e513851b</td>\n",
       "      <td>M</td>\n",
       "      <td>46</td>\n",
       "      <td>AP</td>\n",
       "    </tr>\n",
       "    <tr>\n",
       "      <th>15351</th>\n",
       "      <td>fc9c1884-617f-4a89-be08-0af7d6fc2cca</td>\n",
       "      <td>M</td>\n",
       "      <td>43</td>\n",
       "      <td>AP</td>\n",
       "    </tr>\n",
       "    <tr>\n",
       "      <th>15361</th>\n",
       "      <td>fcd159f4-21d3-4169-a94b-95a2b5ccddcb</td>\n",
       "      <td>M</td>\n",
       "      <td>34</td>\n",
       "      <td>AP</td>\n",
       "    </tr>\n",
       "    <tr>\n",
       "      <th>15377</th>\n",
       "      <td>fd147f16-7eeb-474f-98df-c3b0c39c163c</td>\n",
       "      <td>M</td>\n",
       "      <td>46</td>\n",
       "      <td>PA</td>\n",
       "    </tr>\n",
       "    <tr>\n",
       "      <th>15388</th>\n",
       "      <td>fd45f813-2237-4639-b340-2e1b97737da6</td>\n",
       "      <td>M</td>\n",
       "      <td>61</td>\n",
       "      <td>PA</td>\n",
       "    </tr>\n",
       "    <tr>\n",
       "      <th>15426</th>\n",
       "      <td>fdd20e4d-879e-4ff9-bc4e-8ec4184cfff9</td>\n",
       "      <td>M</td>\n",
       "      <td>43</td>\n",
       "      <td>AP</td>\n",
       "    </tr>\n",
       "    <tr>\n",
       "      <th>15446</th>\n",
       "      <td>fe16b6d8-add2-4d0d-b052-96b1986b67e0</td>\n",
       "      <td>M</td>\n",
       "      <td>40</td>\n",
       "      <td>AP</td>\n",
       "    </tr>\n",
       "    <tr>\n",
       "      <th>15448</th>\n",
       "      <td>fe230f92-780f-4918-a553-19c210bad853</td>\n",
       "      <td>M</td>\n",
       "      <td>59</td>\n",
       "      <td>AP</td>\n",
       "    </tr>\n",
       "    <tr>\n",
       "      <th>15470</th>\n",
       "      <td>fe79ab03-4727-45c9-9c42-813f2b34f111</td>\n",
       "      <td>M</td>\n",
       "      <td>37</td>\n",
       "      <td>AP</td>\n",
       "    </tr>\n",
       "    <tr>\n",
       "      <th>15486</th>\n",
       "      <td>fea6e37a-41c3-45ce-9b27-6f1bed1bc7f4</td>\n",
       "      <td>M</td>\n",
       "      <td>21</td>\n",
       "      <td>AP</td>\n",
       "    </tr>\n",
       "    <tr>\n",
       "      <th>15501</th>\n",
       "      <td>fee03015-e202-4e2e-b72e-2a72f0052fc6</td>\n",
       "      <td>M</td>\n",
       "      <td>61</td>\n",
       "      <td>AP</td>\n",
       "    </tr>\n",
       "    <tr>\n",
       "      <th>15527</th>\n",
       "      <td>ff3258f3-2c66-40cf-9d5d-fe77f8036fa6</td>\n",
       "      <td>M</td>\n",
       "      <td>46</td>\n",
       "      <td>AP</td>\n",
       "    </tr>\n",
       "    <tr>\n",
       "      <th>15531</th>\n",
       "      <td>ff33da14-0bd6-4fe4-9675-ef704bc33b84</td>\n",
       "      <td>M</td>\n",
       "      <td>28</td>\n",
       "      <td>AP</td>\n",
       "    </tr>\n",
       "    <tr>\n",
       "      <th>15573</th>\n",
       "      <td>ffa424d2-6e6b-4eed-93ab-7551e8941215</td>\n",
       "      <td>M</td>\n",
       "      <td>63</td>\n",
       "      <td>AP</td>\n",
       "    </tr>\n",
       "    <tr>\n",
       "      <th>15587</th>\n",
       "      <td>ffd787b6-59ca-48cb-bd15-bcedd52cf37c</td>\n",
       "      <td>M</td>\n",
       "      <td>33</td>\n",
       "      <td>AP</td>\n",
       "    </tr>\n",
       "    <tr>\n",
       "      <th>15599</th>\n",
       "      <td>fffb2395-8edd-4954-8a89-ffe2fd329be3</td>\n",
       "      <td>M</td>\n",
       "      <td>46</td>\n",
       "      <td>AP</td>\n",
       "    </tr>\n",
       "  </tbody>\n",
       "</table>\n",
       "<p>1763 rows × 4 columns</p>\n",
       "</div>"
      ],
      "text/plain": [
       "                                  patientId sex  age viewPosition\n",
       "5      00704310-78a8-4b38-8475-49f4573b2dbb   M   75           PA\n",
       "10     00f08de1-517e-4652-a04f-d1dc9ee48593   M   58           AP\n",
       "14     010ccb9f-6d46-4380-af11-84f87397a1b8   M   21           AP\n",
       "17     012a5620-d082-4bb8-9b3b-e72d8938000c   M   60           AP\n",
       "21     0174c4bb-28f5-41e3-a13f-a396badc18bd   M   23           AP\n",
       "28     01b9e362-4950-40f5-88fa-7557ac2a45bb   M   47           AP\n",
       "34     01cad8d0-45cd-4603-b099-94055d322310   M   42           AP\n",
       "47     02002619-3dea-4038-8d4d-458db30ed8de   M   60           AP\n",
       "49     020a16e3-baf9-4cf0-859c-c79b5253d717   M   61           AP\n",
       "58     0294b4aa-5614-4b33-80a4-2c31b639e5b3   M   38           AP\n",
       "61     02c34d5b-16e9-412e-a385-ccd8cbceae16   M   66           AP\n",
       "65     02ea6b76-4189-47c5-a8bf-70590f84ebd8   M   21           AP\n",
       "71     03a9498c-549d-4e7d-800b-e74797f7f625   M   76           AP\n",
       "70     03a9498c-549d-4e7d-800b-e74797f7f625   M   76           AP\n",
       "74     03ae75b6-45a7-4a68-9871-f07b82b17bf6   M   53           PA\n",
       "78     03e9a70f-3de8-4e13-b3f2-9dd6d75f496d   M   66           AP\n",
       "83     040a0743-f663-4746-8224-f0e3bacc7ba5   M   56           AP\n",
       "84     040a0743-f663-4746-8224-f0e3bacc7ba5   M   56           AP\n",
       "96     05b970e1-b223-4c17-a6a8-3f78c43c5308   M   71           AP\n",
       "102    05d3817a-5535-4e77-8dda-d4412e496c81   M   64           AP\n",
       "104    05d4d725-02a2-4c90-8ef8-463217889ba8   M   31           AP\n",
       "114    05fe7d73-5c8c-4349-88c4-2071a00d6d81   M   34           AP\n",
       "116    06089341-a69b-4777-817b-041be894b436   M   25           AP\n",
       "121    061664a4-6a23-4cb2-a0da-0c5712b6e0a6   M   62           AP\n",
       "123    061bb9bf-13c6-4ea0-bd82-5768fb83dff8   M   22           AP\n",
       "125    061d0ff4-a611-42ce-b780-1d1eb55e50ab   M   30           AP\n",
       "129    06250f9d-5ad9-44ca-9283-dbf787e2ad22   M   40           AP\n",
       "137    06420c87-02ee-4315-aa3a-63e911174435   M   47           AP\n",
       "140    06550cfd-e9d5-415e-bae9-3146329ed9e6   M   18           AP\n",
       "145    06634f15-9c78-47a1-97eb-f10f4c210765   M   59           AP\n",
       "...                                     ...  ..  ...          ...\n",
       "15077  f88e605a-a637-4df6-a153-5c51bb304a73   M   31           AP\n",
       "15104  f919d3cb-dc68-46b6-8c29-2d3914fbaec0   M   46           AP\n",
       "15110  f9230537-bb87-4de7-90f1-73bc730d4b3b   M   58           AP\n",
       "15109  f9230537-bb87-4de7-90f1-73bc730d4b3b   M   58           AP\n",
       "15112  f92793eb-6396-4597-ad39-2cc6e8eff84b   M   22           AP\n",
       "15131  f966c01e-ee55-4544-a700-032f9d538a2b   M   62           PA\n",
       "15149  f9a3c734-1483-4385-ab4f-e45853f3f00e   M   77           AP\n",
       "15166  f9ccffe6-0f7b-43d7-9962-84888673fb57   M   49           AP\n",
       "15188  fa2492de-0260-45e3-9491-a0eaed9658a0   M   40           AP\n",
       "15196  fa493720-2b2a-456e-a8a8-6ba60e90fb8b   M   46           AP\n",
       "15215  fa8ea2ce-097a-4e42-8f9b-c3d0603484f1   M   52           AP\n",
       "15242  fb10f71b-fd9d-43cc-a310-c5b48b7d22c8   M   53           AP\n",
       "15295  fbd80ae9-ddf4-414f-a6ab-77da639c33c1   M   31           AP\n",
       "15299  fbde1e4d-650b-4ac5-8921-65510589656c   M   40           AP\n",
       "15305  fbea2dbf-3828-4b0b-a8cf-e1a1e513851b   M   46           AP\n",
       "15351  fc9c1884-617f-4a89-be08-0af7d6fc2cca   M   43           AP\n",
       "15361  fcd159f4-21d3-4169-a94b-95a2b5ccddcb   M   34           AP\n",
       "15377  fd147f16-7eeb-474f-98df-c3b0c39c163c   M   46           PA\n",
       "15388  fd45f813-2237-4639-b340-2e1b97737da6   M   61           PA\n",
       "15426  fdd20e4d-879e-4ff9-bc4e-8ec4184cfff9   M   43           AP\n",
       "15446  fe16b6d8-add2-4d0d-b052-96b1986b67e0   M   40           AP\n",
       "15448  fe230f92-780f-4918-a553-19c210bad853   M   59           AP\n",
       "15470  fe79ab03-4727-45c9-9c42-813f2b34f111   M   37           AP\n",
       "15486  fea6e37a-41c3-45ce-9b27-6f1bed1bc7f4   M   21           AP\n",
       "15501  fee03015-e202-4e2e-b72e-2a72f0052fc6   M   61           AP\n",
       "15527  ff3258f3-2c66-40cf-9d5d-fe77f8036fa6   M   46           AP\n",
       "15531  ff33da14-0bd6-4fe4-9675-ef704bc33b84   M   28           AP\n",
       "15573  ffa424d2-6e6b-4eed-93ab-7551e8941215   M   63           AP\n",
       "15587  ffd787b6-59ca-48cb-bd15-bcedd52cf37c   M   33           AP\n",
       "15599  fffb2395-8edd-4954-8a89-ffe2fd329be3   M   46           AP\n",
       "\n",
       "[1763 rows x 4 columns]"
      ]
     },
     "execution_count": 44,
     "metadata": {},
     "output_type": "execute_result"
    }
   ],
   "source": [
    "testing_save[testing_save.duplicated()].sort_values('patientId')"
   ]
  },
  {
   "cell_type": "code",
   "execution_count": null,
   "metadata": {},
   "outputs": [],
   "source": []
  }
 ],
 "metadata": {
  "kernelspec": {
   "display_name": "Python 3",
   "language": "python",
   "name": "python3"
  },
  "language_info": {
   "codemirror_mode": {
    "name": "ipython",
    "version": 3
   },
   "file_extension": ".py",
   "mimetype": "text/x-python",
   "name": "python",
   "nbconvert_exporter": "python",
   "pygments_lexer": "ipython3",
   "version": "3.6.5"
  }
 },
 "nbformat": 4,
 "nbformat_minor": 2
}
