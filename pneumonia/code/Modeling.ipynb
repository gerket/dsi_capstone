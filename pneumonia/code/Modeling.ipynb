{
 "cells": [
  {
   "cell_type": "markdown",
   "metadata": {},
   "source": [
    "Modeling and testing grounds"
   ]
  },
  {
   "cell_type": "code",
   "execution_count": 2,
   "metadata": {},
   "outputs": [
    {
     "name": "stderr",
     "output_type": "stream",
     "text": [
      "Using TensorFlow backend.\n"
     ]
    }
   ],
   "source": [
    "import glob, pylab, pandas as pd\n",
    "import pydicom, numpy as np\n",
    "\n",
    "from sklearn.model_selection import train_test_split\n",
    "from sklearn.preprocessing import StandardScaler\n",
    "import matplotlib.pyplot as plt\n",
    "\n",
    "%matplotlib inline\n",
    "%config InlineBackend.figure_format = 'retina'\n",
    "\n",
    "from keras.models import Sequential\n",
    "from keras.layers import Dense, Dropout, Activation, Flatten, Conv2D, MaxPooling2D\n",
    "from keras.utils import to_categorical\n",
    "from keras.models import load_model\n",
    "\n",
    "from numpy.random import seed\n",
    "from tensorflow import set_random_seed\n",
    "\n",
    "from skimage.transform import resize\n",
    "\n",
    "import datetime\n",
    "from tqdm import tqdm_notebook\n",
    "import pickle"
   ]
  },
  {
   "cell_type": "code",
   "execution_count": 3,
   "metadata": {},
   "outputs": [],
   "source": [
    "seed(42)\n",
    "set_random_seed(42)"
   ]
  },
  {
   "cell_type": "code",
   "execution_count": null,
   "metadata": {},
   "outputs": [],
   "source": []
  },
  {
   "cell_type": "markdown",
   "metadata": {},
   "source": [
    "## Modeling and Evaluation Functions\n",
    "\n",
    "Writing multiple functions to facilitate creating different datasets, modeling over different datasets and/or different hyperparameters, and evaluating the different models using graphs\n",
    "\n",
    "\n"
   ]
  },
  {
   "cell_type": "code",
   "execution_count": 4,
   "metadata": {
    "code_folding": [
     0
    ]
   },
   "outputs": [],
   "source": [
    "class PnemoniaTargetMapIsWeird(AssertionError):\n",
    "    \"\"\"Raise this when the target is not mapped to 2 or 3 outputs\"\"\"\n",
    "    pass"
   ]
  },
  {
   "cell_type": "code",
   "execution_count": 5,
   "metadata": {
    "code_folding": [
     0
    ]
   },
   "outputs": [],
   "source": [
    "def create_pic_df(data, df_detailed, image_size = (128,128)):\n",
    "    \n",
    "    print('---Enter DataFrame Construction Function---')\n",
    "    \n",
    "    ## Data Prep\n",
    "    # Need to define df_detailed somewhere\n",
    "    data.drop_duplicates(inplace=True)\n",
    "    merged_df = df_detailed.merge(data, on='patientId')\n",
    "    \n",
    "    print('---Create Pixel Array Labels---')\n",
    "    \n",
    "    # Create the column labels for the pixel arrays\n",
    "    pixel_labels = []\n",
    "    for i in range(image_size[0] * image_size[1]):\n",
    "        pixel_labels.append(\"pixel\"+str(i))\n",
    "    \n",
    "    print('---Create Total Pixel Array---')\n",
    "    \n",
    "    # Create the total pixel array\n",
    "    huge_pixel_array = []\n",
    "    for o in tqdm_notebook(range(merged_df.shape[0])):\n",
    "        # Get the image data\n",
    "        patientId = merged_df.iloc[o]['patientId']\n",
    "        dcm_file = '../data/stage_1_train_images/%s.dcm' % patientId\n",
    "        dcm_data = pydicom.read_file(dcm_file)\n",
    "        im = dcm_data.pixel_array\n",
    "\n",
    "        # Convert the image into a 1d array of pixels\n",
    "        curr_pixel_array = []\n",
    "        for i in resize(im, image_size): \n",
    "            curr_pixel_array.extend(i)\n",
    "        huge_pixel_array.append(curr_pixel_array)\n",
    "\n",
    "    print('---Create Dataframe---')\n",
    "        \n",
    "    # Creating the DataFrame\n",
    "    temp = pd.DataFrame(data = huge_pixel_array, columns = pixel_labels)\n",
    "    temp['class'] = merged_df['class']\n",
    "    return temp"
   ]
  },
  {
   "cell_type": "code",
   "execution_count": 21,
   "metadata": {},
   "outputs": [],
   "source": [
    "def model(data, model_name = \"default_model_name\", image_size = (128,128), y_map = {\n",
    "    \"Lung Opacity\":1,\n",
    "    \"No Lung Opacity / Not Normal\":0,\n",
    "    \"Normal\":2\n",
    "}, EPOCHS = 20, train_size = 0.75, metrics = ['accuracy'], BATCH_SIZE = 10 ):\n",
    "    \"\"\"\n",
    "    Args:\n",
    "        data (Pandas DataFrame): cols=['class', all of the pixel data]\n",
    "        \n",
    "        model_name (str): The name with which to save the model\n",
    "        \n",
    "        image_size (touple: (int,int)): The width and height in pixels to scale the images. Max 1024x1024. This might be more finickey that I would've thought.\n",
    "        \n",
    "        y_map (dict): A dictionary mapping the target values to integers (0-?)\n",
    "        \n",
    "    Returns:\n",
    "        Keras Model fit on the data.\n",
    "        Saves the model to ../data/models/model_name datetime.h5\n",
    "    \"\"\"\n",
    "    print('---Enter Function---')\n",
    "    \n",
    "    seed(42)\n",
    "    set_random_seed(42)\n",
    "\n",
    "    # Create target\n",
    "    y = data['class']\n",
    "    y = y.map(lambda x: y_map[x])\n",
    "    \n",
    "    # Train Test Split\n",
    "    X_train, X_test, y_train, y_test = train_test_split(data.drop(columns='class'), y, \n",
    "                                                        stratify=y, random_state=42, train_size = train_size)\n",
    "    \n",
    "    # Transform target into arrays of integers\n",
    "    y_train_c = to_categorical(y_train)\n",
    "    y_test_c = to_categorical(y_test)\n",
    "    \n",
    "    # Reshape the X_train and X_test \n",
    "    X_train_re = X_train.values.reshape(X_train.shape[0], image_size[0], image_size[1], 1)\n",
    "    X_test_re = X_test.values.reshape(X_test.shape[0], image_size[0], image_size[1], 1)\n",
    "    \n",
    "    print('---Modeling---')\n",
    "    \n",
    "    ## Modeling\n",
    "    # Initialize Model\n",
    "    model_convolutional = Sequential()\n",
    "\n",
    "    # First Conv / Pool \n",
    "    model_convolutional.add(Conv2D(filters = 12, #6\n",
    "                                   kernel_size = 3,\n",
    "                                   activation = 'relu',\n",
    "                                   input_shape = (image_size[0], image_size[1], 1)\n",
    "                                  ))\n",
    "    model_convolutional.add(MaxPooling2D(pool_size=(2,2)))\n",
    "\n",
    "    # Second Conv/ Pool\n",
    "    model_convolutional.add(Conv2D(filters=16, kernel_size=3, \n",
    "                                   activation='relu'))\n",
    "    model_convolutional.add(MaxPooling2D(pool_size=(2,2)))\n",
    "\n",
    "    # Flatten\n",
    "    model_convolutional.add(Dropout(0.8))\n",
    "    model_convolutional.add(Flatten())\n",
    "\n",
    "    # Densely Connected Layers\n",
    "    model_convolutional.add(Dense(300, activation='relu')) #512\n",
    "    model_convolutional.add(Dropout(0.4)) #0.5\n",
    "    model_convolutional.add(Dense(80, activation='relu')) #128\n",
    "    model_convolutional.add(Dropout(0.4))#0.5\n",
    "    \n",
    "    # Output Layer\n",
    "    if len(set(y_map.values())) == 3:\n",
    "        model_convolutional.add(Dense(3, activation='softmax'))\n",
    "    elif len(set(y_map.values())) == 2:\n",
    "        model_convolutional.add(Dense(2, activation='softmax'))\n",
    "    else:\n",
    "        raise PnemoniaTargetMapIsWeird(\"target is not mapped to 2 or 3 outputs\")\n",
    "\n",
    "\n",
    "    model_convolutional.compile(loss = 'categorical_crossentropy', \n",
    "                            optimizer = 'adam', \n",
    "                            metrics = metrics)\n",
    "    \n",
    "    # Train Model\n",
    "    trained_convolutional = model_convolutional.fit(X_train_re,\n",
    "                        y_train_c,\n",
    "                        batch_size = BATCH_SIZE,\n",
    "                        epochs = EPOCHS,\n",
    "                        verbose = 1,\n",
    "                        validation_data = (X_test_re, y_test_c)\n",
    "                       )\n",
    "\n",
    "\n",
    "    file_name = '../data/models/' + model_name + ' ' + str(datetime.datetime.now()) \n",
    "\n",
    "    # Save Model        \n",
    "    try:\n",
    "        model_file_name = file_name + '_model.h5'\n",
    "        model_convolutional.save(model_file_name)\n",
    "        print('Model saved as: ' + model_file_name)\n",
    "        \n",
    "    except Exception as e:\n",
    "        print('+++++Model did not save++++++')\n",
    "        print(e)\n",
    "        \n",
    "    # Save History\n",
    "    try:\n",
    "        history_file_name = file_name + '_history.pk'\n",
    "        pickle_file = open(history_file_name, 'wb')\n",
    "        pickle.dump(trained_convolutional, pickle_file) \n",
    "        pickle_file.close()\n",
    "        print('History saved as: ' + history_file_name)\n",
    "        \n",
    "    except Exception as e:\n",
    "        print('+++++History did not save++++++')\n",
    "        print(e)\n",
    "        \n",
    "        \n",
    "    return trained_convolutional, model_convolutional, model_name, model_file_name, history_file_name\n",
    "\n"
   ]
  },
  {
   "cell_type": "code",
   "execution_count": 7,
   "metadata": {
    "code_folding": []
   },
   "outputs": [],
   "source": [
    "# Function that displays pertinant information regarding the quality of the model\n",
    "\n",
    "def evaluate_model (model, model_name = 'default', size=6):\n",
    "    \n",
    "    \"\"\"\n",
    "    Args:\n",
    "        model: A trained model with \n",
    "        \n",
    "    Output:\n",
    "        Returns nothing. Prints out - plots comparing test set with training set on \n",
    "        each of the metrics (minimum: loss).\n",
    "    \n",
    "    \"\"\"\n",
    "    \n",
    "    # checking out the different classes in the testing case and predictions\n",
    "    \n",
    "    # confusion matrix?\n",
    "    \n",
    "    keys=[]\n",
    "    for i in model.history.keys():\n",
    "        if i[0:3] != 'val':\n",
    "            keys.append(i)\n",
    "    \n",
    "    fig, ax = plt.subplots(len(keys), 1, figsize = (size, size*len(keys))) \n",
    "    fig.suptitle('Model: ' + model_name, fontsize=16)\n",
    "    \n",
    "    index = 0\n",
    "    for i in keys:\n",
    "        # Plot of the Loss for the train and testingsets\n",
    "        ax[index].plot(model.history[i], label=i.capitalize())\n",
    "        ax[index].plot(model.history['val_'+i], label='Val '+i.capitalize())\n",
    "        ax[index].legend()\n",
    "        ax[index].set_title(i.capitalize())\n",
    "        index+=1\n"
   ]
  },
  {
   "cell_type": "code",
   "execution_count": null,
   "metadata": {},
   "outputs": [],
   "source": []
  },
  {
   "cell_type": "code",
   "execution_count": null,
   "metadata": {},
   "outputs": [],
   "source": []
  },
  {
   "cell_type": "markdown",
   "metadata": {},
   "source": [
    "## Initial Variables"
   ]
  },
  {
   "cell_type": "code",
   "execution_count": 8,
   "metadata": {
    "code_folding": []
   },
   "outputs": [],
   "source": [
    "# Lung Opacity == Pneumonia\n",
    "y_map_3 = { # Normal, Pneumonia, or not normal but not pneumonia\n",
    "    \"Lung Opacity\":1,\n",
    "    \"No Lung Opacity / Not Normal\":0,\n",
    "    \"Normal\":2\n",
    "}\n",
    "\n",
    "y_map_2 = { # Either Pneumonia or Not Pneumonia\n",
    "    \"Lung Opacity\":1,\n",
    "    \"No Lung Opacity / Not Normal\":0,\n",
    "    \"Normal\":0\n",
    "}\n",
    "\n",
    "adult_data = pd.read_csv('../data/adult_patient_data.csv')\n",
    "df_detailed = pd.read_csv('../data/stage_1_detailed_class_info.csv')\n"
   ]
  },
  {
   "cell_type": "code",
   "execution_count": 9,
   "metadata": {},
   "outputs": [],
   "source": [
    "models = {}"
   ]
  },
  {
   "cell_type": "markdown",
   "metadata": {
    "heading_collapsed": true
   },
   "source": [
    "## Some Initial Modeling"
   ]
  },
  {
   "cell_type": "code",
   "execution_count": null,
   "metadata": {
    "hidden": true
   },
   "outputs": [],
   "source": [
    "# Current Parameters\n",
    "options = 3\n",
    "\n",
    "\n",
    "NUM_IMAGES = 6000 #pic_df.shape[0]\n",
    "EPOCHS = 20\n",
    "IMAGE_SIZE = (128,128)\n",
    "TRAIN_SIZE = 0.8\n",
    "METRICS = ['accuracy']\n",
    "\n",
    "if options == 2:\n",
    "    CURR_MAP = y_map_2\n",
    "    model_name = 'adult_data_2_options'\n",
    "elif options == 3:\n",
    "    CURR_MAP = y_map_3\n",
    "    model_name = 'adult_data_3_options'\n",
    "else:\n",
    "    raise PnemoniaTargetMapIsWeird('Set \"option\" to 2 or 3')\n"
   ]
  },
  {
   "cell_type": "code",
   "execution_count": null,
   "metadata": {
    "code_folding": [],
    "hidden": true
   },
   "outputs": [],
   "source": [
    "%%time\n",
    "\n",
    "pic_df = create_pic_df(adult_data, df_detailed=df_detailed, image_size=IMAGE_SIZE)"
   ]
  },
  {
   "cell_type": "code",
   "execution_count": null,
   "metadata": {
    "hidden": true,
    "scrolled": true
   },
   "outputs": [],
   "source": [
    "%%time\n",
    "\n",
    "\n",
    "\n",
    "test_model_history, test_model_real, most_recent_model_name = model(pic_df.head(NUM_IMAGES), model_name = model_name, image_size=IMAGE_SIZE, y_map=CURR_MAP, EPOCHS=EPOCHS, train_size = TRAIN_SIZE, metrics = METRICS)\n",
    "\n"
   ]
  },
  {
   "cell_type": "code",
   "execution_count": null,
   "metadata": {
    "code_folding": [],
    "hidden": true
   },
   "outputs": [],
   "source": [
    "models[most_recent_model_name] = {\n",
    "    'NUM_IMAGES':NUM_IMAGES,\n",
    "    'history':test_model_history,\n",
    "    'EPOCHS':EPOCHS,\n",
    "    'IMAGE_SIZE':IMAGE_SIZE,\n",
    "    'Y_MAP':CURR_MAP,\n",
    "    'TRAIN_SIZE':TRAIN_SIZE,\n",
    "    'accuracy_scores':{\n",
    "        'train':test_model_history.history['acc'][-1],\n",
    "        'test':test_model_history.history['val_acc'][-1]\n",
    "    }\n",
    "}\n",
    "\n",
    "# Save the list of models and parameters \n",
    "model_pickle_file_name = 'models.pk'\n",
    "file_object = open(model_pickle_file_name,'wb')\n",
    "pickle.dump(models, file_object)\n",
    "file_object.close()\n"
   ]
  },
  {
   "cell_type": "code",
   "execution_count": null,
   "metadata": {
    "hidden": true,
    "scrolled": false
   },
   "outputs": [],
   "source": [
    "graph_size = 6\n",
    "evaluate_model(test_model_history, most_recent_model_name, size=graph_size)\n"
   ]
  },
  {
   "cell_type": "code",
   "execution_count": null,
   "metadata": {
    "hidden": true
   },
   "outputs": [],
   "source": [
    "# This shows the different levels in my NN\n",
    "test_model_history.model.get_config()"
   ]
  },
  {
   "cell_type": "code",
   "execution_count": null,
   "metadata": {
    "hidden": true
   },
   "outputs": [],
   "source": [
    "models[most_recent_model_name]['history'].model.predict(pic_df.drop(columns='class').iloc[1,:].values)"
   ]
  },
  {
   "cell_type": "code",
   "execution_count": null,
   "metadata": {
    "hidden": true
   },
   "outputs": [],
   "source": []
  },
  {
   "cell_type": "markdown",
   "metadata": {
    "heading_collapsed": true
   },
   "source": [
    "## Predicting\n",
    "Creating predictions and getting useful, interpretable results from the models."
   ]
  },
  {
   "cell_type": "code",
   "execution_count": null,
   "metadata": {
    "hidden": true
   },
   "outputs": [],
   "source": [
    "%%time\n",
    "\n",
    "# Predicting on the images\n",
    "X = pic_df.drop(columns='class')\n",
    "pred_x = X.values.reshape(X.shape[0], IMAGE_SIZE[0], IMAGE_SIZE[1], 1)\n",
    "preds = test_model_real.predict(pred_x)"
   ]
  },
  {
   "cell_type": "code",
   "execution_count": null,
   "metadata": {
    "hidden": true
   },
   "outputs": [],
   "source": [
    "# Converting the target values to the \n",
    "y_real = pic_df['class']\n",
    "y_real = y_real.map(lambda x: CURR_MAP[x])"
   ]
  },
  {
   "cell_type": "code",
   "execution_count": null,
   "metadata": {
    "hidden": true
   },
   "outputs": [],
   "source": [
    "#preds = pd.DataFrame(data=preds, columns=[])\n",
    "new_preds = []\n",
    "for i in range(len(preds)):\n",
    "     new_preds.append(preds[i].argmax())\n",
    "print(new_preds[0:20])"
   ]
  },
  {
   "cell_type": "code",
   "execution_count": null,
   "metadata": {
    "hidden": true
   },
   "outputs": [],
   "source": [
    "# Print out the actual values against their predicted values\n",
    "index = 0\n",
    "for i in zip(y_real, new_preds):\n",
    "    print(i)\n",
    "    index+=1\n",
    "    if index > 20:\n",
    "        break"
   ]
  },
  {
   "cell_type": "markdown",
   "metadata": {},
   "source": [
    "## End Predicting"
   ]
  },
  {
   "cell_type": "code",
   "execution_count": null,
   "metadata": {},
   "outputs": [],
   "source": []
  },
  {
   "cell_type": "code",
   "execution_count": null,
   "metadata": {},
   "outputs": [],
   "source": []
  },
  {
   "cell_type": "code",
   "execution_count": 10,
   "metadata": {
    "scrolled": false
   },
   "outputs": [
    {
     "data": {
      "text/plain": [
       "{}"
      ]
     },
     "metadata": {},
     "output_type": "display_data"
    }
   ],
   "source": [
    "display(models)"
   ]
  },
  {
   "cell_type": "code",
   "execution_count": null,
   "metadata": {},
   "outputs": [],
   "source": [
    "# Loading in the list of models/parameters\n",
    "\n",
    "model_pickle_file_name = 'models.pk'\n",
    "file_object = open(model_pickle_file_name,'rb')\n",
    "\n",
    "models = pickle.load(file_object)\n",
    "file_object.close()\n",
    "\n",
    "display(models)"
   ]
  },
  {
   "cell_type": "markdown",
   "metadata": {},
   "source": [
    "# What am I trying to do now?\n",
    "- start changing models around potentially using \n",
    "    - Stochastic gradient descent\n",
    "    - [R-CNN (or a different iteration)](https://heartbeat.fritz.ai/the-5-computer-vision-techniques-that-will-change-how-you-see-the-world-1ee19334354b)\n",
    "    - [SpatialDropout2D](https://keras.io/layers/core/#spatialdropout2d)\n"
   ]
  },
  {
   "cell_type": "code",
   "execution_count": null,
   "metadata": {},
   "outputs": [],
   "source": []
  },
  {
   "cell_type": "code",
   "execution_count": null,
   "metadata": {},
   "outputs": [],
   "source": []
  },
  {
   "cell_type": "code",
   "execution_count": 20,
   "metadata": {},
   "outputs": [
    {
     "data": {
      "text/plain": [
       "No Lung Opacity / Not Normal    11500\n",
       "Lung Opacity                     8964\n",
       "Normal                           8525\n",
       "Name: class, dtype: int64"
      ]
     },
     "execution_count": 20,
     "metadata": {},
     "output_type": "execute_result"
    }
   ],
   "source": [
    "df_detailed['class'].value_counts()"
   ]
  },
  {
   "cell_type": "markdown",
   "metadata": {},
   "source": [
    "## Modeling over full adult set for 80 epochs"
   ]
  },
  {
   "cell_type": "code",
   "execution_count": 22,
   "metadata": {},
   "outputs": [],
   "source": [
    "# Current Parameters\n",
    "options = 3\n",
    "\n",
    "\n",
    "NUM_IMAGES = adult_data.shape[0]\n",
    "EPOCHS = 80\n",
    "IMAGE_SIZE = (64,64)\n",
    "TRAIN_SIZE = 0.8\n",
    "METRICS = ['accuracy']\n",
    "BATCH_SIZE = 10\n",
    "\n",
    "if options == 2:\n",
    "    CURR_MAP = y_map_2\n",
    "    model_name = 'adult_data_2_options'\n",
    "elif options == 3:\n",
    "    CURR_MAP = y_map_3\n",
    "    model_name = 'adult_data_3_options'\n",
    "else:\n",
    "    raise PnemoniaTargetMapIsWeird('Set \"option\" to 2 or 3')\n"
   ]
  },
  {
   "cell_type": "code",
   "execution_count": 12,
   "metadata": {
    "code_folding": []
   },
   "outputs": [
    {
     "name": "stdout",
     "output_type": "stream",
     "text": [
      "---Enter DataFrame Construction Function---\n",
      "---Create Pixel Array Labels---\n",
      "---Create Total Pixel Array---\n"
     ]
    },
    {
     "data": {
      "application/vnd.jupyter.widget-view+json": {
       "model_id": "f31638b05fd9405aa9e25f681baba093",
       "version_major": 2,
       "version_minor": 0
      },
      "text/plain": [
       "HBox(children=(IntProgress(value=0, max=27537), HTML(value='')))"
      ]
     },
     "metadata": {},
     "output_type": "display_data"
    },
    {
     "name": "stderr",
     "output_type": "stream",
     "text": [
      "/home/ec2-user/anaconda3/envs/py36/lib/python3.6/site-packages/skimage/transform/_warps.py:105: UserWarning: The default mode, 'constant', will be changed to 'reflect' in skimage 0.15.\n",
      "  warn(\"The default mode, 'constant', will be changed to 'reflect' in \"\n",
      "/home/ec2-user/anaconda3/envs/py36/lib/python3.6/site-packages/skimage/transform/_warps.py:110: UserWarning: Anti-aliasing will be enabled by default in skimage 0.15 to avoid aliasing artifacts when down-sampling images.\n",
      "  warn(\"Anti-aliasing will be enabled by default in skimage 0.15 to \"\n"
     ]
    },
    {
     "name": "stdout",
     "output_type": "stream",
     "text": [
      "\n",
      "---Create Dataframe---\n",
      "CPU times: user 6min 46s, sys: 7.97 s, total: 6min 54s\n",
      "Wall time: 7min 24s\n"
     ]
    }
   ],
   "source": [
    "%%time\n",
    "\n",
    "pic_df = create_pic_df(adult_data, df_detailed=df_detailed, image_size=IMAGE_SIZE)"
   ]
  },
  {
   "cell_type": "code",
   "execution_count": null,
   "metadata": {},
   "outputs": [],
   "source": []
  },
  {
   "cell_type": "code",
   "execution_count": 23,
   "metadata": {
    "scrolled": true
   },
   "outputs": [
    {
     "name": "stdout",
     "output_type": "stream",
     "text": [
      "---Enter Function---\n"
     ]
    },
    {
     "name": "stderr",
     "output_type": "stream",
     "text": [
      "/home/ec2-user/anaconda3/envs/py36/lib/python3.6/site-packages/sklearn/model_selection/_split.py:2026: FutureWarning: From version 0.21, test_size will always complement train_size unless both are specified.\n",
      "  FutureWarning)\n"
     ]
    },
    {
     "name": "stdout",
     "output_type": "stream",
     "text": [
      "---Modeling---\n",
      "Train on 19556 samples, validate on 4889 samples\n",
      "Epoch 1/80\n",
      "19556/19556 [==============================] - 46s 2ms/step - loss: 0.9492 - acc: 0.5136 - val_loss: 0.8701 - val_acc: 0.5727\n",
      "Epoch 2/80\n",
      "19556/19556 [==============================] - 45s 2ms/step - loss: 0.8972 - acc: 0.5560 - val_loss: 0.8758 - val_acc: 0.5764\n",
      "Epoch 3/80\n",
      "19556/19556 [==============================] - 46s 2ms/step - loss: 0.8830 - acc: 0.5676 - val_loss: 0.8451 - val_acc: 0.5844\n",
      "Epoch 4/80\n",
      "19556/19556 [==============================] - 45s 2ms/step - loss: 0.8675 - acc: 0.5805 - val_loss: 0.8385 - val_acc: 0.5971\n",
      "Epoch 5/80\n",
      "19556/19556 [==============================] - 45s 2ms/step - loss: 0.8561 - acc: 0.5859 - val_loss: 0.8225 - val_acc: 0.6022\n",
      "Epoch 6/80\n",
      "19556/19556 [==============================] - 45s 2ms/step - loss: 0.8510 - acc: 0.5912 - val_loss: 0.8052 - val_acc: 0.6179\n",
      "Epoch 7/80\n",
      "19556/19556 [==============================] - 45s 2ms/step - loss: 0.8454 - acc: 0.5934 - val_loss: 0.8031 - val_acc: 0.6196\n",
      "Epoch 8/80\n",
      "19556/19556 [==============================] - 45s 2ms/step - loss: 0.8420 - acc: 0.5937 - val_loss: 0.8161 - val_acc: 0.6148\n",
      "Epoch 9/80\n",
      "19556/19556 [==============================] - 45s 2ms/step - loss: 0.8366 - acc: 0.6001 - val_loss: 0.8128 - val_acc: 0.6028\n",
      "Epoch 10/80\n",
      "19556/19556 [==============================] - 45s 2ms/step - loss: 0.8318 - acc: 0.6020 - val_loss: 0.7869 - val_acc: 0.6214\n",
      "Epoch 11/80\n",
      "19556/19556 [==============================] - 45s 2ms/step - loss: 0.8267 - acc: 0.6023 - val_loss: 0.7921 - val_acc: 0.6261\n",
      "Epoch 12/80\n",
      "19556/19556 [==============================] - 45s 2ms/step - loss: 0.8245 - acc: 0.6059 - val_loss: 0.7955 - val_acc: 0.6191\n",
      "Epoch 13/80\n",
      "19556/19556 [==============================] - 44s 2ms/step - loss: 0.8272 - acc: 0.6010 - val_loss: 0.7807 - val_acc: 0.6247\n",
      "Epoch 14/80\n",
      "19556/19556 [==============================] - 45s 2ms/step - loss: 0.8227 - acc: 0.6057 - val_loss: 0.7997 - val_acc: 0.6234\n",
      "Epoch 15/80\n",
      "19556/19556 [==============================] - 45s 2ms/step - loss: 0.8213 - acc: 0.6062 - val_loss: 0.7922 - val_acc: 0.6183\n",
      "Epoch 16/80\n",
      "19556/19556 [==============================] - 46s 2ms/step - loss: 0.8183 - acc: 0.6088 - val_loss: 0.7903 - val_acc: 0.6292\n",
      "Epoch 17/80\n",
      "19556/19556 [==============================] - 45s 2ms/step - loss: 0.8171 - acc: 0.6100 - val_loss: 0.7748 - val_acc: 0.6382\n",
      "Epoch 18/80\n",
      "19556/19556 [==============================] - 45s 2ms/step - loss: 0.8119 - acc: 0.6158 - val_loss: 0.7799 - val_acc: 0.6249\n",
      "Epoch 19/80\n",
      "19556/19556 [==============================] - 45s 2ms/step - loss: 0.8106 - acc: 0.6116 - val_loss: 0.7651 - val_acc: 0.6363\n",
      "Epoch 20/80\n",
      "19556/19556 [==============================] - 45s 2ms/step - loss: 0.8142 - acc: 0.6134 - val_loss: 0.7727 - val_acc: 0.6281\n",
      "Epoch 21/80\n",
      "19556/19556 [==============================] - 45s 2ms/step - loss: 0.8067 - acc: 0.6143 - val_loss: 0.7890 - val_acc: 0.6322\n",
      "Epoch 22/80\n",
      "19556/19556 [==============================] - 45s 2ms/step - loss: 0.8044 - acc: 0.6220 - val_loss: 0.7685 - val_acc: 0.6308\n",
      "Epoch 23/80\n",
      "19556/19556 [==============================] - 45s 2ms/step - loss: 0.8068 - acc: 0.6204 - val_loss: 0.7748 - val_acc: 0.6408\n",
      "Epoch 24/80\n",
      "19556/19556 [==============================] - 45s 2ms/step - loss: 0.8101 - acc: 0.6163 - val_loss: 0.7820 - val_acc: 0.6359\n",
      "Epoch 25/80\n",
      "19556/19556 [==============================] - 45s 2ms/step - loss: 0.8039 - acc: 0.6174 - val_loss: 0.7623 - val_acc: 0.6388\n",
      "Epoch 26/80\n",
      "19556/19556 [==============================] - 45s 2ms/step - loss: 0.8045 - acc: 0.6205 - val_loss: 0.7699 - val_acc: 0.6378\n",
      "Epoch 27/80\n",
      "19556/19556 [==============================] - 45s 2ms/step - loss: 0.8052 - acc: 0.6149 - val_loss: 0.7778 - val_acc: 0.6335\n",
      "Epoch 28/80\n",
      "19556/19556 [==============================] - 45s 2ms/step - loss: 0.7974 - acc: 0.6203 - val_loss: 0.7740 - val_acc: 0.6361\n",
      "Epoch 29/80\n",
      "19556/19556 [==============================] - 45s 2ms/step - loss: 0.8048 - acc: 0.6184 - val_loss: 0.7877 - val_acc: 0.6357\n",
      "Epoch 30/80\n",
      "19556/19556 [==============================] - 45s 2ms/step - loss: 0.7972 - acc: 0.6281 - val_loss: 0.7657 - val_acc: 0.6410\n",
      "Epoch 31/80\n",
      "19556/19556 [==============================] - 44s 2ms/step - loss: 0.7993 - acc: 0.6228 - val_loss: 0.7823 - val_acc: 0.6404\n",
      "Epoch 32/80\n",
      "19556/19556 [==============================] - 45s 2ms/step - loss: 0.7979 - acc: 0.6226 - val_loss: 0.7699 - val_acc: 0.6402\n",
      "Epoch 33/80\n",
      "19556/19556 [==============================] - 45s 2ms/step - loss: 0.8033 - acc: 0.6221 - val_loss: 0.7569 - val_acc: 0.6433\n",
      "Epoch 34/80\n",
      "19556/19556 [==============================] - 45s 2ms/step - loss: 0.7969 - acc: 0.6253 - val_loss: 0.7628 - val_acc: 0.6339\n",
      "Epoch 35/80\n",
      "19556/19556 [==============================] - 45s 2ms/step - loss: 0.7945 - acc: 0.6242 - val_loss: 0.7813 - val_acc: 0.6286\n",
      "Epoch 36/80\n",
      "19556/19556 [==============================] - 44s 2ms/step - loss: 0.7981 - acc: 0.6240 - val_loss: 0.7669 - val_acc: 0.6382\n",
      "Epoch 37/80\n",
      "19556/19556 [==============================] - 45s 2ms/step - loss: 0.7944 - acc: 0.6243 - val_loss: 0.7854 - val_acc: 0.6292\n",
      "Epoch 40/80\n",
      "19556/19556 [==============================] - 45s 2ms/step - loss: 0.7944 - acc: 0.6267 - val_loss: 0.7899 - val_acc: 0.6214\n",
      "Epoch 41/80\n",
      "19556/19556 [==============================] - 46s 2ms/step - loss: 0.7921 - acc: 0.6288 - val_loss: 0.7745 - val_acc: 0.6351\n",
      "Epoch 42/80\n",
      "19556/19556 [==============================] - 45s 2ms/step - loss: 0.7921 - acc: 0.6258 - val_loss: 0.7661 - val_acc: 0.6449\n",
      "Epoch 43/80\n",
      "19556/19556 [==============================] - 45s 2ms/step - loss: 0.7891 - acc: 0.6272 - val_loss: 0.7623 - val_acc: 0.6421\n",
      "Epoch 44/80\n",
      " 5760/19556 [=======>......................] - ETA: 29s - loss: 0.7825 - acc: 0.6283"
     ]
    },
    {
     "name": "stderr",
     "output_type": "stream",
     "text": [
      "IOPub message rate exceeded.\n",
      "The notebook server will temporarily stop sending output\n",
      "to the client in order to avoid crashing it.\n",
      "To change this limit, set the config variable\n",
      "`--NotebookApp.iopub_msg_rate_limit`.\n",
      "\n",
      "Current values:\n",
      "NotebookApp.iopub_msg_rate_limit=1000.0 (msgs/sec)\n",
      "NotebookApp.rate_limit_window=3.0 (secs)\n",
      "\n"
     ]
    },
    {
     "name": "stdout",
     "output_type": "stream",
     "text": [
      "19556/19556 [==============================] - 45s 2ms/step - loss: 0.7795 - acc: 0.6344 - val_loss: 0.7934 - val_acc: 0.6222\n",
      "Epoch 53/80\n",
      "19556/19556 [==============================] - 45s 2ms/step - loss: 0.7814 - acc: 0.6357 - val_loss: 0.7604 - val_acc: 0.6474\n",
      "Epoch 54/80\n",
      "19556/19556 [==============================] - 45s 2ms/step - loss: 0.7815 - acc: 0.6333 - val_loss: 0.7656 - val_acc: 0.6521\n",
      "Epoch 55/80\n",
      "19556/19556 [==============================] - 44s 2ms/step - loss: 0.7841 - acc: 0.6310 - val_loss: 0.7572 - val_acc: 0.6517\n",
      "Epoch 56/80\n",
      "19556/19556 [==============================] - 44s 2ms/step - loss: 0.7827 - acc: 0.6348 - val_loss: 0.7652 - val_acc: 0.6461\n",
      "Epoch 57/80\n",
      " 2320/19556 [==>...........................] - ETA: 36s - loss: 0.7822 - acc: 0.6319"
     ]
    },
    {
     "name": "stderr",
     "output_type": "stream",
     "text": [
      "IOPub message rate exceeded.\n",
      "The notebook server will temporarily stop sending output\n",
      "to the client in order to avoid crashing it.\n",
      "To change this limit, set the config variable\n",
      "`--NotebookApp.iopub_msg_rate_limit`.\n",
      "\n",
      "Current values:\n",
      "NotebookApp.iopub_msg_rate_limit=1000.0 (msgs/sec)\n",
      "NotebookApp.rate_limit_window=3.0 (secs)\n",
      "\n"
     ]
    },
    {
     "name": "stdout",
     "output_type": "stream",
     "text": [
      "19556/19556 [==============================] - 45s 2ms/step - loss: 0.7766 - acc: 0.6339 - val_loss: 0.7694 - val_acc: 0.6304\n",
      "Epoch 65/80\n",
      "19556/19556 [==============================] - 44s 2ms/step - loss: 0.7751 - acc: 0.6375 - val_loss: 0.7641 - val_acc: 0.6439\n",
      "Epoch 66/80\n",
      "19556/19556 [==============================] - 44s 2ms/step - loss: 0.7763 - acc: 0.6371 - val_loss: 0.7675 - val_acc: 0.6445\n",
      "Epoch 67/80\n",
      "19556/19556 [==============================] - 44s 2ms/step - loss: 0.7788 - acc: 0.6308 - val_loss: 0.7875 - val_acc: 0.6331\n",
      "Epoch 68/80\n",
      "19556/19556 [==============================] - 44s 2ms/step - loss: 0.7721 - acc: 0.6373 - val_loss: 0.7712 - val_acc: 0.6423\n",
      "Epoch 69/80\n",
      " 2180/19556 [==>...........................] - ETA: 36s - loss: 0.7906 - acc: 0.6390"
     ]
    },
    {
     "name": "stderr",
     "output_type": "stream",
     "text": [
      "IOPub message rate exceeded.\n",
      "The notebook server will temporarily stop sending output\n",
      "to the client in order to avoid crashing it.\n",
      "To change this limit, set the config variable\n",
      "`--NotebookApp.iopub_msg_rate_limit`.\n",
      "\n",
      "Current values:\n",
      "NotebookApp.iopub_msg_rate_limit=1000.0 (msgs/sec)\n",
      "NotebookApp.rate_limit_window=3.0 (secs)\n",
      "\n"
     ]
    },
    {
     "name": "stdout",
     "output_type": "stream",
     "text": [
      "19556/19556 [==============================] - 45s 2ms/step - loss: 0.7753 - acc: 0.6388 - val_loss: 0.8131 - val_acc: 0.6208\n",
      "Epoch 76/80\n",
      "19556/19556 [==============================] - 44s 2ms/step - loss: 0.7704 - acc: 0.6394 - val_loss: 0.7577 - val_acc: 0.6523\n",
      "Epoch 77/80\n",
      "19556/19556 [==============================] - 45s 2ms/step - loss: 0.7653 - acc: 0.6399 - val_loss: 0.7754 - val_acc: 0.6396\n",
      "Epoch 78/80\n",
      "19556/19556 [==============================] - 45s 2ms/step - loss: 0.7665 - acc: 0.6444 - val_loss: 0.7626 - val_acc: 0.6486\n",
      "Epoch 79/80\n",
      "19556/19556 [==============================] - 45s 2ms/step - loss: 0.7672 - acc: 0.6405 - val_loss: 0.7692 - val_acc: 0.6490\n",
      "Epoch 80/80\n",
      " 7330/19556 [==========>...................] - ETA: 26s - loss: 0.7623 - acc: 0.6413"
     ]
    },
    {
     "name": "stderr",
     "output_type": "stream",
     "text": [
      "IOPub message rate exceeded.\n",
      "The notebook server will temporarily stop sending output\n",
      "to the client in order to avoid crashing it.\n",
      "To change this limit, set the config variable\n",
      "`--NotebookApp.iopub_msg_rate_limit`.\n",
      "\n",
      "Current values:\n",
      "NotebookApp.iopub_msg_rate_limit=1000.0 (msgs/sec)\n",
      "NotebookApp.rate_limit_window=3.0 (secs)\n",
      "\n"
     ]
    }
   ],
   "source": [
    "%%time\n",
    "\n",
    "test_model_history, test_model_real, most_recent_model_name, model_file_path, history_file_path = model(pic_df.head(NUM_IMAGES), model_name = model_name, image_size=IMAGE_SIZE, y_map=CURR_MAP, EPOCHS=EPOCHS, train_size = TRAIN_SIZE, metrics = METRICS, BATCH_SIZE=BATCH_SIZE)\n",
    "\n"
   ]
  },
  {
   "cell_type": "code",
   "execution_count": 24,
   "metadata": {},
   "outputs": [
    {
     "data": {
      "text/plain": [
       "'adult_data_3_options'"
      ]
     },
     "execution_count": 24,
     "metadata": {},
     "output_type": "execute_result"
    }
   ],
   "source": [
    "most_recent_model_name"
   ]
  },
  {
   "cell_type": "code",
   "execution_count": 25,
   "metadata": {},
   "outputs": [],
   "source": [
    "# New way to save the models after every new model creation\n",
    "\n",
    "# Save all of the stats about each model I've run\n",
    "\n",
    "# Loading in the list of models/parameters\n",
    "model_pickle_file_name = '../data/models/models_dict.pk'\n",
    "file_object = open(model_pickle_file_name,'rb')\n",
    "models_dict = pickle.load(file_object)\n",
    "file_object.close()\n",
    "\n",
    "\n",
    "# Add the most recent model to the list\n",
    "models_dict[most_recent_model_name] = {\n",
    "    'NUM_IMAGES':NUM_IMAGES,\n",
    "    'model_location':model_file_path,\n",
    "    'history_location':history_file_path,\n",
    "    'EPOCHS':EPOCHS,\n",
    "    'IMAGE_SIZE':IMAGE_SIZE,\n",
    "    'Y_MAP':CURR_MAP,\n",
    "    'TRAIN_SIZE':TRAIN_SIZE,\n",
    "    'accuracy_scores':{\n",
    "        'train':test_model_history.history['acc'][-1],\n",
    "        'test':test_model_history.history['val_acc'][-1]\n",
    "    }\n",
    "}\n",
    "\n",
    "\n",
    "# Save the list of models and parameters \n",
    "file_object = open(model_pickle_file_name,'wb')\n",
    "pickle.dump(models_dict, file_object)\n",
    "file_object.close()"
   ]
  },
  {
   "cell_type": "code",
   "execution_count": 26,
   "metadata": {
    "scrolled": false
   },
   "outputs": [
    {
     "data": {
      "image/png": "[encoded data removed]",
      "text/plain": [
       "<Figure size 576x1152 with 2 Axes>"
      ]
     },
     "metadata": {
      "image/png": {
       "height": 1015,
       "width": 498
      },
      "needs_background": "light"
     },
     "output_type": "display_data"
    }
   ],
   "source": [
    "graph_size = 8\n",
    "evaluate_model(test_model_history, most_recent_model_name, size=graph_size)\n"
   ]
  },
  {
   "cell_type": "code",
   "execution_count": null,
   "metadata": {},
   "outputs": [],
   "source": []
  },
  {
   "cell_type": "code",
   "execution_count": null,
   "metadata": {},
   "outputs": [],
   "source": []
  },
  {
   "cell_type": "code",
   "execution_count": null,
   "metadata": {},
   "outputs": [],
   "source": []
  }
 ],
 "metadata": {
  "kernelspec": {
   "display_name": "Python 3",
   "language": "python",
   "name": "python3"
  },
  "language_info": {
   "codemirror_mode": {
    "name": "ipython",
    "version": 3
   },
   "file_extension": ".py",
   "mimetype": "text/x-python",
   "name": "python",
   "nbconvert_exporter": "python",
   "pygments_lexer": "ipython3",
   "version": "3.6.6"
  },
  "latex_envs": {
   "LaTeX_envs_menu_present": true,
   "autoclose": false,
   "autocomplete": true,
   "bibliofile": "biblio.bib",
   "cite_by": "apalike",
   "current_citInitial": 1,
   "eqLabelWithNumbers": true,
   "eqNumInitial": 1,
   "hotkeys": {
    "equation": "Ctrl-E",
    "itemize": "Ctrl-I"
   },
   "labels_anchors": false,
   "latex_user_defs": false,
   "report_style_numbering": false,
   "user_envs_cfg": false
  },
  "notify_time": "30",
  "varInspector": {
   "cols": {
    "lenName": 16,
    "lenType": 16,
    "lenVar": 40
   },
   "kernels_config": {
    "python": {
     "delete_cmd_postfix": "",
     "delete_cmd_prefix": "del ",
     "library": "var_list.py",
     "varRefreshCmd": "print(var_dic_list())"
    },
    "r": {
     "delete_cmd_postfix": ") ",
     "delete_cmd_prefix": "rm(",
     "library": "var_list.r",
     "varRefreshCmd": "cat(var_dic_list()) "
    }
   },
   "position": {
    "height": "474px",
    "left": "819px",
    "right": "20px",
    "top": "120px",
    "width": "359px"
   },
   "types_to_exclude": [
    "module",
    "function",
    "builtin_function_or_method",
    "instance",
    "_Feature"
   ],
   "window_display": false
  }
 },
 "nbformat": 4,
 "nbformat_minor": 2
}
