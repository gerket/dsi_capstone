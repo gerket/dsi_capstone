{
 "cells": [
  {
   "cell_type": "markdown",
   "metadata": {},
   "source": [
    "Modeling and testing grounds"
   ]
  },
  {
   "cell_type": "code",
   "execution_count": 15,
   "metadata": {},
   "outputs": [],
   "source": [
    "import glob, pylab, pandas as pd\n",
    "import pydicom, numpy as np\n",
    "\n",
    "from sklearn.model_selection import train_test_split\n",
    "from sklearn.preprocessing import StandardScaler\n",
    "import matplotlib.pyplot as plt\n",
    "\n",
    "%matplotlib inline\n",
    "%config InlineBackend.figure_format = 'retina'\n",
    "\n",
    "from keras.models import Sequential\n",
    "from keras.layers import Dense, Dropout, Activation, Flatten, Conv2D, MaxPooling2D\n",
    "from keras.utils import to_categorical\n",
    "from keras.models import load_model\n",
    "\n",
    "from numpy.random import seed\n",
    "from tensorflow import set_random_seed\n",
    "\n",
    "from skimage.transform import resize\n",
    "\n",
    "import datetime\n",
    "from tqdm import tqdm_notebook\n",
    "import pickle"
   ]
  },
  {
   "cell_type": "code",
   "execution_count": 3,
   "metadata": {},
   "outputs": [],
   "source": [
    "seed(42)\n",
    "set_random_seed(42)"
   ]
  },
  {
   "cell_type": "code",
   "execution_count": null,
   "metadata": {},
   "outputs": [],
   "source": []
  },
  {
   "cell_type": "markdown",
   "metadata": {},
   "source": [
    "# Modeling and Evaluation Functions\n",
    "\n",
    "Writing multiple functions to facilitate creating different datasets, modeling over different datasets and/or different hyperparameters, and evaluating the different models using graphs\n",
    "\n",
    "\n"
   ]
  },
  {
   "cell_type": "code",
   "execution_count": 4,
   "metadata": {},
   "outputs": [],
   "source": [
    "class PnemoniaTargetMapIsWeird(AssertionError):\n",
    "    \"\"\"Raise this when the target is not mapped to 2 or 3 outputs\"\"\"\n",
    "    pass"
   ]
  },
  {
   "cell_type": "code",
   "execution_count": 5,
   "metadata": {},
   "outputs": [],
   "source": [
    "def create_pic_df(data, df_detailed, image_size = (128,128)):\n",
    "    \n",
    "    print('---Enter DataFrame Construction Function---')\n",
    "    \n",
    "    ## Data Prep\n",
    "    # Need to define df_detailed somewhere\n",
    "    data.drop_duplicates(inplace=True)\n",
    "    merged_df = df_detailed.merge(data, on='patientId')\n",
    "    \n",
    "    print('---Create Pixel Array Labels---')\n",
    "    \n",
    "    # Create the column labels for the pixel arrays\n",
    "    pixel_labels = []\n",
    "    for i in range(image_size[0] * image_size[1]):\n",
    "        pixel_labels.append(\"pixel\"+str(i))\n",
    "    \n",
    "    print('---Create Total Pixel Array---')\n",
    "    \n",
    "    # Create the total pixel array\n",
    "    huge_pixel_array = []\n",
    "    for o in tqdm_notebook(range(merged_df.shape[0])):\n",
    "        # Get the image data\n",
    "        patientId = merged_df.iloc[o]['patientId']\n",
    "        dcm_file = '../data/stage_1_train_images/%s.dcm' % patientId\n",
    "        dcm_data = pydicom.read_file(dcm_file)\n",
    "        im = dcm_data.pixel_array\n",
    "\n",
    "        # Convert the image into a 1d array of pixels\n",
    "        curr_pixel_array = []\n",
    "        for i in resize(im, image_size): \n",
    "            curr_pixel_array.extend(i)\n",
    "        huge_pixel_array.append(curr_pixel_array)\n",
    "\n",
    "    print('---Create Dataframe---')\n",
    "        \n",
    "    # Creating the DataFrame\n",
    "    temp = pd.DataFrame(data = huge_pixel_array, columns = pixel_labels)\n",
    "    temp['class'] = merged_df['class']\n",
    "    return temp"
   ]
  },
  {
   "cell_type": "code",
   "execution_count": 6,
   "metadata": {},
   "outputs": [],
   "source": [
    "def model(data, model_name = \"default_model_name\", image_size = (128,128), y_map = {\n",
    "    \"Lung Opacity\":1,\n",
    "    \"No Lung Opacity / Not Normal\":0,\n",
    "    \"Normal\":2\n",
    "}, EPOCHS = 20, train_size = 0.75, metrics = ['accuracy'] ):\n",
    "    \"\"\"\n",
    "    Args:\n",
    "        data (Pandas DataFrame): cols=['class', all of the pixel data]\n",
    "        \n",
    "        model_name (str): The name with which to save the model\n",
    "        \n",
    "        image_size (touple: (int,int)): The width and height in pixels to scale the images. Max 1024x1024. This might be more finickey that I would've thought.\n",
    "        \n",
    "        y_map (dict): A dictionary mapping the target values to integers (0-?)\n",
    "        \n",
    "    Returns:\n",
    "        Keras Model fit on the data.\n",
    "        Saves the model to ../data/models/model_name datetime.h5\n",
    "    \"\"\"\n",
    "    print('---Enter Function---')\n",
    "    \n",
    "\n",
    "    # Create target\n",
    "    y = data['class']\n",
    "    y = y.map(lambda x: y_map[x])\n",
    "    \n",
    "    # Train Test Split\n",
    "    X_train, X_test, y_train, y_test = train_test_split(data.drop(columns='class'), y, \n",
    "                                                        stratify=y, random_state=42, train_size = train_size)\n",
    "    \n",
    "    # Transform target into arrays of integers\n",
    "    y_train_c = to_categorical(y_train)\n",
    "    y_test_c = to_categorical(y_test)\n",
    "    \n",
    "    # Reshape the X_train and X_test \n",
    "    X_train_re = X_train.values.reshape(X_train.shape[0], image_size[0], image_size[1], 1)\n",
    "    X_test_re = X_test.values.reshape(X_test.shape[0], image_size[0], image_size[1], 1)\n",
    "    \n",
    "    print('---Modeling---')\n",
    "    \n",
    "    ## Modeling\n",
    "    # Initialize Model\n",
    "    model_convolutional = Sequential()\n",
    "\n",
    "    # First Conv / Pool \n",
    "    model_convolutional.add(Conv2D(filters = 6,\n",
    "                                   kernel_size = 3,\n",
    "                                   activation = 'relu',\n",
    "                                   input_shape = (image_size[0], image_size[1], 1)\n",
    "                                  ))\n",
    "    model_convolutional.add(MaxPooling2D(pool_size=(2,2)))\n",
    "\n",
    "    # Second Conv/ Pool\n",
    "    model_convolutional.add(Conv2D(filters=16, kernel_size=3, \n",
    "                                   activation='relu'))\n",
    "    model_convolutional.add(MaxPooling2D(pool_size=(2,2)))\n",
    "\n",
    "    # Flatten\n",
    "    model_convolutional.add(Dropout(0.8))\n",
    "    model_convolutional.add(Flatten())\n",
    "\n",
    "    # Densely Connected Layers\n",
    "    model_convolutional.add(Dense(512, activation='relu'))\n",
    "    model_convolutional.add(Dropout(0.5))\n",
    "    model_convolutional.add(Dense(128, activation='relu'))\n",
    "    model_convolutional.add(Dropout(0.5))\n",
    "    \n",
    "    # Output Layer\n",
    "    if len(set(y_map.values())) == 3:\n",
    "        model_convolutional.add(Dense(3, activation='softmax'))\n",
    "    elif len(set(y_map.values())) == 2:\n",
    "        model_convolutional.add(Dense(2, activation='softmax'))\n",
    "    else:\n",
    "        raise PnemoniaTargetMapIsWeird(\"target is not mapped to 2 or 3 outputs\")\n",
    "\n",
    "\n",
    "    model_convolutional.compile(loss = 'categorical_crossentropy', \n",
    "                            optimizer = 'adam', \n",
    "                            metrics = metrics)\n",
    "    \n",
    "    # Train Model\n",
    "    trained_convolutional = model_convolutional.fit(X_train_re,\n",
    "                        y_train_c,\n",
    "                        batch_size = 32,\n",
    "                        epochs = EPOCHS,\n",
    "                        verbose = 1,\n",
    "                        validation_data = (X_test_re, y_test_c)\n",
    "                       )\n",
    "\n",
    "    # Save Model \n",
    "    try:\n",
    "        file_name = '../data/models/' + model_name + ' ' + str(datetime.datetime.now()) + '.h5'\n",
    "        \n",
    "        model_convolutional.save(file_name)\n",
    "        print('Model saved as: ' + file_name)\n",
    "        \n",
    "    except Exception as e:\n",
    "        print('Model did not save.')\n",
    "        print(e)\n",
    "        \n",
    "        \n",
    "    return trained_convolutional, model_convolutional, file_name\n",
    "\n"
   ]
  },
  {
   "cell_type": "code",
   "execution_count": 32,
   "metadata": {
    "code_folding": []
   },
   "outputs": [],
   "source": [
    "# Function that displays pertinant information regarding the quality of the model\n",
    "\n",
    "def evaluate_model (model, model_name = 'default', size=6):\n",
    "    \n",
    "    \"\"\"\n",
    "    Args:\n",
    "        model: A trained model with \n",
    "        \n",
    "    Output:\n",
    "        Returns nothing. Prints out - plots comparing test set with training set on \n",
    "        each of the metrics (minimum: loss).\n",
    "    \n",
    "    \"\"\"\n",
    "    \n",
    "    # checking out the different classes in the testing case and predictions\n",
    "    \n",
    "    # confusion matrix?\n",
    "    \n",
    "    keys=[]\n",
    "    for i in model.history.keys():\n",
    "        if i[0:3] != 'val':\n",
    "            keys.append(i)\n",
    "    \n",
    "    fig, ax = plt.subplots(len(keys), 1, figsize = (size, size*len(keys))) \n",
    "    fig.suptitle('Model: ' + model_name[15:-3], fontsize=16)\n",
    "    \n",
    "    index = 0\n",
    "    for i in keys:\n",
    "        # Plot of the Loss for the train and testingsets\n",
    "        ax[index].plot(model.history[i], label=i.capitalize())\n",
    "        ax[index].plot(model.history['val_'+i], label='Val '+i.capitalize())\n",
    "        ax[index].legend()\n",
    "        ax[index].set_title(i.capitalize())\n",
    "        index+=1\n"
   ]
  },
  {
   "cell_type": "code",
   "execution_count": null,
   "metadata": {},
   "outputs": [],
   "source": []
  },
  {
   "cell_type": "code",
   "execution_count": null,
   "metadata": {},
   "outputs": [],
   "source": []
  },
  {
   "cell_type": "markdown",
   "metadata": {},
   "source": [
    "## Some initial modeling"
   ]
  },
  {
   "cell_type": "code",
   "execution_count": 8,
   "metadata": {
    "code_folding": []
   },
   "outputs": [],
   "source": [
    "# Lung Opacity == Pneumonia\n",
    "y_map_3 = { # Normal, Pneumonia, or not normal but not pneumonia\n",
    "    \"Lung Opacity\":1,\n",
    "    \"No Lung Opacity / Not Normal\":0,\n",
    "    \"Normal\":2\n",
    "}\n",
    "\n",
    "y_map_2 = { # Either Pneumonia or Not Pneumonia\n",
    "    \"Lung Opacity\":1,\n",
    "    \"No Lung Opacity / Not Normal\":0,\n",
    "    \"Normal\":0\n",
    "}\n",
    "\n",
    "adult_data = pd.read_csv('../data/adult_patient_data.csv')\n",
    "df_detailed = pd.read_csv('../data/stage_1_detailed_class_info.csv')\n"
   ]
  },
  {
   "cell_type": "code",
   "execution_count": 34,
   "metadata": {},
   "outputs": [],
   "source": [
    "models = {}"
   ]
  },
  {
   "cell_type": "code",
   "execution_count": 35,
   "metadata": {},
   "outputs": [],
   "source": [
    "# Current Parameters\n",
    "options = 3\n",
    "\n",
    "\n",
    "NUM_IMAGES = 6000 #pic_df.shape[0]\n",
    "EPOCHS = 20\n",
    "IMAGE_SIZE = (128,128)\n",
    "TRAIN_SIZE = 0.8\n",
    "METRICS = ['accuracy']\n",
    "\n",
    "if options == 2:\n",
    "    CURR_MAP = y_map_2\n",
    "    model_name = 'adult_data_2_options'\n",
    "elif options == 3:\n",
    "    CURR_MAP = y_map_3\n",
    "    model_name = 'adult_data_3_options'\n",
    "else:\n",
    "    raise PnemoniaTargetMapIsWeird('Set \"option\" to 2 or 3')\n"
   ]
  },
  {
   "cell_type": "code",
   "execution_count": 11,
   "metadata": {
    "code_folding": []
   },
   "outputs": [
    {
     "name": "stdout",
     "output_type": "stream",
     "text": [
      "---Enter DataFrame Construction Function---\n",
      "---Create Pixel Array Labels---\n",
      "---Create Total Pixel Array---\n"
     ]
    },
    {
     "data": {
      "application/vnd.jupyter.widget-view+json": {
       "model_id": "",
       "version_major": 2,
       "version_minor": 0
      },
      "text/plain": [
       "HBox(children=(IntProgress(value=0, max=27537), HTML(value='')))"
      ]
     },
     "metadata": {},
     "output_type": "display_data"
    },
    {
     "name": "stderr",
     "output_type": "stream",
     "text": [
      "/home/ec2-user/anaconda3/envs/py36/lib/python3.6/site-packages/skimage/transform/_warps.py:105: UserWarning: The default mode, 'constant', will be changed to 'reflect' in skimage 0.15.\n",
      "  warn(\"The default mode, 'constant', will be changed to 'reflect' in \"\n",
      "/home/ec2-user/anaconda3/envs/py36/lib/python3.6/site-packages/skimage/transform/_warps.py:110: UserWarning: Anti-aliasing will be enabled by default in skimage 0.15 to avoid aliasing artifacts when down-sampling images.\n",
      "  warn(\"Anti-aliasing will be enabled by default in skimage 0.15 to \"\n"
     ]
    },
    {
     "name": "stdout",
     "output_type": "stream",
     "text": [
      "\n",
      "---Create Dataframe---\n",
      "CPU times: user 8min 33s, sys: 15 s, total: 8min 48s\n",
      "Wall time: 8min 50s\n"
     ]
    }
   ],
   "source": [
    "%%time\n",
    "\n",
    "pic_df = create_pic_df(adult_data, df_detailed=df_detailed, image_size=IMAGE_SIZE)"
   ]
  },
  {
   "cell_type": "code",
   "execution_count": 36,
   "metadata": {
    "scrolled": true
   },
   "outputs": [
    {
     "name": "stdout",
     "output_type": "stream",
     "text": [
      "---Enter Function---\n"
     ]
    },
    {
     "name": "stderr",
     "output_type": "stream",
     "text": [
      "/home/ec2-user/anaconda3/envs/py36/lib/python3.6/site-packages/sklearn/model_selection/_split.py:2026: FutureWarning: From version 0.21, test_size will always complement train_size unless both are specified.\n",
      "  FutureWarning)\n"
     ]
    },
    {
     "name": "stdout",
     "output_type": "stream",
     "text": [
      "---Modeling---\n",
      "Train on 4800 samples, validate on 1200 samples\n",
      "Epoch 1/20\n",
      "4800/4800 [==============================] - 27s 6ms/step - loss: 0.9727 - acc: 0.5121 - val_loss: 0.8885 - val_acc: 0.5925\n",
      "Epoch 2/20\n",
      "4800/4800 [==============================] - 26s 5ms/step - loss: 0.8916 - acc: 0.5648 - val_loss: 0.8520 - val_acc: 0.6017\n",
      "Epoch 3/20\n",
      "4800/4800 [==============================] - 26s 5ms/step - loss: 0.8686 - acc: 0.5823 - val_loss: 0.8462 - val_acc: 0.5975\n",
      "Epoch 4/20\n",
      "4800/4800 [==============================] - 26s 5ms/step - loss: 0.8549 - acc: 0.5958 - val_loss: 0.8598 - val_acc: 0.6042\n",
      "Epoch 5/20\n",
      "4800/4800 [==============================] - 26s 5ms/step - loss: 0.8401 - acc: 0.6002 - val_loss: 0.8355 - val_acc: 0.6183\n",
      "Epoch 6/20\n",
      "4800/4800 [==============================] - 26s 5ms/step - loss: 0.8034 - acc: 0.6202 - val_loss: 0.8302 - val_acc: 0.6108\n",
      "Epoch 7/20\n",
      "4800/4800 [==============================] - 26s 5ms/step - loss: 0.8031 - acc: 0.6227 - val_loss: 0.8121 - val_acc: 0.6208\n",
      "Epoch 8/20\n",
      "4800/4800 [==============================] - 26s 5ms/step - loss: 0.7802 - acc: 0.6427 - val_loss: 0.7983 - val_acc: 0.6217\n",
      "Epoch 9/20\n",
      "4800/4800 [==============================] - 26s 5ms/step - loss: 0.7618 - acc: 0.6523 - val_loss: 0.8163 - val_acc: 0.6200\n",
      "Epoch 10/20\n",
      "4800/4800 [==============================] - 26s 5ms/step - loss: 0.7436 - acc: 0.6567 - val_loss: 0.8048 - val_acc: 0.6258\n",
      "Epoch 11/20\n",
      "4800/4800 [==============================] - 26s 5ms/step - loss: 0.7278 - acc: 0.6702 - val_loss: 0.8330 - val_acc: 0.6317\n",
      "Epoch 12/20\n",
      "4800/4800 [==============================] - 26s 5ms/step - loss: 0.7030 - acc: 0.6773 - val_loss: 0.8347 - val_acc: 0.6150\n",
      "Epoch 13/20\n",
      "4800/4800 [==============================] - 26s 5ms/step - loss: 0.6814 - acc: 0.6890 - val_loss: 0.8025 - val_acc: 0.6458\n",
      "Epoch 14/20\n",
      "4800/4800 [==============================] - 26s 5ms/step - loss: 0.6805 - acc: 0.6908 - val_loss: 0.7922 - val_acc: 0.6442\n",
      "Epoch 15/20\n",
      "4800/4800 [==============================] - 26s 5ms/step - loss: 0.6575 - acc: 0.7106 - val_loss: 0.7922 - val_acc: 0.6583\n",
      "Epoch 16/20\n",
      "4800/4800 [==============================] - 26s 5ms/step - loss: 0.6303 - acc: 0.7150 - val_loss: 0.8029 - val_acc: 0.6500\n",
      "Epoch 17/20\n",
      "4800/4800 [==============================] - 26s 5ms/step - loss: 0.6040 - acc: 0.7327 - val_loss: 0.8119 - val_acc: 0.6533\n",
      "Epoch 18/20\n",
      "4800/4800 [==============================] - 26s 5ms/step - loss: 0.5976 - acc: 0.7377 - val_loss: 0.7723 - val_acc: 0.6633\n",
      "Epoch 19/20\n",
      "4800/4800 [==============================] - 26s 5ms/step - loss: 0.5752 - acc: 0.7496 - val_loss: 0.7817 - val_acc: 0.6533\n",
      "Epoch 20/20\n",
      "4800/4800 [==============================] - 26s 5ms/step - loss: 0.5512 - acc: 0.7617 - val_loss: 0.8025 - val_acc: 0.6567\n",
      "Model saved as: ../data/models/adult_data_3_options 2018-10-16 23:03:21.173330.h5\n",
      "CPU times: user 36min 41s, sys: 11min 33s, total: 48min 15s\n",
      "Wall time: 8min 38s\n"
     ]
    }
   ],
   "source": [
    "%%time\n",
    "\n",
    "\n",
    "\n",
    "test_model_history, test_model_real, most_recent_model_name = model(pic_df.head(NUM_IMAGES), model_name = model_name, image_size=IMAGE_SIZE, y_map=CURR_MAP, EPOCHS=EPOCHS, train_size = TRAIN_SIZE, metrics = METRICS)\n",
    "\n"
   ]
  },
  {
   "cell_type": "code",
   "execution_count": 91,
   "metadata": {
    "code_folding": []
   },
   "outputs": [],
   "source": [
    "models[most_recent_model_name] = {\n",
    "    'NUM_IMAGES':NUM_IMAGES,\n",
    "    'history':test_model_history,\n",
    "    'EPOCHS':EPOCHS,\n",
    "    'IMAGE_SIZE':IMAGE_SIZE,\n",
    "    'Y_MAP':CURR_MAP,\n",
    "    'TRAIN_SIZE':TRAIN_SIZE,\n",
    "    'accuracy_scores':{\n",
    "        'train':test_model_history.history['acc'][-1],\n",
    "        'test':test_model_history.history['val_acc'][-1]\n",
    "    }\n",
    "}\n",
    "\n",
    "# Save the list of models and parameters \n",
    "model_pickle_file_name = 'models.pk'\n",
    "file_object = open(model_pickle_file_name,'wb')\n",
    "pickle.dump(models, file_object)\n",
    "file_object.close()\n"
   ]
  },
  {
   "cell_type": "code",
   "execution_count": 73,
   "metadata": {
    "scrolled": false
   },
   "outputs": [
    {
     "data": {
      "image/png": "[encoded data removed]",
      "text/plain": [
       "<Figure size 432x864 with 2 Axes>"
      ]
     },
     "metadata": {
      "image/png": {
       "height": 769,
       "width": 484
      },
      "needs_background": "light"
     },
     "output_type": "display_data"
    }
   ],
   "source": [
    "graph_size = 6\n",
    "evaluate_model(test_model_history, most_recent_model_name, size=graph_size)\n"
   ]
  },
  {
   "cell_type": "code",
   "execution_count": 78,
   "metadata": {},
   "outputs": [
    {
     "data": {
      "text/plain": [
       "{'name': 'sequential_2',\n",
       " 'layers': [{'class_name': 'Conv2D',\n",
       "   'config': {'name': 'conv2d_3',\n",
       "    'trainable': True,\n",
       "    'batch_input_shape': (None, 128, 128, 1),\n",
       "    'dtype': 'float32',\n",
       "    'filters': 6,\n",
       "    'kernel_size': (3, 3),\n",
       "    'strides': (1, 1),\n",
       "    'padding': 'valid',\n",
       "    'data_format': 'channels_last',\n",
       "    'dilation_rate': (1, 1),\n",
       "    'activation': 'relu',\n",
       "    'use_bias': True,\n",
       "    'kernel_initializer': {'class_name': 'VarianceScaling',\n",
       "     'config': {'scale': 1.0,\n",
       "      'mode': 'fan_avg',\n",
       "      'distribution': 'uniform',\n",
       "      'seed': None}},\n",
       "    'bias_initializer': {'class_name': 'Zeros', 'config': {}},\n",
       "    'kernel_regularizer': None,\n",
       "    'bias_regularizer': None,\n",
       "    'activity_regularizer': None,\n",
       "    'kernel_constraint': None,\n",
       "    'bias_constraint': None}},\n",
       "  {'class_name': 'MaxPooling2D',\n",
       "   'config': {'name': 'max_pooling2d_3',\n",
       "    'trainable': True,\n",
       "    'pool_size': (2, 2),\n",
       "    'padding': 'valid',\n",
       "    'strides': (2, 2),\n",
       "    'data_format': 'channels_last'}},\n",
       "  {'class_name': 'Conv2D',\n",
       "   'config': {'name': 'conv2d_4',\n",
       "    'trainable': True,\n",
       "    'filters': 16,\n",
       "    'kernel_size': (3, 3),\n",
       "    'strides': (1, 1),\n",
       "    'padding': 'valid',\n",
       "    'data_format': 'channels_last',\n",
       "    'dilation_rate': (1, 1),\n",
       "    'activation': 'relu',\n",
       "    'use_bias': True,\n",
       "    'kernel_initializer': {'class_name': 'VarianceScaling',\n",
       "     'config': {'scale': 1.0,\n",
       "      'mode': 'fan_avg',\n",
       "      'distribution': 'uniform',\n",
       "      'seed': None}},\n",
       "    'bias_initializer': {'class_name': 'Zeros', 'config': {}},\n",
       "    'kernel_regularizer': None,\n",
       "    'bias_regularizer': None,\n",
       "    'activity_regularizer': None,\n",
       "    'kernel_constraint': None,\n",
       "    'bias_constraint': None}},\n",
       "  {'class_name': 'MaxPooling2D',\n",
       "   'config': {'name': 'max_pooling2d_4',\n",
       "    'trainable': True,\n",
       "    'pool_size': (2, 2),\n",
       "    'padding': 'valid',\n",
       "    'strides': (2, 2),\n",
       "    'data_format': 'channels_last'}},\n",
       "  {'class_name': 'Dropout',\n",
       "   'config': {'name': 'dropout_4',\n",
       "    'trainable': True,\n",
       "    'rate': 0.8,\n",
       "    'noise_shape': None,\n",
       "    'seed': None}},\n",
       "  {'class_name': 'Flatten',\n",
       "   'config': {'name': 'flatten_2',\n",
       "    'trainable': True,\n",
       "    'data_format': 'channels_last'}},\n",
       "  {'class_name': 'Dense',\n",
       "   'config': {'name': 'dense_4',\n",
       "    'trainable': True,\n",
       "    'units': 512,\n",
       "    'activation': 'relu',\n",
       "    'use_bias': True,\n",
       "    'kernel_initializer': {'class_name': 'VarianceScaling',\n",
       "     'config': {'scale': 1.0,\n",
       "      'mode': 'fan_avg',\n",
       "      'distribution': 'uniform',\n",
       "      'seed': None}},\n",
       "    'bias_initializer': {'class_name': 'Zeros', 'config': {}},\n",
       "    'kernel_regularizer': None,\n",
       "    'bias_regularizer': None,\n",
       "    'activity_regularizer': None,\n",
       "    'kernel_constraint': None,\n",
       "    'bias_constraint': None}},\n",
       "  {'class_name': 'Dropout',\n",
       "   'config': {'name': 'dropout_5',\n",
       "    'trainable': True,\n",
       "    'rate': 0.5,\n",
       "    'noise_shape': None,\n",
       "    'seed': None}},\n",
       "  {'class_name': 'Dense',\n",
       "   'config': {'name': 'dense_5',\n",
       "    'trainable': True,\n",
       "    'units': 128,\n",
       "    'activation': 'relu',\n",
       "    'use_bias': True,\n",
       "    'kernel_initializer': {'class_name': 'VarianceScaling',\n",
       "     'config': {'scale': 1.0,\n",
       "      'mode': 'fan_avg',\n",
       "      'distribution': 'uniform',\n",
       "      'seed': None}},\n",
       "    'bias_initializer': {'class_name': 'Zeros', 'config': {}},\n",
       "    'kernel_regularizer': None,\n",
       "    'bias_regularizer': None,\n",
       "    'activity_regularizer': None,\n",
       "    'kernel_constraint': None,\n",
       "    'bias_constraint': None}},\n",
       "  {'class_name': 'Dropout',\n",
       "   'config': {'name': 'dropout_6',\n",
       "    'trainable': True,\n",
       "    'rate': 0.5,\n",
       "    'noise_shape': None,\n",
       "    'seed': None}},\n",
       "  {'class_name': 'Dense',\n",
       "   'config': {'name': 'dense_6',\n",
       "    'trainable': True,\n",
       "    'units': 3,\n",
       "    'activation': 'softmax',\n",
       "    'use_bias': True,\n",
       "    'kernel_initializer': {'class_name': 'VarianceScaling',\n",
       "     'config': {'scale': 1.0,\n",
       "      'mode': 'fan_avg',\n",
       "      'distribution': 'uniform',\n",
       "      'seed': None}},\n",
       "    'bias_initializer': {'class_name': 'Zeros', 'config': {}},\n",
       "    'kernel_regularizer': None,\n",
       "    'bias_regularizer': None,\n",
       "    'activity_regularizer': None,\n",
       "    'kernel_constraint': None,\n",
       "    'bias_constraint': None}}]}"
      ]
     },
     "execution_count": 78,
     "metadata": {},
     "output_type": "execute_result"
    }
   ],
   "source": [
    "# This shows the different levels in my NN\n",
    "test_model_history.model.get_config()"
   ]
  },
  {
   "cell_type": "code",
   "execution_count": 82,
   "metadata": {},
   "outputs": [
    {
     "data": {
      "text/plain": [
       "{'name': 'sequential_2',\n",
       " 'layers': [{'class_name': 'Conv2D',\n",
       "   'config': {'name': 'conv2d_3',\n",
       "    'trainable': True,\n",
       "    'batch_input_shape': (None, 128, 128, 1),\n",
       "    'dtype': 'float32',\n",
       "    'filters': 6,\n",
       "    'kernel_size': (3, 3),\n",
       "    'strides': (1, 1),\n",
       "    'padding': 'valid',\n",
       "    'data_format': 'channels_last',\n",
       "    'dilation_rate': (1, 1),\n",
       "    'activation': 'relu',\n",
       "    'use_bias': True,\n",
       "    'kernel_initializer': {'class_name': 'VarianceScaling',\n",
       "     'config': {'scale': 1.0,\n",
       "      'mode': 'fan_avg',\n",
       "      'distribution': 'uniform',\n",
       "      'seed': None}},\n",
       "    'bias_initializer': {'class_name': 'Zeros', 'config': {}},\n",
       "    'kernel_regularizer': None,\n",
       "    'bias_regularizer': None,\n",
       "    'activity_regularizer': None,\n",
       "    'kernel_constraint': None,\n",
       "    'bias_constraint': None}},\n",
       "  {'class_name': 'MaxPooling2D',\n",
       "   'config': {'name': 'max_pooling2d_3',\n",
       "    'trainable': True,\n",
       "    'pool_size': (2, 2),\n",
       "    'padding': 'valid',\n",
       "    'strides': (2, 2),\n",
       "    'data_format': 'channels_last'}},\n",
       "  {'class_name': 'Conv2D',\n",
       "   'config': {'name': 'conv2d_4',\n",
       "    'trainable': True,\n",
       "    'filters': 16,\n",
       "    'kernel_size': (3, 3),\n",
       "    'strides': (1, 1),\n",
       "    'padding': 'valid',\n",
       "    'data_format': 'channels_last',\n",
       "    'dilation_rate': (1, 1),\n",
       "    'activation': 'relu',\n",
       "    'use_bias': True,\n",
       "    'kernel_initializer': {'class_name': 'VarianceScaling',\n",
       "     'config': {'scale': 1.0,\n",
       "      'mode': 'fan_avg',\n",
       "      'distribution': 'uniform',\n",
       "      'seed': None}},\n",
       "    'bias_initializer': {'class_name': 'Zeros', 'config': {}},\n",
       "    'kernel_regularizer': None,\n",
       "    'bias_regularizer': None,\n",
       "    'activity_regularizer': None,\n",
       "    'kernel_constraint': None,\n",
       "    'bias_constraint': None}},\n",
       "  {'class_name': 'MaxPooling2D',\n",
       "   'config': {'name': 'max_pooling2d_4',\n",
       "    'trainable': True,\n",
       "    'pool_size': (2, 2),\n",
       "    'padding': 'valid',\n",
       "    'strides': (2, 2),\n",
       "    'data_format': 'channels_last'}},\n",
       "  {'class_name': 'Dropout',\n",
       "   'config': {'name': 'dropout_4',\n",
       "    'trainable': True,\n",
       "    'rate': 0.8,\n",
       "    'noise_shape': None,\n",
       "    'seed': None}},\n",
       "  {'class_name': 'Flatten',\n",
       "   'config': {'name': 'flatten_2',\n",
       "    'trainable': True,\n",
       "    'data_format': 'channels_last'}},\n",
       "  {'class_name': 'Dense',\n",
       "   'config': {'name': 'dense_4',\n",
       "    'trainable': True,\n",
       "    'units': 512,\n",
       "    'activation': 'relu',\n",
       "    'use_bias': True,\n",
       "    'kernel_initializer': {'class_name': 'VarianceScaling',\n",
       "     'config': {'scale': 1.0,\n",
       "      'mode': 'fan_avg',\n",
       "      'distribution': 'uniform',\n",
       "      'seed': None}},\n",
       "    'bias_initializer': {'class_name': 'Zeros', 'config': {}},\n",
       "    'kernel_regularizer': None,\n",
       "    'bias_regularizer': None,\n",
       "    'activity_regularizer': None,\n",
       "    'kernel_constraint': None,\n",
       "    'bias_constraint': None}},\n",
       "  {'class_name': 'Dropout',\n",
       "   'config': {'name': 'dropout_5',\n",
       "    'trainable': True,\n",
       "    'rate': 0.5,\n",
       "    'noise_shape': None,\n",
       "    'seed': None}},\n",
       "  {'class_name': 'Dense',\n",
       "   'config': {'name': 'dense_5',\n",
       "    'trainable': True,\n",
       "    'units': 128,\n",
       "    'activation': 'relu',\n",
       "    'use_bias': True,\n",
       "    'kernel_initializer': {'class_name': 'VarianceScaling',\n",
       "     'config': {'scale': 1.0,\n",
       "      'mode': 'fan_avg',\n",
       "      'distribution': 'uniform',\n",
       "      'seed': None}},\n",
       "    'bias_initializer': {'class_name': 'Zeros', 'config': {}},\n",
       "    'kernel_regularizer': None,\n",
       "    'bias_regularizer': None,\n",
       "    'activity_regularizer': None,\n",
       "    'kernel_constraint': None,\n",
       "    'bias_constraint': None}},\n",
       "  {'class_name': 'Dropout',\n",
       "   'config': {'name': 'dropout_6',\n",
       "    'trainable': True,\n",
       "    'rate': 0.5,\n",
       "    'noise_shape': None,\n",
       "    'seed': None}},\n",
       "  {'class_name': 'Dense',\n",
       "   'config': {'name': 'dense_6',\n",
       "    'trainable': True,\n",
       "    'units': 3,\n",
       "    'activation': 'softmax',\n",
       "    'use_bias': True,\n",
       "    'kernel_initializer': {'class_name': 'VarianceScaling',\n",
       "     'config': {'scale': 1.0,\n",
       "      'mode': 'fan_avg',\n",
       "      'distribution': 'uniform',\n",
       "      'seed': None}},\n",
       "    'bias_initializer': {'class_name': 'Zeros', 'config': {}},\n",
       "    'kernel_regularizer': None,\n",
       "    'bias_regularizer': None,\n",
       "    'activity_regularizer': None,\n",
       "    'kernel_constraint': None,\n",
       "    'bias_constraint': None}}]}"
      ]
     },
     "execution_count": 82,
     "metadata": {},
     "output_type": "execute_result"
    }
   ],
   "source": [
    "models[most_recent_model_name]['history'].model.predict(pic_df.drop(columns='class').iloc[1,:].values)"
   ]
  },
  {
   "cell_type": "code",
   "execution_count": null,
   "metadata": {},
   "outputs": [],
   "source": []
  },
  {
   "cell_type": "markdown",
   "metadata": {
    "heading_collapsed": true
   },
   "source": [
    "## Predicting\n",
    "Creating predictions and getting useful, interpretable results from the models."
   ]
  },
  {
   "cell_type": "code",
   "execution_count": 42,
   "metadata": {
    "hidden": true
   },
   "outputs": [
    {
     "name": "stdout",
     "output_type": "stream",
     "text": [
      "CPU times: user 4min 23s, sys: 13.4 s, total: 4min 36s\n",
      "Wall time: 51.5 s\n"
     ]
    }
   ],
   "source": [
    "%%time\n",
    "\n",
    "# Predicting on the images\n",
    "X = pic_df.drop(columns='class')\n",
    "pred_x = X.values.reshape(X.shape[0], IMAGE_SIZE[0], IMAGE_SIZE[1], 1)\n",
    "preds = test_model_real.predict(pred_x)"
   ]
  },
  {
   "cell_type": "code",
   "execution_count": 68,
   "metadata": {
    "hidden": true
   },
   "outputs": [],
   "source": [
    "# Converting the target values to the \n",
    "y_real = pic_df['class']\n",
    "y_real = y_real.map(lambda x: CURR_MAP[x])"
   ]
  },
  {
   "cell_type": "code",
   "execution_count": 69,
   "metadata": {
    "hidden": true
   },
   "outputs": [
    {
     "name": "stdout",
     "output_type": "stream",
     "text": [
      "[0, 0, 0, 2, 1, 1, 0, 0, 1, 1, 0, 2, 2, 2, 1, 1, 0, 1, 1, 2]\n"
     ]
    }
   ],
   "source": [
    "#preds = pd.DataFrame(data=preds, columns=[])\n",
    "new_preds = []\n",
    "for i in range(len(preds)):\n",
    "     new_preds.append(preds[i].argmax())\n",
    "print(new_preds[0:20])"
   ]
  },
  {
   "cell_type": "code",
   "execution_count": 71,
   "metadata": {
    "hidden": true
   },
   "outputs": [
    {
     "name": "stdout",
     "output_type": "stream",
     "text": [
      "(0, 0)\n",
      "(0, 0)\n",
      "(0, 0)\n",
      "(2, 2)\n",
      "(1, 1)\n",
      "(1, 1)\n",
      "(0, 0)\n",
      "(0, 0)\n",
      "(1, 1)\n",
      "(1, 1)\n",
      "(0, 0)\n",
      "(2, 2)\n",
      "(2, 2)\n",
      "(2, 2)\n",
      "(1, 1)\n",
      "(1, 1)\n",
      "(0, 0)\n",
      "(1, 1)\n",
      "(1, 1)\n",
      "(2, 2)\n",
      "(1, 1)\n"
     ]
    }
   ],
   "source": [
    "# Print out the actual values against their predicted values\n",
    "index = 0\n",
    "for i in zip(y_real, new_preds):\n",
    "    print(i)\n",
    "    index+=1\n",
    "    if index > 20:\n",
    "        break"
   ]
  },
  {
   "cell_type": "markdown",
   "metadata": {},
   "source": [
    "## End Predicting"
   ]
  },
  {
   "cell_type": "code",
   "execution_count": null,
   "metadata": {},
   "outputs": [],
   "source": []
  },
  {
   "cell_type": "code",
   "execution_count": null,
   "metadata": {},
   "outputs": [],
   "source": []
  },
  {
   "cell_type": "code",
   "execution_count": 39,
   "metadata": {
    "scrolled": false
   },
   "outputs": [
    {
     "data": {
      "text/plain": [
       "{'../data/models/adult_data_3_options 2018-10-16 23:03:21.173330.h5': {'NUM_IMAGES': 6000,\n",
       "  'history': <keras.callbacks.History at 0x7fd9a27b86a0>,\n",
       "  'EPOCHS': 20,\n",
       "  'IMAGE_SIZE': (128, 128),\n",
       "  'Y_MAP': {'Lung Opacity': 1, 'No Lung Opacity / Not Normal': 0, 'Normal': 2},\n",
       "  'TRAIN_SIZE': 0.8}}"
      ]
     },
     "metadata": {},
     "output_type": "display_data"
    }
   ],
   "source": [
    "display(models)"
   ]
  },
  {
   "cell_type": "code",
   "execution_count": null,
   "metadata": {},
   "outputs": [],
   "source": [
    "# Loading in the list of models/parameters\n",
    "\n",
    "model_pickle_file_name = 'models.pk'\n",
    "file_object = open(model_pickle_file_name,'r')\n",
    "\n",
    "models = pickle.load(file_object)\n",
    "file_object.close()\n",
    "\n",
    "display(models)"
   ]
  },
  {
   "cell_type": "markdown",
   "metadata": {},
   "source": [
    "# What am I trying to do now?\n",
    "- start changing models around potentially using \n",
    "    - Stochastic gradient descent\n",
    "    - [R-CNN (or a different iteration)](https://heartbeat.fritz.ai/the-5-computer-vision-techniques-that-will-change-how-you-see-the-world-1ee19334354b)\n",
    "    - [SpatialDropout2D](https://keras.io/layers/core/#spatialdropout2d)\n"
   ]
  },
  {
   "cell_type": "code",
   "execution_count": null,
   "metadata": {},
   "outputs": [],
   "source": []
  },
  {
   "cell_type": "code",
   "execution_count": null,
   "metadata": {},
   "outputs": [],
   "source": []
  },
  {
   "cell_type": "code",
   "execution_count": null,
   "metadata": {},
   "outputs": [],
   "source": []
  },
  {
   "cell_type": "markdown",
   "metadata": {},
   "source": [
    "## Modeling over full adult set for 80 epochs"
   ]
  },
  {
   "cell_type": "code",
   "execution_count": 92,
   "metadata": {},
   "outputs": [],
   "source": [
    "# Current Parameters\n",
    "options = 3\n",
    "\n",
    "\n",
    "NUM_IMAGES = pic_df.shape[0]\n",
    "EPOCHS = 80\n",
    "IMAGE_SIZE = (128,128)\n",
    "TRAIN_SIZE = 0.8\n",
    "METRICS = ['accuracy']\n",
    "\n",
    "if options == 2:\n",
    "    CURR_MAP = y_map_2\n",
    "    model_name = 'adult_data_2_options'\n",
    "elif options == 3:\n",
    "    CURR_MAP = y_map_3\n",
    "    model_name = 'adult_data_3_options'\n",
    "else:\n",
    "    raise PnemoniaTargetMapIsWeird('Set \"option\" to 2 or 3')\n"
   ]
  },
  {
   "cell_type": "code",
   "execution_count": 93,
   "metadata": {
    "scrolled": true
   },
   "outputs": [
    {
     "name": "stdout",
     "output_type": "stream",
     "text": [
      "---Enter Function---\n"
     ]
    },
    {
     "name": "stderr",
     "output_type": "stream",
     "text": [
      "/home/ec2-user/anaconda3/envs/py36/lib/python3.6/site-packages/sklearn/model_selection/_split.py:2026: FutureWarning: From version 0.21, test_size will always complement train_size unless both are specified.\n",
      "  FutureWarning)\n"
     ]
    },
    {
     "name": "stdout",
     "output_type": "stream",
     "text": [
      "---Modeling---\n",
      "Train on 22029 samples, validate on 5508 samples\n",
      "Epoch 1/80\n",
      " 3360/22029 [===>..........................] - ETA: 1:42 - loss: 1.0223 - acc: 0.4583Epoch 2/80\n",
      "22029/22029 [==============================] - 123s 6ms/step - loss: 0.8682 - acc: 0.5785 - val_loss: 0.8411 - val_acc: 0.5866\n",
      "Epoch 3/80\n",
      "22029/22029 [==============================] - 122s 6ms/step - loss: 0.8454 - acc: 0.5920 - val_loss: 0.8162 - val_acc: 0.6011\n",
      "Epoch 4/80\n",
      "22029/22029 [==============================] - 122s 6ms/step - loss: 0.8242 - acc: 0.6075 - val_loss: 0.8051 - val_acc: 0.6133\n",
      "Epoch 5/80\n",
      "22029/22029 [==============================] - 122s 6ms/step - loss: 0.8134 - acc: 0.6096 - val_loss: 0.7980 - val_acc: 0.6186\n",
      "Epoch 6/80\n",
      " 7776/22029 [=========>....................] - ETA: 1:13 - loss: 0.7967 - acc: 0.6191"
     ]
    },
    {
     "name": "stderr",
     "output_type": "stream",
     "text": [
      "IOPub message rate exceeded.\n",
      "The notebook server will temporarily stop sending output\n",
      "to the client in order to avoid crashing it.\n",
      "To change this limit, set the config variable\n",
      "`--NotebookApp.iopub_msg_rate_limit`.\n",
      "\n",
      "Current values:\n",
      "NotebookApp.iopub_msg_rate_limit=1000.0 (msgs/sec)\n",
      "NotebookApp.rate_limit_window=3.0 (secs)\n",
      "\n"
     ]
    },
    {
     "name": "stdout",
     "output_type": "stream",
     "text": [
      "22029/22029 [==============================] - 122s 6ms/step - loss: 0.7814 - acc: 0.6320 - val_loss: 0.7924 - val_acc: 0.6182\n",
      "Epoch 9/80\n",
      "22029/22029 [==============================] - 122s 6ms/step - loss: 0.7708 - acc: 0.6382 - val_loss: 0.7703 - val_acc: 0.6224\n",
      "Epoch 10/80\n",
      "22029/22029 [==============================] - 122s 6ms/step - loss: 0.7598 - acc: 0.6465 - val_loss: 0.7671 - val_acc: 0.6224\n",
      "Epoch 11/80\n",
      "22029/22029 [==============================] - 123s 6ms/step - loss: 0.7526 - acc: 0.6456 - val_loss: 0.7707 - val_acc: 0.6304\n",
      "Epoch 12/80\n",
      "  288/22029 [..............................] - ETA: 1:50 - loss: 0.7904 - acc: 0.6389"
     ]
    },
    {
     "name": "stderr",
     "output_type": "stream",
     "text": [
      "IOPub message rate exceeded.\n",
      "The notebook server will temporarily stop sending output\n",
      "to the client in order to avoid crashing it.\n",
      "To change this limit, set the config variable\n",
      "`--NotebookApp.iopub_msg_rate_limit`.\n",
      "\n",
      "Current values:\n",
      "NotebookApp.iopub_msg_rate_limit=1000.0 (msgs/sec)\n",
      "NotebookApp.rate_limit_window=3.0 (secs)\n",
      "\n"
     ]
    },
    {
     "name": "stdout",
     "output_type": "stream",
     "text": [
      "22029/22029 [==============================] - 124s 6ms/step - loss: 0.7400 - acc: 0.6560 - val_loss: 0.7557 - val_acc: 0.6365\n",
      "Epoch 14/80\n",
      "11744/22029 [==============>...............] - ETA: 53s - loss: 0.7433 - acc: 0.6545"
     ]
    },
    {
     "name": "stderr",
     "output_type": "stream",
     "text": [
      "IOPub message rate exceeded.\n",
      "The notebook server will temporarily stop sending output\n",
      "to the client in order to avoid crashing it.\n",
      "To change this limit, set the config variable\n",
      "`--NotebookApp.iopub_msg_rate_limit`.\n",
      "\n",
      "Current values:\n",
      "NotebookApp.iopub_msg_rate_limit=1000.0 (msgs/sec)\n",
      "NotebookApp.rate_limit_window=3.0 (secs)\n",
      "\n"
     ]
    },
    {
     "name": "stdout",
     "output_type": "stream",
     "text": [
      "22029/22029 [==============================] - 122s 6ms/step - loss: 0.7119 - acc: 0.6725 - val_loss: 0.7460 - val_acc: 0.6492\n",
      "Epoch 18/80\n",
      "22029/22029 [==============================] - 122s 6ms/step - loss: 0.7014 - acc: 0.6783 - val_loss: 0.7438 - val_acc: 0.6467\n",
      "Epoch 19/80\n",
      "22029/22029 [==============================] - 123s 6ms/step - loss: 0.6996 - acc: 0.6817 - val_loss: 0.7405 - val_acc: 0.6469\n",
      "Epoch 20/80\n",
      "22029/22029 [==============================] - 123s 6ms/step - loss: 0.6885 - acc: 0.6893 - val_loss: 0.7408 - val_acc: 0.6492\n",
      "Epoch 21/80\n",
      " 3712/22029 [====>.........................] - ETA: 1:34 - loss: 0.6691 - acc: 0.6945"
     ]
    },
    {
     "name": "stderr",
     "output_type": "stream",
     "text": [
      "IOPub message rate exceeded.\n",
      "The notebook server will temporarily stop sending output\n",
      "to the client in order to avoid crashing it.\n",
      "To change this limit, set the config variable\n",
      "`--NotebookApp.iopub_msg_rate_limit`.\n",
      "\n",
      "Current values:\n",
      "NotebookApp.iopub_msg_rate_limit=1000.0 (msgs/sec)\n",
      "NotebookApp.rate_limit_window=3.0 (secs)\n",
      "\n"
     ]
    },
    {
     "name": "stdout",
     "output_type": "stream",
     "text": [
      "22029/22029 [==============================] - 123s 6ms/step - loss: 0.6743 - acc: 0.6976 - val_loss: 0.7369 - val_acc: 0.6523\n",
      "Epoch 23/80\n",
      " 7328/22029 [========>.....................] - ETA: 1:15 - loss: 0.6654 - acc: 0.7028"
     ]
    },
    {
     "name": "stderr",
     "output_type": "stream",
     "text": [
      "IOPub message rate exceeded.\n",
      "The notebook server will temporarily stop sending output\n",
      "to the client in order to avoid crashing it.\n",
      "To change this limit, set the config variable\n",
      "`--NotebookApp.iopub_msg_rate_limit`.\n",
      "\n",
      "Current values:\n",
      "NotebookApp.iopub_msg_rate_limit=1000.0 (msgs/sec)\n",
      "NotebookApp.rate_limit_window=3.0 (secs)\n",
      "\n"
     ]
    },
    {
     "name": "stdout",
     "output_type": "stream",
     "text": [
      "22029/22029 [==============================] - 123s 6ms/step - loss: 0.6498 - acc: 0.7116 - val_loss: 0.7357 - val_acc: 0.6569\n",
      "Epoch 27/80\n",
      "22029/22029 [==============================] - 123s 6ms/step - loss: 0.6486 - acc: 0.7093 - val_loss: 0.7288 - val_acc: 0.6625\n",
      "Epoch 28/80\n",
      "22029/22029 [==============================] - 123s 6ms/step - loss: 0.6407 - acc: 0.7135 - val_loss: 0.7347 - val_acc: 0.6614\n",
      "Epoch 29/80\n",
      "20064/22029 [==========================>...] - ETA: 10s - loss: 0.6340 - acc: 0.7188"
     ]
    },
    {
     "name": "stderr",
     "output_type": "stream",
     "text": [
      "IOPub message rate exceeded.\n",
      "The notebook server will temporarily stop sending output\n",
      "to the client in order to avoid crashing it.\n",
      "To change this limit, set the config variable\n",
      "`--NotebookApp.iopub_msg_rate_limit`.\n",
      "\n",
      "Current values:\n",
      "NotebookApp.iopub_msg_rate_limit=1000.0 (msgs/sec)\n",
      "NotebookApp.rate_limit_window=3.0 (secs)\n",
      "\n"
     ]
    },
    {
     "name": "stdout",
     "output_type": "stream",
     "text": [
      "22029/22029 [==============================] - 123s 6ms/step - loss: 0.6199 - acc: 0.7289 - val_loss: 0.7288 - val_acc: 0.6645\n",
      "Epoch 32/80\n",
      " 8032/22029 [=========>....................] - ETA: 1:12 - loss: 0.6229 - acc: 0.7251"
     ]
    },
    {
     "name": "stderr",
     "output_type": "stream",
     "text": [
      "IOPub message rate exceeded.\n",
      "The notebook server will temporarily stop sending output\n",
      "to the client in order to avoid crashing it.\n",
      "To change this limit, set the config variable\n",
      "`--NotebookApp.iopub_msg_rate_limit`.\n",
      "\n",
      "Current values:\n",
      "NotebookApp.iopub_msg_rate_limit=1000.0 (msgs/sec)\n",
      "NotebookApp.rate_limit_window=3.0 (secs)\n",
      "\n"
     ]
    },
    {
     "name": "stdout",
     "output_type": "stream",
     "text": [
      "22029/22029 [==============================] - 123s 6ms/step - loss: 0.5960 - acc: 0.7352 - val_loss: 0.7286 - val_acc: 0.6676\n",
      "Epoch 36/80\n",
      "22029/22029 [==============================] - 123s 6ms/step - loss: 0.5927 - acc: 0.7400 - val_loss: 0.7241 - val_acc: 0.6652\n",
      "Epoch 37/80\n",
      "22029/22029 [==============================] - 125s 6ms/step - loss: 0.5866 - acc: 0.7445 - val_loss: 0.7230 - val_acc: 0.6649\n",
      "Epoch 38/80\n",
      "13600/22029 [=================>............] - ETA: 43s - loss: 0.5873 - acc: 0.7399"
     ]
    },
    {
     "name": "stderr",
     "output_type": "stream",
     "text": [
      "IOPub message rate exceeded.\n",
      "The notebook server will temporarily stop sending output\n",
      "to the client in order to avoid crashing it.\n",
      "To change this limit, set the config variable\n",
      "`--NotebookApp.iopub_msg_rate_limit`.\n",
      "\n",
      "Current values:\n",
      "NotebookApp.iopub_msg_rate_limit=1000.0 (msgs/sec)\n",
      "NotebookApp.rate_limit_window=3.0 (secs)\n",
      "\n"
     ]
    },
    {
     "name": "stdout",
     "output_type": "stream",
     "text": [
      "22029/22029 [==============================] - 122s 6ms/step - loss: 0.5762 - acc: 0.7493 - val_loss: 0.7265 - val_acc: 0.6710\n",
      "Epoch 41/80\n",
      " 9024/22029 [===========>..................] - ETA: 1:06 - loss: 0.5675 - acc: 0.7534"
     ]
    },
    {
     "name": "stderr",
     "output_type": "stream",
     "text": [
      "IOPub message rate exceeded.\n",
      "The notebook server will temporarily stop sending output\n",
      "to the client in order to avoid crashing it.\n",
      "To change this limit, set the config variable\n",
      "`--NotebookApp.iopub_msg_rate_limit`.\n",
      "\n",
      "Current values:\n",
      "NotebookApp.iopub_msg_rate_limit=1000.0 (msgs/sec)\n",
      "NotebookApp.rate_limit_window=3.0 (secs)\n",
      "\n"
     ]
    },
    {
     "name": "stdout",
     "output_type": "stream",
     "text": [
      "22029/22029 [==============================] - 125s 6ms/step - loss: 0.5561 - acc: 0.7594 - val_loss: 0.7282 - val_acc: 0.6734\n",
      "Epoch 45/80\n",
      "22029/22029 [==============================] - 124s 6ms/step - loss: 0.5475 - acc: 0.7623 - val_loss: 0.7345 - val_acc: 0.6785\n",
      "Epoch 46/80\n",
      "22029/22029 [==============================] - 125s 6ms/step - loss: 0.5434 - acc: 0.7684 - val_loss: 0.7241 - val_acc: 0.6877\n",
      "Epoch 47/80\n",
      "15136/22029 [===================>..........] - ETA: 35s - loss: 0.5369 - acc: 0.7713"
     ]
    },
    {
     "name": "stderr",
     "output_type": "stream",
     "text": [
      "IOPub message rate exceeded.\n",
      "The notebook server will temporarily stop sending output\n",
      "to the client in order to avoid crashing it.\n",
      "To change this limit, set the config variable\n",
      "`--NotebookApp.iopub_msg_rate_limit`.\n",
      "\n",
      "Current values:\n",
      "NotebookApp.iopub_msg_rate_limit=1000.0 (msgs/sec)\n",
      "NotebookApp.rate_limit_window=3.0 (secs)\n",
      "\n"
     ]
    },
    {
     "name": "stdout",
     "output_type": "stream",
     "text": [
      "22029/22029 [==============================] - 125s 6ms/step - loss: 0.5325 - acc: 0.7742 - val_loss: 0.7297 - val_acc: 0.6837\n",
      "Epoch 50/80\n",
      " 2944/22029 [===>..........................] - ETA: 1:39 - loss: 0.5316 - acc: 0.7680"
     ]
    },
    {
     "name": "stderr",
     "output_type": "stream",
     "text": [
      "IOPub message rate exceeded.\n",
      "The notebook server will temporarily stop sending output\n",
      "to the client in order to avoid crashing it.\n",
      "To change this limit, set the config variable\n",
      "`--NotebookApp.iopub_msg_rate_limit`.\n",
      "\n",
      "Current values:\n",
      "NotebookApp.iopub_msg_rate_limit=1000.0 (msgs/sec)\n",
      "NotebookApp.rate_limit_window=3.0 (secs)\n",
      "\n"
     ]
    },
    {
     "name": "stdout",
     "output_type": "stream",
     "text": [
      "22029/22029 [==============================] - 125s 6ms/step - loss: 0.5130 - acc: 0.7831 - val_loss: 0.7506 - val_acc: 0.6687\n",
      "Epoch 53/80\n",
      "22029/22029 [==============================] - 127s 6ms/step - loss: 0.5133 - acc: 0.7802 - val_loss: 0.7293 - val_acc: 0.6718\n",
      "Epoch 54/80\n",
      "22029/22029 [==============================] - 123s 6ms/step - loss: 0.5112 - acc: 0.7816 - val_loss: 0.7229 - val_acc: 0.6783\n",
      "Epoch 55/80\n",
      "22029/22029 [==============================] - 124s 6ms/step - loss: 0.5169 - acc: 0.7802 - val_loss: 0.7389 - val_acc: 0.6750\n",
      "Epoch 56/80\n",
      "22029/22029 [==============================] - 126s 6ms/step - loss: 0.5064 - acc: 0.7849 - val_loss: 0.7189 - val_acc: 0.6772\n",
      "Epoch 57/80\n",
      "22029/22029 [==============================] - 125s 6ms/step - loss: 0.4968 - acc: 0.7919 - val_loss: 0.7110 - val_acc: 0.6837\n",
      "Epoch 58/80\n",
      "22029/22029 [==============================] - 126s 6ms/step - loss: 0.4933 - acc: 0.7934 - val_loss: 0.7181 - val_acc: 0.6870\n",
      "Epoch 59/80\n",
      "22029/22029 [==============================] - 126s 6ms/step - loss: 0.4887 - acc: 0.7950 - val_loss: 0.7088 - val_acc: 0.6854\n",
      "Epoch 60/80\n",
      "22029/22029 [==============================] - 126s 6ms/step - loss: 0.4832 - acc: 0.7964 - val_loss: 0.7093 - val_acc: 0.6854\n",
      "Epoch 61/80\n",
      "22029/22029 [==============================] - 125s 6ms/step - loss: 0.4803 - acc: 0.7987 - val_loss: 0.7308 - val_acc: 0.6806\n",
      "Epoch 62/80\n",
      "22029/22029 [==============================] - 126s 6ms/step - loss: 0.4791 - acc: 0.8009 - val_loss: 0.7346 - val_acc: 0.6750\n",
      "Epoch 63/80\n",
      "22029/22029 [==============================] - 125s 6ms/step - loss: 0.4713 - acc: 0.8016 - val_loss: 0.7229 - val_acc: 0.6872\n",
      "Epoch 64/80\n",
      "22029/22029 [==============================] - 122s 6ms/step - loss: 0.4696 - acc: 0.8019 - val_loss: 0.7233 - val_acc: 0.6843\n",
      "Epoch 65/80\n",
      "22029/22029 [==============================] - 122s 6ms/step - loss: 0.4817 - acc: 0.7993 - val_loss: 0.7273 - val_acc: 0.6801\n",
      "Epoch 66/80\n",
      "22029/22029 [==============================] - 122s 6ms/step - loss: 0.4702 - acc: 0.8070 - val_loss: 0.7242 - val_acc: 0.6894\n",
      "Epoch 67/80\n",
      "22029/22029 [==============================] - 122s 6ms/step - loss: 0.4630 - acc: 0.8076 - val_loss: 0.7359 - val_acc: 0.6855\n",
      "Epoch 68/80\n",
      "22029/22029 [==============================] - 122s 6ms/step - loss: 0.4578 - acc: 0.8102 - val_loss: 0.7150 - val_acc: 0.6852\n",
      "Epoch 69/80\n",
      "22029/22029 [==============================] - 122s 6ms/step - loss: 0.4583 - acc: 0.8094 - val_loss: 0.7366 - val_acc: 0.6803\n",
      "Epoch 70/80\n",
      "22029/22029 [==============================] - 122s 6ms/step - loss: 0.4528 - acc: 0.8111 - val_loss: 0.7134 - val_acc: 0.6885\n",
      "Epoch 71/80\n",
      "22029/22029 [==============================] - 122s 6ms/step - loss: 0.4567 - acc: 0.8122 - val_loss: 0.7339 - val_acc: 0.6810\n",
      "Epoch 72/80\n",
      "22029/22029 [==============================] - 122s 6ms/step - loss: 0.4487 - acc: 0.8106 - val_loss: 0.7146 - val_acc: 0.6903\n",
      "Epoch 73/80\n",
      "22029/22029 [==============================] - 122s 6ms/step - loss: 0.4415 - acc: 0.8154 - val_loss: 0.7256 - val_acc: 0.6859\n",
      "Epoch 74/80\n",
      "22029/22029 [==============================] - 121s 6ms/step - loss: 0.4465 - acc: 0.8155 - val_loss: 0.7428 - val_acc: 0.6814\n",
      "Epoch 75/80\n",
      "22029/22029 [==============================] - 122s 6ms/step - loss: 0.4350 - acc: 0.8204 - val_loss: 0.7386 - val_acc: 0.6819\n",
      "Epoch 76/80\n",
      "22029/22029 [==============================] - 122s 6ms/step - loss: 0.4407 - acc: 0.8181 - val_loss: 0.7101 - val_acc: 0.6863\n",
      "Epoch 77/80\n",
      "22029/22029 [==============================] - 122s 6ms/step - loss: 0.4318 - acc: 0.8226 - val_loss: 0.7320 - val_acc: 0.6796\n",
      "Epoch 78/80\n",
      "22029/22029 [==============================] - 122s 6ms/step - loss: 0.4380 - acc: 0.8166 - val_loss: 0.7212 - val_acc: 0.6872\n",
      "Epoch 79/80\n",
      "22029/22029 [==============================] - 122s 6ms/step - loss: 0.4372 - acc: 0.8230 - val_loss: 0.7206 - val_acc: 0.6828\n",
      "Epoch 80/80\n",
      "22029/22029 [==============================] - 122s 6ms/step - loss: 0.4188 - acc: 0.8288 - val_loss: 0.7212 - val_acc: 0.6857\n",
      "Model saved as: ../data/models/adult_data_3_options 2018-10-17 03:15:52.526120.h5\n",
      "CPU times: user 11h 16min 1s, sys: 3h 31min 54s, total: 14h 47min 56s\n",
      "Wall time: 2h 44min 24s\n"
     ]
    }
   ],
   "source": [
    "%%time\n",
    "\n",
    "test_model_history, test_model_real, most_recent_model_name = model(pic_df.head(NUM_IMAGES), model_name = model_name, image_size=IMAGE_SIZE, y_map=CURR_MAP, EPOCHS=EPOCHS, train_size = TRAIN_SIZE, metrics = METRICS)\n",
    "\n"
   ]
  },
  {
   "cell_type": "code",
   "execution_count": 94,
   "metadata": {
    "code_folding": []
   },
   "outputs": [],
   "source": [
    "models[most_recent_model_name] = {\n",
    "    'NUM_IMAGES':NUM_IMAGES,\n",
    "    'history':test_model_history,\n",
    "    'EPOCHS':EPOCHS,\n",
    "    'IMAGE_SIZE':IMAGE_SIZE,\n",
    "    'Y_MAP':CURR_MAP,\n",
    "    'TRAIN_SIZE':TRAIN_SIZE,\n",
    "    'accuracy_scores':{\n",
    "        'train':test_model_history.history['acc'][-1],\n",
    "        'test':test_model_history.history['val_acc'][-1]\n",
    "    }\n",
    "}\n",
    "\n",
    "# Save the list of models and parameters \n",
    "model_pickle_file_name = 'models.pk'\n",
    "file_object = open(model_pickle_file_name,'wb')\n",
    "pickle.dump(models, file_object)\n",
    "file_object.close()\n"
   ]
  },
  {
   "cell_type": "code",
   "execution_count": 95,
   "metadata": {
    "scrolled": false
   },
   "outputs": [
    {
     "data": {
      "image/png": "[encoded data removed]",
      "text/plain": [
       "<Figure size 432x864 with 2 Axes>"
      ]
     },
     "metadata": {
      "image/png": {
       "height": 769,
       "width": 484
      },
      "needs_background": "light"
     },
     "output_type": "display_data"
    }
   ],
   "source": [
    "graph_size = 6\n",
    "evaluate_model(test_model_history, most_recent_model_name, size=graph_size)\n"
   ]
  },
  {
   "cell_type": "code",
   "execution_count": null,
   "metadata": {},
   "outputs": [],
   "source": []
  }
 ],
 "metadata": {
  "kernelspec": {
   "display_name": "Python 3",
   "language": "python",
   "name": "python3"
  },
  "language_info": {
   "codemirror_mode": {
    "name": "ipython",
    "version": 3
   },
   "file_extension": ".py",
   "mimetype": "text/x-python",
   "name": "python",
   "nbconvert_exporter": "python",
   "pygments_lexer": "ipython3",
   "version": "3.6.6"
  },
  "latex_envs": {
   "LaTeX_envs_menu_present": true,
   "autoclose": false,
   "autocomplete": true,
   "bibliofile": "biblio.bib",
   "cite_by": "apalike",
   "current_citInitial": 1,
   "eqLabelWithNumbers": true,
   "eqNumInitial": 1,
   "hotkeys": {
    "equation": "Ctrl-E",
    "itemize": "Ctrl-I"
   },
   "labels_anchors": false,
   "latex_user_defs": false,
   "report_style_numbering": false,
   "user_envs_cfg": false
  },
  "notify_time": "30",
  "varInspector": {
   "cols": {
    "lenName": 16,
    "lenType": 16,
    "lenVar": 40
   },
   "kernels_config": {
    "python": {
     "delete_cmd_postfix": "",
     "delete_cmd_prefix": "del ",
     "library": "var_list.py",
     "varRefreshCmd": "print(var_dic_list())"
    },
    "r": {
     "delete_cmd_postfix": ") ",
     "delete_cmd_prefix": "rm(",
     "library": "var_list.r",
     "varRefreshCmd": "cat(var_dic_list()) "
    }
   },
   "position": {
    "height": "474px",
    "left": "819px",
    "right": "20px",
    "top": "120px",
    "width": "359px"
   },
   "types_to_exclude": [
    "module",
    "function",
    "builtin_function_or_method",
    "instance",
    "_Feature"
   ],
   "window_display": false
  }
 },
 "nbformat": 4,
 "nbformat_minor": 2
}
